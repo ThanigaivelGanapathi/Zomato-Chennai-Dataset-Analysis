{
 "cells": [
  {
   "cell_type": "code",
   "execution_count": 1,
   "id": "94a06e70-4d00-46c1-a9aa-28812ae73b7b",
   "metadata": {},
   "outputs": [],
   "source": [
    "#importing Libraries\n",
    "import pandas as pd\n",
    "import numpy as np\n",
    "import matplotlib.pyplot as plt\n",
    "import seaborn\n",
    "import warnings\n",
    "import plotly.express as px "
   ]
  },
  {
   "cell_type": "code",
   "execution_count": 2,
   "id": "8248a7f0-e8de-4236-9099-1d53721a4632",
   "metadata": {},
   "outputs": [],
   "source": [
    "#To Suppress the Warnings\n",
    "warnings.filterwarnings(\"ignore\")"
   ]
  },
  {
   "cell_type": "code",
   "execution_count": 3,
   "id": "7ec9933d-d0ef-49d9-93f2-5f4fd6e76741",
   "metadata": {},
   "outputs": [
    {
     "data": {
      "text/html": [
       "<div>\n",
       "<style scoped>\n",
       "    .dataframe tbody tr th:only-of-type {\n",
       "        vertical-align: middle;\n",
       "    }\n",
       "\n",
       "    .dataframe tbody tr th {\n",
       "        vertical-align: top;\n",
       "    }\n",
       "\n",
       "    .dataframe thead th {\n",
       "        text-align: right;\n",
       "    }\n",
       "</style>\n",
       "<table border=\"1\" class=\"dataframe\">\n",
       "  <thead>\n",
       "    <tr style=\"text-align: right;\">\n",
       "      <th></th>\n",
       "      <th>Zomato URL</th>\n",
       "      <th>Name of Restaurant</th>\n",
       "      <th>Address</th>\n",
       "      <th>Location</th>\n",
       "      <th>Cuisine</th>\n",
       "      <th>Top Dishes</th>\n",
       "      <th>Price for 2</th>\n",
       "      <th>Dining Rating</th>\n",
       "      <th>Dining Rating Count</th>\n",
       "      <th>Delivery Rating</th>\n",
       "      <th>Delivery Rating Count</th>\n",
       "      <th>Features</th>\n",
       "    </tr>\n",
       "  </thead>\n",
       "  <tbody>\n",
       "    <tr>\n",
       "      <th>0</th>\n",
       "      <td>https://www.zomato.com/chennai/yaa-mohaideen-b...</td>\n",
       "      <td>Yaa Mohaideen Briyani</td>\n",
       "      <td>336 &amp; 338, Main Road, Pallavaram, Chennai</td>\n",
       "      <td>Pallavaram</td>\n",
       "      <td>['Biryani']</td>\n",
       "      <td>['Bread Halwa', ' Chicken 65', ' Mutton Biryan...</td>\n",
       "      <td>500.0</td>\n",
       "      <td>4.3</td>\n",
       "      <td>1500</td>\n",
       "      <td>4.3</td>\n",
       "      <td>9306</td>\n",
       "      <td>['Home Delivery', 'Indoor Seating']</td>\n",
       "    </tr>\n",
       "    <tr>\n",
       "      <th>1</th>\n",
       "      <td>https://www.zomato.com/chennai/sukkubhai-biriy...</td>\n",
       "      <td>Sukkubhai Biriyani</td>\n",
       "      <td>New 14, Old 11/3Q, Railway Station Road, MKN ...</td>\n",
       "      <td>Alandur</td>\n",
       "      <td>['Biryani', ' North Indian', ' Mughlai', ' Des...</td>\n",
       "      <td>['Beef Biryani', ' Beef Fry', ' Paratha', ' Pa...</td>\n",
       "      <td>1000.0</td>\n",
       "      <td>4.4</td>\n",
       "      <td>3059</td>\n",
       "      <td>4.1</td>\n",
       "      <td>39200</td>\n",
       "      <td>['Home Delivery', 'Free Parking', 'Table booki...</td>\n",
       "    </tr>\n",
       "    <tr>\n",
       "      <th>2</th>\n",
       "      <td>https://www.zomato.com/chennai/ss-hyderabad-bi...</td>\n",
       "      <td>SS Hyderabad Biryani</td>\n",
       "      <td>98/339, Arcot Road, Opposite Gokulam Chit Fun...</td>\n",
       "      <td>Kodambakkam</td>\n",
       "      <td>['Biryani', ' North Indian', ' Chinese', ' Ara...</td>\n",
       "      <td>['Brinjal Curry', ' Tandoori Chicken', ' Chick...</td>\n",
       "      <td>500.0</td>\n",
       "      <td>4.3</td>\n",
       "      <td>1361</td>\n",
       "      <td>4.4</td>\n",
       "      <td>10500</td>\n",
       "      <td>['Home Delivery', 'Indoor Seating']</td>\n",
       "    </tr>\n",
       "    <tr>\n",
       "      <th>3</th>\n",
       "      <td>https://www.zomato.com/chennai/kfc-perambur</td>\n",
       "      <td>KFC</td>\n",
       "      <td>10, Periyar Nagar, 70 Feet Road, Near Sheeba ...</td>\n",
       "      <td>Perambur</td>\n",
       "      <td>['Burger', ' Fast Food', ' Finger Food', ' Bev...</td>\n",
       "      <td>['Zinger Burger']</td>\n",
       "      <td>500.0</td>\n",
       "      <td>4.0</td>\n",
       "      <td>1101</td>\n",
       "      <td>4.0</td>\n",
       "      <td>11200</td>\n",
       "      <td>['Home Delivery', 'Free Parking', 'Card Upon D...</td>\n",
       "    </tr>\n",
       "    <tr>\n",
       "      <th>4</th>\n",
       "      <td>https://www.zomato.com/chennai/tasty-kitchen-p...</td>\n",
       "      <td>Tasty Kitchen</td>\n",
       "      <td>135B, SRP Colony, Peravallur, Near Perambur, ...</td>\n",
       "      <td>Perambur</td>\n",
       "      <td>['Chinese', ' Biryani', ' North Indian', ' Che...</td>\n",
       "      <td>['Mutton Biryani', ' Chicken Rice', ' Tomato R...</td>\n",
       "      <td>450.0</td>\n",
       "      <td>4.2</td>\n",
       "      <td>617</td>\n",
       "      <td>4.1</td>\n",
       "      <td>22400</td>\n",
       "      <td>['Home Delivery', 'Indoor Seating']</td>\n",
       "    </tr>\n",
       "    <tr>\n",
       "      <th>...</th>\n",
       "      <td>...</td>\n",
       "      <td>...</td>\n",
       "      <td>...</td>\n",
       "      <td>...</td>\n",
       "      <td>...</td>\n",
       "      <td>...</td>\n",
       "      <td>...</td>\n",
       "      <td>...</td>\n",
       "      <td>...</td>\n",
       "      <td>...</td>\n",
       "      <td>...</td>\n",
       "      <td>...</td>\n",
       "    </tr>\n",
       "    <tr>\n",
       "      <th>12027</th>\n",
       "      <td>https://www.zomato.com/chennai/cks-sandwiches-...</td>\n",
       "      <td>CK's Sandwiches</td>\n",
       "      <td>Delivery Only</td>\n",
       "      <td>Porur</td>\n",
       "      <td>['Sandwich']</td>\n",
       "      <td>Invalid</td>\n",
       "      <td>350.0</td>\n",
       "      <td>NaN</td>\n",
       "      <td>NaN</td>\n",
       "      <td>NaN</td>\n",
       "      <td>NaN</td>\n",
       "      <td>['Breakfast', 'Delivery Only']</td>\n",
       "    </tr>\n",
       "    <tr>\n",
       "      <th>12028</th>\n",
       "      <td>https://www.zomato.com/chennai/cks-sandwiches-...</td>\n",
       "      <td>CK's Sandwiches</td>\n",
       "      <td>Delivery Only</td>\n",
       "      <td>Kolathur</td>\n",
       "      <td>['Sandwich']</td>\n",
       "      <td>Invalid</td>\n",
       "      <td>350.0</td>\n",
       "      <td>NaN</td>\n",
       "      <td>NaN</td>\n",
       "      <td>NaN</td>\n",
       "      <td>NaN</td>\n",
       "      <td>['Breakfast', 'Delivery Only']</td>\n",
       "    </tr>\n",
       "    <tr>\n",
       "      <th>12029</th>\n",
       "      <td>https://www.zomato.com/chennai/cks-sandwiches-...</td>\n",
       "      <td>CK's Sandwiches</td>\n",
       "      <td>Delivery Only</td>\n",
       "      <td>Anna Nagar East</td>\n",
       "      <td>['Sandwich']</td>\n",
       "      <td>Invalid</td>\n",
       "      <td>350.0</td>\n",
       "      <td>NaN</td>\n",
       "      <td>NaN</td>\n",
       "      <td>NaN</td>\n",
       "      <td>NaN</td>\n",
       "      <td>['Breakfast', 'Delivery Only']</td>\n",
       "    </tr>\n",
       "    <tr>\n",
       "      <th>12030</th>\n",
       "      <td>https://www.zomato.com/chennai/cks-sandwiches-...</td>\n",
       "      <td>CK's Sandwiches</td>\n",
       "      <td>Delivery Only</td>\n",
       "      <td>Ramapuram</td>\n",
       "      <td>['Sandwich']</td>\n",
       "      <td>Invalid</td>\n",
       "      <td>350.0</td>\n",
       "      <td>NaN</td>\n",
       "      <td>NaN</td>\n",
       "      <td>NaN</td>\n",
       "      <td>NaN</td>\n",
       "      <td>['Breakfast', 'Delivery Only']</td>\n",
       "    </tr>\n",
       "    <tr>\n",
       "      <th>12031</th>\n",
       "      <td>https://www.zomato.com/chennai/cks-sandwiches-...</td>\n",
       "      <td>CK's Sandwiches</td>\n",
       "      <td>Delivery Only</td>\n",
       "      <td>Sholinganallur</td>\n",
       "      <td>['Sandwich']</td>\n",
       "      <td>Invalid</td>\n",
       "      <td>350.0</td>\n",
       "      <td>NaN</td>\n",
       "      <td>NaN</td>\n",
       "      <td>NaN</td>\n",
       "      <td>NaN</td>\n",
       "      <td>['Breakfast', 'Delivery Only']</td>\n",
       "    </tr>\n",
       "  </tbody>\n",
       "</table>\n",
       "<p>12032 rows × 12 columns</p>\n",
       "</div>"
      ],
      "text/plain": [
       "                                              Zomato URL  \\\n",
       "0      https://www.zomato.com/chennai/yaa-mohaideen-b...   \n",
       "1      https://www.zomato.com/chennai/sukkubhai-biriy...   \n",
       "2      https://www.zomato.com/chennai/ss-hyderabad-bi...   \n",
       "3            https://www.zomato.com/chennai/kfc-perambur   \n",
       "4      https://www.zomato.com/chennai/tasty-kitchen-p...   \n",
       "...                                                  ...   \n",
       "12027  https://www.zomato.com/chennai/cks-sandwiches-...   \n",
       "12028  https://www.zomato.com/chennai/cks-sandwiches-...   \n",
       "12029  https://www.zomato.com/chennai/cks-sandwiches-...   \n",
       "12030  https://www.zomato.com/chennai/cks-sandwiches-...   \n",
       "12031  https://www.zomato.com/chennai/cks-sandwiches-...   \n",
       "\n",
       "          Name of Restaurant  \\\n",
       "0      Yaa Mohaideen Briyani   \n",
       "1         Sukkubhai Biriyani   \n",
       "2       SS Hyderabad Biryani   \n",
       "3                        KFC   \n",
       "4              Tasty Kitchen   \n",
       "...                      ...   \n",
       "12027        CK's Sandwiches   \n",
       "12028        CK's Sandwiches   \n",
       "12029        CK's Sandwiches   \n",
       "12030        CK's Sandwiches   \n",
       "12031        CK's Sandwiches   \n",
       "\n",
       "                                                 Address         Location  \\\n",
       "0              336 & 338, Main Road, Pallavaram, Chennai       Pallavaram   \n",
       "1       New 14, Old 11/3Q, Railway Station Road, MKN ...          Alandur   \n",
       "2       98/339, Arcot Road, Opposite Gokulam Chit Fun...      Kodambakkam   \n",
       "3       10, Periyar Nagar, 70 Feet Road, Near Sheeba ...         Perambur   \n",
       "4       135B, SRP Colony, Peravallur, Near Perambur, ...         Perambur   \n",
       "...                                                  ...              ...   \n",
       "12027                                      Delivery Only            Porur   \n",
       "12028                                      Delivery Only         Kolathur   \n",
       "12029                                      Delivery Only  Anna Nagar East   \n",
       "12030                                      Delivery Only        Ramapuram   \n",
       "12031                                      Delivery Only   Sholinganallur   \n",
       "\n",
       "                                                 Cuisine  \\\n",
       "0                                            ['Biryani']   \n",
       "1      ['Biryani', ' North Indian', ' Mughlai', ' Des...   \n",
       "2      ['Biryani', ' North Indian', ' Chinese', ' Ara...   \n",
       "3      ['Burger', ' Fast Food', ' Finger Food', ' Bev...   \n",
       "4      ['Chinese', ' Biryani', ' North Indian', ' Che...   \n",
       "...                                                  ...   \n",
       "12027                                       ['Sandwich']   \n",
       "12028                                       ['Sandwich']   \n",
       "12029                                       ['Sandwich']   \n",
       "12030                                       ['Sandwich']   \n",
       "12031                                       ['Sandwich']   \n",
       "\n",
       "                                              Top Dishes  Price for 2  \\\n",
       "0      ['Bread Halwa', ' Chicken 65', ' Mutton Biryan...        500.0   \n",
       "1      ['Beef Biryani', ' Beef Fry', ' Paratha', ' Pa...       1000.0   \n",
       "2      ['Brinjal Curry', ' Tandoori Chicken', ' Chick...        500.0   \n",
       "3                                      ['Zinger Burger']        500.0   \n",
       "4      ['Mutton Biryani', ' Chicken Rice', ' Tomato R...        450.0   \n",
       "...                                                  ...          ...   \n",
       "12027                                            Invalid        350.0   \n",
       "12028                                            Invalid        350.0   \n",
       "12029                                            Invalid        350.0   \n",
       "12030                                            Invalid        350.0   \n",
       "12031                                            Invalid        350.0   \n",
       "\n",
       "       Dining Rating Dining Rating Count  Delivery Rating  \\\n",
       "0                4.3                1500              4.3   \n",
       "1                4.4                3059              4.1   \n",
       "2                4.3                1361              4.4   \n",
       "3                4.0                1101              4.0   \n",
       "4                4.2                 617              4.1   \n",
       "...              ...                 ...              ...   \n",
       "12027            NaN                 NaN              NaN   \n",
       "12028            NaN                 NaN              NaN   \n",
       "12029            NaN                 NaN              NaN   \n",
       "12030            NaN                 NaN              NaN   \n",
       "12031            NaN                 NaN              NaN   \n",
       "\n",
       "      Delivery Rating Count                                           Features  \n",
       "0                      9306                ['Home Delivery', 'Indoor Seating']  \n",
       "1                     39200  ['Home Delivery', 'Free Parking', 'Table booki...  \n",
       "2                     10500                ['Home Delivery', 'Indoor Seating']  \n",
       "3                     11200  ['Home Delivery', 'Free Parking', 'Card Upon D...  \n",
       "4                     22400                ['Home Delivery', 'Indoor Seating']  \n",
       "...                     ...                                                ...  \n",
       "12027                   NaN                     ['Breakfast', 'Delivery Only']  \n",
       "12028                   NaN                     ['Breakfast', 'Delivery Only']  \n",
       "12029                   NaN                     ['Breakfast', 'Delivery Only']  \n",
       "12030                   NaN                     ['Breakfast', 'Delivery Only']  \n",
       "12031                   NaN                     ['Breakfast', 'Delivery Only']  \n",
       "\n",
       "[12032 rows x 12 columns]"
      ]
     },
     "execution_count": 3,
     "metadata": {},
     "output_type": "execute_result"
    }
   ],
   "source": [
    "#Loading Dataset\n",
    "dataset = pd.read_csv(\"Zomato_Chennai_Dataset.csv\")\n",
    "dataset"
   ]
  },
  {
   "cell_type": "code",
   "execution_count": 4,
   "id": "81d8e4f9-e218-41d7-b2b4-ee6aee996219",
   "metadata": {},
   "outputs": [
    {
     "data": {
      "text/plain": [
       "(12032, 12)"
      ]
     },
     "execution_count": 4,
     "metadata": {},
     "output_type": "execute_result"
    }
   ],
   "source": [
    "dataset.shape"
   ]
  },
  {
   "cell_type": "code",
   "execution_count": 5,
   "id": "7f1fcb04-9c00-4007-a940-59b00f1ea2dc",
   "metadata": {},
   "outputs": [
    {
     "name": "stdout",
     "output_type": "stream",
     "text": [
      "<class 'pandas.core.frame.DataFrame'>\n",
      "RangeIndex: 12032 entries, 0 to 12031\n",
      "Data columns (total 12 columns):\n",
      " #   Column                 Non-Null Count  Dtype  \n",
      "---  ------                 --------------  -----  \n",
      " 0   Zomato URL             12032 non-null  object \n",
      " 1   Name of Restaurant     12032 non-null  object \n",
      " 2   Address                12032 non-null  object \n",
      " 3   Location               12032 non-null  object \n",
      " 4   Cuisine                12032 non-null  object \n",
      " 5   Top Dishes             12032 non-null  object \n",
      " 6   Price for 2            12032 non-null  float64\n",
      " 7   Dining Rating          6681 non-null   float64\n",
      " 8   Dining Rating Count    11812 non-null  object \n",
      " 9   Delivery Rating        6181 non-null   float64\n",
      " 10  Delivery Rating Count  11812 non-null  object \n",
      " 11  Features               12032 non-null  object \n",
      "dtypes: float64(3), object(9)\n",
      "memory usage: 1.1+ MB\n"
     ]
    }
   ],
   "source": [
    "dataset.info()"
   ]
  },
  {
   "cell_type": "code",
   "execution_count": 6,
   "id": "e3c3d763-2923-48d6-8c21-322a45383f16",
   "metadata": {},
   "outputs": [
    {
     "data": {
      "text/html": [
       "<div>\n",
       "<style scoped>\n",
       "    .dataframe tbody tr th:only-of-type {\n",
       "        vertical-align: middle;\n",
       "    }\n",
       "\n",
       "    .dataframe tbody tr th {\n",
       "        vertical-align: top;\n",
       "    }\n",
       "\n",
       "    .dataframe thead th {\n",
       "        text-align: right;\n",
       "    }\n",
       "</style>\n",
       "<table border=\"1\" class=\"dataframe\">\n",
       "  <thead>\n",
       "    <tr style=\"text-align: right;\">\n",
       "      <th></th>\n",
       "      <th>Name of Restaurant</th>\n",
       "      <th>Location</th>\n",
       "      <th>Cuisine</th>\n",
       "      <th>Top Dishes</th>\n",
       "      <th>Price for 2</th>\n",
       "      <th>Dining Rating</th>\n",
       "      <th>Dining Rating Count</th>\n",
       "      <th>Delivery Rating</th>\n",
       "      <th>Delivery Rating Count</th>\n",
       "      <th>Features</th>\n",
       "    </tr>\n",
       "  </thead>\n",
       "  <tbody>\n",
       "    <tr>\n",
       "      <th>0</th>\n",
       "      <td>Yaa Mohaideen Briyani</td>\n",
       "      <td>Pallavaram</td>\n",
       "      <td>['Biryani']</td>\n",
       "      <td>['Bread Halwa', ' Chicken 65', ' Mutton Biryan...</td>\n",
       "      <td>500.0</td>\n",
       "      <td>4.3</td>\n",
       "      <td>1500</td>\n",
       "      <td>4.3</td>\n",
       "      <td>9306</td>\n",
       "      <td>['Home Delivery', 'Indoor Seating']</td>\n",
       "    </tr>\n",
       "    <tr>\n",
       "      <th>1</th>\n",
       "      <td>Sukkubhai Biriyani</td>\n",
       "      <td>Alandur</td>\n",
       "      <td>['Biryani', ' North Indian', ' Mughlai', ' Des...</td>\n",
       "      <td>['Beef Biryani', ' Beef Fry', ' Paratha', ' Pa...</td>\n",
       "      <td>1000.0</td>\n",
       "      <td>4.4</td>\n",
       "      <td>3059</td>\n",
       "      <td>4.1</td>\n",
       "      <td>39200</td>\n",
       "      <td>['Home Delivery', 'Free Parking', 'Table booki...</td>\n",
       "    </tr>\n",
       "    <tr>\n",
       "      <th>2</th>\n",
       "      <td>SS Hyderabad Biryani</td>\n",
       "      <td>Kodambakkam</td>\n",
       "      <td>['Biryani', ' North Indian', ' Chinese', ' Ara...</td>\n",
       "      <td>['Brinjal Curry', ' Tandoori Chicken', ' Chick...</td>\n",
       "      <td>500.0</td>\n",
       "      <td>4.3</td>\n",
       "      <td>1361</td>\n",
       "      <td>4.4</td>\n",
       "      <td>10500</td>\n",
       "      <td>['Home Delivery', 'Indoor Seating']</td>\n",
       "    </tr>\n",
       "    <tr>\n",
       "      <th>3</th>\n",
       "      <td>KFC</td>\n",
       "      <td>Perambur</td>\n",
       "      <td>['Burger', ' Fast Food', ' Finger Food', ' Bev...</td>\n",
       "      <td>['Zinger Burger']</td>\n",
       "      <td>500.0</td>\n",
       "      <td>4.0</td>\n",
       "      <td>1101</td>\n",
       "      <td>4.0</td>\n",
       "      <td>11200</td>\n",
       "      <td>['Home Delivery', 'Free Parking', 'Card Upon D...</td>\n",
       "    </tr>\n",
       "    <tr>\n",
       "      <th>4</th>\n",
       "      <td>Tasty Kitchen</td>\n",
       "      <td>Perambur</td>\n",
       "      <td>['Chinese', ' Biryani', ' North Indian', ' Che...</td>\n",
       "      <td>['Mutton Biryani', ' Chicken Rice', ' Tomato R...</td>\n",
       "      <td>450.0</td>\n",
       "      <td>4.2</td>\n",
       "      <td>617</td>\n",
       "      <td>4.1</td>\n",
       "      <td>22400</td>\n",
       "      <td>['Home Delivery', 'Indoor Seating']</td>\n",
       "    </tr>\n",
       "    <tr>\n",
       "      <th>...</th>\n",
       "      <td>...</td>\n",
       "      <td>...</td>\n",
       "      <td>...</td>\n",
       "      <td>...</td>\n",
       "      <td>...</td>\n",
       "      <td>...</td>\n",
       "      <td>...</td>\n",
       "      <td>...</td>\n",
       "      <td>...</td>\n",
       "      <td>...</td>\n",
       "    </tr>\n",
       "    <tr>\n",
       "      <th>12027</th>\n",
       "      <td>CK's Sandwiches</td>\n",
       "      <td>Porur</td>\n",
       "      <td>['Sandwich']</td>\n",
       "      <td>Invalid</td>\n",
       "      <td>350.0</td>\n",
       "      <td>NaN</td>\n",
       "      <td>NaN</td>\n",
       "      <td>NaN</td>\n",
       "      <td>NaN</td>\n",
       "      <td>['Breakfast', 'Delivery Only']</td>\n",
       "    </tr>\n",
       "    <tr>\n",
       "      <th>12028</th>\n",
       "      <td>CK's Sandwiches</td>\n",
       "      <td>Kolathur</td>\n",
       "      <td>['Sandwich']</td>\n",
       "      <td>Invalid</td>\n",
       "      <td>350.0</td>\n",
       "      <td>NaN</td>\n",
       "      <td>NaN</td>\n",
       "      <td>NaN</td>\n",
       "      <td>NaN</td>\n",
       "      <td>['Breakfast', 'Delivery Only']</td>\n",
       "    </tr>\n",
       "    <tr>\n",
       "      <th>12029</th>\n",
       "      <td>CK's Sandwiches</td>\n",
       "      <td>Anna Nagar East</td>\n",
       "      <td>['Sandwich']</td>\n",
       "      <td>Invalid</td>\n",
       "      <td>350.0</td>\n",
       "      <td>NaN</td>\n",
       "      <td>NaN</td>\n",
       "      <td>NaN</td>\n",
       "      <td>NaN</td>\n",
       "      <td>['Breakfast', 'Delivery Only']</td>\n",
       "    </tr>\n",
       "    <tr>\n",
       "      <th>12030</th>\n",
       "      <td>CK's Sandwiches</td>\n",
       "      <td>Ramapuram</td>\n",
       "      <td>['Sandwich']</td>\n",
       "      <td>Invalid</td>\n",
       "      <td>350.0</td>\n",
       "      <td>NaN</td>\n",
       "      <td>NaN</td>\n",
       "      <td>NaN</td>\n",
       "      <td>NaN</td>\n",
       "      <td>['Breakfast', 'Delivery Only']</td>\n",
       "    </tr>\n",
       "    <tr>\n",
       "      <th>12031</th>\n",
       "      <td>CK's Sandwiches</td>\n",
       "      <td>Sholinganallur</td>\n",
       "      <td>['Sandwich']</td>\n",
       "      <td>Invalid</td>\n",
       "      <td>350.0</td>\n",
       "      <td>NaN</td>\n",
       "      <td>NaN</td>\n",
       "      <td>NaN</td>\n",
       "      <td>NaN</td>\n",
       "      <td>['Breakfast', 'Delivery Only']</td>\n",
       "    </tr>\n",
       "  </tbody>\n",
       "</table>\n",
       "<p>12032 rows × 10 columns</p>\n",
       "</div>"
      ],
      "text/plain": [
       "          Name of Restaurant         Location  \\\n",
       "0      Yaa Mohaideen Briyani       Pallavaram   \n",
       "1         Sukkubhai Biriyani          Alandur   \n",
       "2       SS Hyderabad Biryani      Kodambakkam   \n",
       "3                        KFC         Perambur   \n",
       "4              Tasty Kitchen         Perambur   \n",
       "...                      ...              ...   \n",
       "12027        CK's Sandwiches            Porur   \n",
       "12028        CK's Sandwiches         Kolathur   \n",
       "12029        CK's Sandwiches  Anna Nagar East   \n",
       "12030        CK's Sandwiches        Ramapuram   \n",
       "12031        CK's Sandwiches   Sholinganallur   \n",
       "\n",
       "                                                 Cuisine  \\\n",
       "0                                            ['Biryani']   \n",
       "1      ['Biryani', ' North Indian', ' Mughlai', ' Des...   \n",
       "2      ['Biryani', ' North Indian', ' Chinese', ' Ara...   \n",
       "3      ['Burger', ' Fast Food', ' Finger Food', ' Bev...   \n",
       "4      ['Chinese', ' Biryani', ' North Indian', ' Che...   \n",
       "...                                                  ...   \n",
       "12027                                       ['Sandwich']   \n",
       "12028                                       ['Sandwich']   \n",
       "12029                                       ['Sandwich']   \n",
       "12030                                       ['Sandwich']   \n",
       "12031                                       ['Sandwich']   \n",
       "\n",
       "                                              Top Dishes  Price for 2  \\\n",
       "0      ['Bread Halwa', ' Chicken 65', ' Mutton Biryan...        500.0   \n",
       "1      ['Beef Biryani', ' Beef Fry', ' Paratha', ' Pa...       1000.0   \n",
       "2      ['Brinjal Curry', ' Tandoori Chicken', ' Chick...        500.0   \n",
       "3                                      ['Zinger Burger']        500.0   \n",
       "4      ['Mutton Biryani', ' Chicken Rice', ' Tomato R...        450.0   \n",
       "...                                                  ...          ...   \n",
       "12027                                            Invalid        350.0   \n",
       "12028                                            Invalid        350.0   \n",
       "12029                                            Invalid        350.0   \n",
       "12030                                            Invalid        350.0   \n",
       "12031                                            Invalid        350.0   \n",
       "\n",
       "       Dining Rating Dining Rating Count  Delivery Rating  \\\n",
       "0                4.3                1500              4.3   \n",
       "1                4.4                3059              4.1   \n",
       "2                4.3                1361              4.4   \n",
       "3                4.0                1101              4.0   \n",
       "4                4.2                 617              4.1   \n",
       "...              ...                 ...              ...   \n",
       "12027            NaN                 NaN              NaN   \n",
       "12028            NaN                 NaN              NaN   \n",
       "12029            NaN                 NaN              NaN   \n",
       "12030            NaN                 NaN              NaN   \n",
       "12031            NaN                 NaN              NaN   \n",
       "\n",
       "      Delivery Rating Count                                           Features  \n",
       "0                      9306                ['Home Delivery', 'Indoor Seating']  \n",
       "1                     39200  ['Home Delivery', 'Free Parking', 'Table booki...  \n",
       "2                     10500                ['Home Delivery', 'Indoor Seating']  \n",
       "3                     11200  ['Home Delivery', 'Free Parking', 'Card Upon D...  \n",
       "4                     22400                ['Home Delivery', 'Indoor Seating']  \n",
       "...                     ...                                                ...  \n",
       "12027                   NaN                     ['Breakfast', 'Delivery Only']  \n",
       "12028                   NaN                     ['Breakfast', 'Delivery Only']  \n",
       "12029                   NaN                     ['Breakfast', 'Delivery Only']  \n",
       "12030                   NaN                     ['Breakfast', 'Delivery Only']  \n",
       "12031                   NaN                     ['Breakfast', 'Delivery Only']  \n",
       "\n",
       "[12032 rows x 10 columns]"
      ]
     },
     "execution_count": 6,
     "metadata": {},
     "output_type": "execute_result"
    }
   ],
   "source": [
    "#Dropping the Unwanted Columns\n",
    "dataset.drop(columns = [\"Zomato URL\",\"Address\"],axis = 1,inplace = True)\n",
    "dataset"
   ]
  },
  {
   "cell_type": "code",
   "execution_count": 7,
   "id": "bd2b1e28-0afb-40f9-9ba5-758aca8509ee",
   "metadata": {},
   "outputs": [
    {
     "data": {
      "text/html": [
       "<div>\n",
       "<style scoped>\n",
       "    .dataframe tbody tr th:only-of-type {\n",
       "        vertical-align: middle;\n",
       "    }\n",
       "\n",
       "    .dataframe tbody tr th {\n",
       "        vertical-align: top;\n",
       "    }\n",
       "\n",
       "    .dataframe thead th {\n",
       "        text-align: right;\n",
       "    }\n",
       "</style>\n",
       "<table border=\"1\" class=\"dataframe\">\n",
       "  <thead>\n",
       "    <tr style=\"text-align: right;\">\n",
       "      <th></th>\n",
       "      <th>Price for 2</th>\n",
       "      <th>Dining Rating</th>\n",
       "      <th>Delivery Rating</th>\n",
       "    </tr>\n",
       "  </thead>\n",
       "  <tbody>\n",
       "    <tr>\n",
       "      <th>count</th>\n",
       "      <td>12032.000000</td>\n",
       "      <td>6681.000000</td>\n",
       "      <td>6181.000000</td>\n",
       "    </tr>\n",
       "    <tr>\n",
       "      <th>mean</th>\n",
       "      <td>397.611370</td>\n",
       "      <td>3.387756</td>\n",
       "      <td>3.805290</td>\n",
       "    </tr>\n",
       "    <tr>\n",
       "      <th>std</th>\n",
       "      <td>332.045938</td>\n",
       "      <td>0.558181</td>\n",
       "      <td>0.374213</td>\n",
       "    </tr>\n",
       "    <tr>\n",
       "      <th>min</th>\n",
       "      <td>40.000000</td>\n",
       "      <td>0.300000</td>\n",
       "      <td>0.300000</td>\n",
       "    </tr>\n",
       "    <tr>\n",
       "      <th>25%</th>\n",
       "      <td>200.000000</td>\n",
       "      <td>3.100000</td>\n",
       "      <td>3.600000</td>\n",
       "    </tr>\n",
       "    <tr>\n",
       "      <th>50%</th>\n",
       "      <td>300.000000</td>\n",
       "      <td>3.500000</td>\n",
       "      <td>3.900000</td>\n",
       "    </tr>\n",
       "    <tr>\n",
       "      <th>75%</th>\n",
       "      <td>450.000000</td>\n",
       "      <td>3.800000</td>\n",
       "      <td>4.000000</td>\n",
       "    </tr>\n",
       "    <tr>\n",
       "      <th>max</th>\n",
       "      <td>5000.000000</td>\n",
       "      <td>4.900000</td>\n",
       "      <td>4.700000</td>\n",
       "    </tr>\n",
       "  </tbody>\n",
       "</table>\n",
       "</div>"
      ],
      "text/plain": [
       "        Price for 2  Dining Rating  Delivery Rating\n",
       "count  12032.000000    6681.000000      6181.000000\n",
       "mean     397.611370       3.387756         3.805290\n",
       "std      332.045938       0.558181         0.374213\n",
       "min       40.000000       0.300000         0.300000\n",
       "25%      200.000000       3.100000         3.600000\n",
       "50%      300.000000       3.500000         3.900000\n",
       "75%      450.000000       3.800000         4.000000\n",
       "max     5000.000000       4.900000         4.700000"
      ]
     },
     "execution_count": 7,
     "metadata": {},
     "output_type": "execute_result"
    }
   ],
   "source": [
    "dataset.describe()"
   ]
  },
  {
   "cell_type": "code",
   "execution_count": 8,
   "id": "58f1b73d-bcc7-4999-934d-a38125667203",
   "metadata": {},
   "outputs": [
    {
     "data": {
      "text/plain": [
       "Name of Restaurant          0\n",
       "Location                    0\n",
       "Cuisine                     0\n",
       "Top Dishes                  0\n",
       "Price for 2                 0\n",
       "Dining Rating            5351\n",
       "Dining Rating Count       220\n",
       "Delivery Rating          5851\n",
       "Delivery Rating Count     220\n",
       "Features                    0\n",
       "dtype: int64"
      ]
     },
     "execution_count": 8,
     "metadata": {},
     "output_type": "execute_result"
    }
   ],
   "source": [
    "#Checking for Null Values\n",
    "dataset.isnull().sum()"
   ]
  },
  {
   "cell_type": "code",
   "execution_count": 9,
   "id": "4af2a278-8ac7-4f4b-9ecf-67a7dbc8ea68",
   "metadata": {},
   "outputs": [
    {
     "data": {
      "text/plain": [
       "Dining Rating\n",
       "3.6    584\n",
       "3.5    553\n",
       "3.7    525\n",
       "3.4    500\n",
       "3.3    463\n",
       "3.8    460\n",
       "3.2    433\n",
       "3.9    379\n",
       "3.1    363\n",
       "2.0    354\n",
       "3.0    302\n",
       "4.0    288\n",
       "2.9    257\n",
       "4.1    221\n",
       "2.8    192\n",
       "4.2    142\n",
       "2.7    138\n",
       "4.3    105\n",
       "2.6     99\n",
       "2.5     71\n",
       "4.4     61\n",
       "2.4     46\n",
       "4.5     36\n",
       "2.3     32\n",
       "2.2     20\n",
       "4.6     17\n",
       "4.7     12\n",
       "2.1     10\n",
       "4.9      7\n",
       "4.8      4\n",
       "1.9      3\n",
       "1.7      2\n",
       "0.3      1\n",
       "1.0      1\n",
       "Name: count, dtype: int64"
      ]
     },
     "execution_count": 9,
     "metadata": {},
     "output_type": "execute_result"
    }
   ],
   "source": [
    "dataset[\"Dining Rating\"].value_counts()"
   ]
  },
  {
   "cell_type": "code",
   "execution_count": 10,
   "id": "0d393ab4-23c2-4bf6-bce3-33811760cd2f",
   "metadata": {},
   "outputs": [
    {
     "data": {
      "text/html": [
       "<div>\n",
       "<style scoped>\n",
       "    .dataframe tbody tr th:only-of-type {\n",
       "        vertical-align: middle;\n",
       "    }\n",
       "\n",
       "    .dataframe tbody tr th {\n",
       "        vertical-align: top;\n",
       "    }\n",
       "\n",
       "    .dataframe thead th {\n",
       "        text-align: right;\n",
       "    }\n",
       "</style>\n",
       "<table border=\"1\" class=\"dataframe\">\n",
       "  <thead>\n",
       "    <tr style=\"text-align: right;\">\n",
       "      <th></th>\n",
       "      <th>Name of Restaurant</th>\n",
       "      <th>Location</th>\n",
       "      <th>Cuisine</th>\n",
       "      <th>Top Dishes</th>\n",
       "      <th>Price for 2</th>\n",
       "      <th>Dining Rating</th>\n",
       "      <th>Dining Rating Count</th>\n",
       "      <th>Delivery Rating</th>\n",
       "      <th>Delivery Rating Count</th>\n",
       "      <th>Features</th>\n",
       "    </tr>\n",
       "  </thead>\n",
       "  <tbody>\n",
       "    <tr>\n",
       "      <th>6</th>\n",
       "      <td>Bai Veetu Kalyanam</td>\n",
       "      <td>Navallur</td>\n",
       "      <td>['Biryani']</td>\n",
       "      <td>['Bread Halwa', ' Mutton Biryani', ' Brinjal G...</td>\n",
       "      <td>350.0</td>\n",
       "      <td>NaN</td>\n",
       "      <td>Does not offer Dining</td>\n",
       "      <td>4.3</td>\n",
       "      <td>1061</td>\n",
       "      <td>['Home Delivery']</td>\n",
       "    </tr>\n",
       "    <tr>\n",
       "      <th>77</th>\n",
       "      <td>Al Dhareeq Beef Biriyani</td>\n",
       "      <td>Kodambakkam</td>\n",
       "      <td>['Biryani']</td>\n",
       "      <td>['Beef Biryani']</td>\n",
       "      <td>300.0</td>\n",
       "      <td>NaN</td>\n",
       "      <td>Does not offer Dining</td>\n",
       "      <td>3.9</td>\n",
       "      <td>19600</td>\n",
       "      <td>['Home Delivery']</td>\n",
       "    </tr>\n",
       "    <tr>\n",
       "      <th>106</th>\n",
       "      <td>Twilight Take Out</td>\n",
       "      <td>Nungambakkam</td>\n",
       "      <td>['North Indian', ' Chinese', ' Rolls', ' Conti...</td>\n",
       "      <td>['Club Sandwich', ' Chicken Tikka Roll', ' Chi...</td>\n",
       "      <td>350.0</td>\n",
       "      <td>NaN</td>\n",
       "      <td>Does not offer Dining</td>\n",
       "      <td>4.0</td>\n",
       "      <td>11200</td>\n",
       "      <td>['Home Delivery', 'Free Parking']</td>\n",
       "    </tr>\n",
       "    <tr>\n",
       "      <th>107</th>\n",
       "      <td>The Red Box</td>\n",
       "      <td>Anna Nagar West</td>\n",
       "      <td>['Chinese']</td>\n",
       "      <td>['Noodle', ' Chilli Chicken Gravy', ' Dragon C...</td>\n",
       "      <td>200.0</td>\n",
       "      <td>NaN</td>\n",
       "      <td>Does not offer Dining</td>\n",
       "      <td>4.2</td>\n",
       "      <td>11500</td>\n",
       "      <td>['Home Delivery']</td>\n",
       "    </tr>\n",
       "    <tr>\n",
       "      <th>114</th>\n",
       "      <td>Charminar Biriyani Centre</td>\n",
       "      <td>Royapettah</td>\n",
       "      <td>['Biryani', ' North Indian']</td>\n",
       "      <td>['Chicken Biryani', ' Bread Halwa', ' Brinjal ...</td>\n",
       "      <td>300.0</td>\n",
       "      <td>NaN</td>\n",
       "      <td>Does not offer Dining</td>\n",
       "      <td>3.9</td>\n",
       "      <td>652</td>\n",
       "      <td>['Home Delivery', 'Standing Tables']</td>\n",
       "    </tr>\n",
       "    <tr>\n",
       "      <th>...</th>\n",
       "      <td>...</td>\n",
       "      <td>...</td>\n",
       "      <td>...</td>\n",
       "      <td>...</td>\n",
       "      <td>...</td>\n",
       "      <td>...</td>\n",
       "      <td>...</td>\n",
       "      <td>...</td>\n",
       "      <td>...</td>\n",
       "      <td>...</td>\n",
       "    </tr>\n",
       "    <tr>\n",
       "      <th>12027</th>\n",
       "      <td>CK's Sandwiches</td>\n",
       "      <td>Porur</td>\n",
       "      <td>['Sandwich']</td>\n",
       "      <td>Invalid</td>\n",
       "      <td>350.0</td>\n",
       "      <td>NaN</td>\n",
       "      <td>NaN</td>\n",
       "      <td>NaN</td>\n",
       "      <td>NaN</td>\n",
       "      <td>['Breakfast', 'Delivery Only']</td>\n",
       "    </tr>\n",
       "    <tr>\n",
       "      <th>12028</th>\n",
       "      <td>CK's Sandwiches</td>\n",
       "      <td>Kolathur</td>\n",
       "      <td>['Sandwich']</td>\n",
       "      <td>Invalid</td>\n",
       "      <td>350.0</td>\n",
       "      <td>NaN</td>\n",
       "      <td>NaN</td>\n",
       "      <td>NaN</td>\n",
       "      <td>NaN</td>\n",
       "      <td>['Breakfast', 'Delivery Only']</td>\n",
       "    </tr>\n",
       "    <tr>\n",
       "      <th>12029</th>\n",
       "      <td>CK's Sandwiches</td>\n",
       "      <td>Anna Nagar East</td>\n",
       "      <td>['Sandwich']</td>\n",
       "      <td>Invalid</td>\n",
       "      <td>350.0</td>\n",
       "      <td>NaN</td>\n",
       "      <td>NaN</td>\n",
       "      <td>NaN</td>\n",
       "      <td>NaN</td>\n",
       "      <td>['Breakfast', 'Delivery Only']</td>\n",
       "    </tr>\n",
       "    <tr>\n",
       "      <th>12030</th>\n",
       "      <td>CK's Sandwiches</td>\n",
       "      <td>Ramapuram</td>\n",
       "      <td>['Sandwich']</td>\n",
       "      <td>Invalid</td>\n",
       "      <td>350.0</td>\n",
       "      <td>NaN</td>\n",
       "      <td>NaN</td>\n",
       "      <td>NaN</td>\n",
       "      <td>NaN</td>\n",
       "      <td>['Breakfast', 'Delivery Only']</td>\n",
       "    </tr>\n",
       "    <tr>\n",
       "      <th>12031</th>\n",
       "      <td>CK's Sandwiches</td>\n",
       "      <td>Sholinganallur</td>\n",
       "      <td>['Sandwich']</td>\n",
       "      <td>Invalid</td>\n",
       "      <td>350.0</td>\n",
       "      <td>NaN</td>\n",
       "      <td>NaN</td>\n",
       "      <td>NaN</td>\n",
       "      <td>NaN</td>\n",
       "      <td>['Breakfast', 'Delivery Only']</td>\n",
       "    </tr>\n",
       "  </tbody>\n",
       "</table>\n",
       "<p>5351 rows × 10 columns</p>\n",
       "</div>"
      ],
      "text/plain": [
       "              Name of Restaurant         Location  \\\n",
       "6             Bai Veetu Kalyanam         Navallur   \n",
       "77      Al Dhareeq Beef Biriyani      Kodambakkam   \n",
       "106            Twilight Take Out     Nungambakkam   \n",
       "107                  The Red Box  Anna Nagar West   \n",
       "114    Charminar Biriyani Centre       Royapettah   \n",
       "...                          ...              ...   \n",
       "12027            CK's Sandwiches            Porur   \n",
       "12028            CK's Sandwiches         Kolathur   \n",
       "12029            CK's Sandwiches  Anna Nagar East   \n",
       "12030            CK's Sandwiches        Ramapuram   \n",
       "12031            CK's Sandwiches   Sholinganallur   \n",
       "\n",
       "                                                 Cuisine  \\\n",
       "6                                            ['Biryani']   \n",
       "77                                           ['Biryani']   \n",
       "106    ['North Indian', ' Chinese', ' Rolls', ' Conti...   \n",
       "107                                          ['Chinese']   \n",
       "114                         ['Biryani', ' North Indian']   \n",
       "...                                                  ...   \n",
       "12027                                       ['Sandwich']   \n",
       "12028                                       ['Sandwich']   \n",
       "12029                                       ['Sandwich']   \n",
       "12030                                       ['Sandwich']   \n",
       "12031                                       ['Sandwich']   \n",
       "\n",
       "                                              Top Dishes  Price for 2  \\\n",
       "6      ['Bread Halwa', ' Mutton Biryani', ' Brinjal G...        350.0   \n",
       "77                                      ['Beef Biryani']        300.0   \n",
       "106    ['Club Sandwich', ' Chicken Tikka Roll', ' Chi...        350.0   \n",
       "107    ['Noodle', ' Chilli Chicken Gravy', ' Dragon C...        200.0   \n",
       "114    ['Chicken Biryani', ' Bread Halwa', ' Brinjal ...        300.0   \n",
       "...                                                  ...          ...   \n",
       "12027                                            Invalid        350.0   \n",
       "12028                                            Invalid        350.0   \n",
       "12029                                            Invalid        350.0   \n",
       "12030                                            Invalid        350.0   \n",
       "12031                                            Invalid        350.0   \n",
       "\n",
       "       Dining Rating    Dining Rating Count  Delivery Rating  \\\n",
       "6                NaN  Does not offer Dining              4.3   \n",
       "77               NaN  Does not offer Dining              3.9   \n",
       "106              NaN  Does not offer Dining              4.0   \n",
       "107              NaN  Does not offer Dining              4.2   \n",
       "114              NaN  Does not offer Dining              3.9   \n",
       "...              ...                    ...              ...   \n",
       "12027            NaN                    NaN              NaN   \n",
       "12028            NaN                    NaN              NaN   \n",
       "12029            NaN                    NaN              NaN   \n",
       "12030            NaN                    NaN              NaN   \n",
       "12031            NaN                    NaN              NaN   \n",
       "\n",
       "      Delivery Rating Count                              Features  \n",
       "6                      1061                     ['Home Delivery']  \n",
       "77                    19600                     ['Home Delivery']  \n",
       "106                   11200     ['Home Delivery', 'Free Parking']  \n",
       "107                   11500                     ['Home Delivery']  \n",
       "114                     652  ['Home Delivery', 'Standing Tables']  \n",
       "...                     ...                                   ...  \n",
       "12027                   NaN        ['Breakfast', 'Delivery Only']  \n",
       "12028                   NaN        ['Breakfast', 'Delivery Only']  \n",
       "12029                   NaN        ['Breakfast', 'Delivery Only']  \n",
       "12030                   NaN        ['Breakfast', 'Delivery Only']  \n",
       "12031                   NaN        ['Breakfast', 'Delivery Only']  \n",
       "\n",
       "[5351 rows x 10 columns]"
      ]
     },
     "execution_count": 10,
     "metadata": {},
     "output_type": "execute_result"
    }
   ],
   "source": [
    "dataset[dataset[\"Dining Rating\"].isnull()]"
   ]
  },
  {
   "cell_type": "code",
   "execution_count": 11,
   "id": "82129229-96cc-4ef1-a8f6-1462a21a7ec1",
   "metadata": {},
   "outputs": [
    {
     "data": {
      "text/html": [
       "<div>\n",
       "<style scoped>\n",
       "    .dataframe tbody tr th:only-of-type {\n",
       "        vertical-align: middle;\n",
       "    }\n",
       "\n",
       "    .dataframe tbody tr th {\n",
       "        vertical-align: top;\n",
       "    }\n",
       "\n",
       "    .dataframe thead th {\n",
       "        text-align: right;\n",
       "    }\n",
       "</style>\n",
       "<table border=\"1\" class=\"dataframe\">\n",
       "  <thead>\n",
       "    <tr style=\"text-align: right;\">\n",
       "      <th></th>\n",
       "      <th>Name of Restaurant</th>\n",
       "      <th>Location</th>\n",
       "      <th>Cuisine</th>\n",
       "      <th>Top Dishes</th>\n",
       "      <th>Price for 2</th>\n",
       "      <th>Dining Rating</th>\n",
       "      <th>Dining Rating Count</th>\n",
       "      <th>Delivery Rating</th>\n",
       "      <th>Delivery Rating Count</th>\n",
       "      <th>Features</th>\n",
       "    </tr>\n",
       "  </thead>\n",
       "  <tbody>\n",
       "    <tr>\n",
       "      <th>0</th>\n",
       "      <td>Yaa Mohaideen Briyani</td>\n",
       "      <td>Pallavaram</td>\n",
       "      <td>['Biryani']</td>\n",
       "      <td>['Bread Halwa', ' Chicken 65', ' Mutton Biryan...</td>\n",
       "      <td>500.0</td>\n",
       "      <td>4.3</td>\n",
       "      <td>1500</td>\n",
       "      <td>4.3</td>\n",
       "      <td>9306</td>\n",
       "      <td>['Home Delivery', 'Indoor Seating']</td>\n",
       "    </tr>\n",
       "    <tr>\n",
       "      <th>1</th>\n",
       "      <td>Sukkubhai Biriyani</td>\n",
       "      <td>Alandur</td>\n",
       "      <td>['Biryani', ' North Indian', ' Mughlai', ' Des...</td>\n",
       "      <td>['Beef Biryani', ' Beef Fry', ' Paratha', ' Pa...</td>\n",
       "      <td>1000.0</td>\n",
       "      <td>4.4</td>\n",
       "      <td>3059</td>\n",
       "      <td>4.1</td>\n",
       "      <td>39200</td>\n",
       "      <td>['Home Delivery', 'Free Parking', 'Table booki...</td>\n",
       "    </tr>\n",
       "    <tr>\n",
       "      <th>2</th>\n",
       "      <td>SS Hyderabad Biryani</td>\n",
       "      <td>Kodambakkam</td>\n",
       "      <td>['Biryani', ' North Indian', ' Chinese', ' Ara...</td>\n",
       "      <td>['Brinjal Curry', ' Tandoori Chicken', ' Chick...</td>\n",
       "      <td>500.0</td>\n",
       "      <td>4.3</td>\n",
       "      <td>1361</td>\n",
       "      <td>4.4</td>\n",
       "      <td>10500</td>\n",
       "      <td>['Home Delivery', 'Indoor Seating']</td>\n",
       "    </tr>\n",
       "    <tr>\n",
       "      <th>3</th>\n",
       "      <td>KFC</td>\n",
       "      <td>Perambur</td>\n",
       "      <td>['Burger', ' Fast Food', ' Finger Food', ' Bev...</td>\n",
       "      <td>['Zinger Burger']</td>\n",
       "      <td>500.0</td>\n",
       "      <td>4.0</td>\n",
       "      <td>1101</td>\n",
       "      <td>4.0</td>\n",
       "      <td>11200</td>\n",
       "      <td>['Home Delivery', 'Free Parking', 'Card Upon D...</td>\n",
       "    </tr>\n",
       "    <tr>\n",
       "      <th>4</th>\n",
       "      <td>Tasty Kitchen</td>\n",
       "      <td>Perambur</td>\n",
       "      <td>['Chinese', ' Biryani', ' North Indian', ' Che...</td>\n",
       "      <td>['Mutton Biryani', ' Chicken Rice', ' Tomato R...</td>\n",
       "      <td>450.0</td>\n",
       "      <td>4.2</td>\n",
       "      <td>617</td>\n",
       "      <td>4.1</td>\n",
       "      <td>22400</td>\n",
       "      <td>['Home Delivery', 'Indoor Seating']</td>\n",
       "    </tr>\n",
       "    <tr>\n",
       "      <th>...</th>\n",
       "      <td>...</td>\n",
       "      <td>...</td>\n",
       "      <td>...</td>\n",
       "      <td>...</td>\n",
       "      <td>...</td>\n",
       "      <td>...</td>\n",
       "      <td>...</td>\n",
       "      <td>...</td>\n",
       "      <td>...</td>\n",
       "      <td>...</td>\n",
       "    </tr>\n",
       "    <tr>\n",
       "      <th>12027</th>\n",
       "      <td>CK's Sandwiches</td>\n",
       "      <td>Porur</td>\n",
       "      <td>['Sandwich']</td>\n",
       "      <td>Invalid</td>\n",
       "      <td>350.0</td>\n",
       "      <td>0</td>\n",
       "      <td>0</td>\n",
       "      <td>0</td>\n",
       "      <td>0</td>\n",
       "      <td>['Breakfast', 'Delivery Only']</td>\n",
       "    </tr>\n",
       "    <tr>\n",
       "      <th>12028</th>\n",
       "      <td>CK's Sandwiches</td>\n",
       "      <td>Kolathur</td>\n",
       "      <td>['Sandwich']</td>\n",
       "      <td>Invalid</td>\n",
       "      <td>350.0</td>\n",
       "      <td>0</td>\n",
       "      <td>0</td>\n",
       "      <td>0</td>\n",
       "      <td>0</td>\n",
       "      <td>['Breakfast', 'Delivery Only']</td>\n",
       "    </tr>\n",
       "    <tr>\n",
       "      <th>12029</th>\n",
       "      <td>CK's Sandwiches</td>\n",
       "      <td>Anna Nagar East</td>\n",
       "      <td>['Sandwich']</td>\n",
       "      <td>Invalid</td>\n",
       "      <td>350.0</td>\n",
       "      <td>0</td>\n",
       "      <td>0</td>\n",
       "      <td>0</td>\n",
       "      <td>0</td>\n",
       "      <td>['Breakfast', 'Delivery Only']</td>\n",
       "    </tr>\n",
       "    <tr>\n",
       "      <th>12030</th>\n",
       "      <td>CK's Sandwiches</td>\n",
       "      <td>Ramapuram</td>\n",
       "      <td>['Sandwich']</td>\n",
       "      <td>Invalid</td>\n",
       "      <td>350.0</td>\n",
       "      <td>0</td>\n",
       "      <td>0</td>\n",
       "      <td>0</td>\n",
       "      <td>0</td>\n",
       "      <td>['Breakfast', 'Delivery Only']</td>\n",
       "    </tr>\n",
       "    <tr>\n",
       "      <th>12031</th>\n",
       "      <td>CK's Sandwiches</td>\n",
       "      <td>Sholinganallur</td>\n",
       "      <td>['Sandwich']</td>\n",
       "      <td>Invalid</td>\n",
       "      <td>350.0</td>\n",
       "      <td>0</td>\n",
       "      <td>0</td>\n",
       "      <td>0</td>\n",
       "      <td>0</td>\n",
       "      <td>['Breakfast', 'Delivery Only']</td>\n",
       "    </tr>\n",
       "  </tbody>\n",
       "</table>\n",
       "<p>12032 rows × 10 columns</p>\n",
       "</div>"
      ],
      "text/plain": [
       "          Name of Restaurant         Location  \\\n",
       "0      Yaa Mohaideen Briyani       Pallavaram   \n",
       "1         Sukkubhai Biriyani          Alandur   \n",
       "2       SS Hyderabad Biryani      Kodambakkam   \n",
       "3                        KFC         Perambur   \n",
       "4              Tasty Kitchen         Perambur   \n",
       "...                      ...              ...   \n",
       "12027        CK's Sandwiches            Porur   \n",
       "12028        CK's Sandwiches         Kolathur   \n",
       "12029        CK's Sandwiches  Anna Nagar East   \n",
       "12030        CK's Sandwiches        Ramapuram   \n",
       "12031        CK's Sandwiches   Sholinganallur   \n",
       "\n",
       "                                                 Cuisine  \\\n",
       "0                                            ['Biryani']   \n",
       "1      ['Biryani', ' North Indian', ' Mughlai', ' Des...   \n",
       "2      ['Biryani', ' North Indian', ' Chinese', ' Ara...   \n",
       "3      ['Burger', ' Fast Food', ' Finger Food', ' Bev...   \n",
       "4      ['Chinese', ' Biryani', ' North Indian', ' Che...   \n",
       "...                                                  ...   \n",
       "12027                                       ['Sandwich']   \n",
       "12028                                       ['Sandwich']   \n",
       "12029                                       ['Sandwich']   \n",
       "12030                                       ['Sandwich']   \n",
       "12031                                       ['Sandwich']   \n",
       "\n",
       "                                              Top Dishes  Price for 2  \\\n",
       "0      ['Bread Halwa', ' Chicken 65', ' Mutton Biryan...        500.0   \n",
       "1      ['Beef Biryani', ' Beef Fry', ' Paratha', ' Pa...       1000.0   \n",
       "2      ['Brinjal Curry', ' Tandoori Chicken', ' Chick...        500.0   \n",
       "3                                      ['Zinger Burger']        500.0   \n",
       "4      ['Mutton Biryani', ' Chicken Rice', ' Tomato R...        450.0   \n",
       "...                                                  ...          ...   \n",
       "12027                                            Invalid        350.0   \n",
       "12028                                            Invalid        350.0   \n",
       "12029                                            Invalid        350.0   \n",
       "12030                                            Invalid        350.0   \n",
       "12031                                            Invalid        350.0   \n",
       "\n",
       "      Dining Rating Dining Rating Count Delivery Rating Delivery Rating Count  \\\n",
       "0               4.3                1500             4.3                  9306   \n",
       "1               4.4                3059             4.1                 39200   \n",
       "2               4.3                1361             4.4                 10500   \n",
       "3               4.0                1101             4.0                 11200   \n",
       "4               4.2                 617             4.1                 22400   \n",
       "...             ...                 ...             ...                   ...   \n",
       "12027             0                   0               0                     0   \n",
       "12028             0                   0               0                     0   \n",
       "12029             0                   0               0                     0   \n",
       "12030             0                   0               0                     0   \n",
       "12031             0                   0               0                     0   \n",
       "\n",
       "                                                Features  \n",
       "0                    ['Home Delivery', 'Indoor Seating']  \n",
       "1      ['Home Delivery', 'Free Parking', 'Table booki...  \n",
       "2                    ['Home Delivery', 'Indoor Seating']  \n",
       "3      ['Home Delivery', 'Free Parking', 'Card Upon D...  \n",
       "4                    ['Home Delivery', 'Indoor Seating']  \n",
       "...                                                  ...  \n",
       "12027                     ['Breakfast', 'Delivery Only']  \n",
       "12028                     ['Breakfast', 'Delivery Only']  \n",
       "12029                     ['Breakfast', 'Delivery Only']  \n",
       "12030                     ['Breakfast', 'Delivery Only']  \n",
       "12031                     ['Breakfast', 'Delivery Only']  \n",
       "\n",
       "[12032 rows x 10 columns]"
      ]
     },
     "execution_count": 11,
     "metadata": {},
     "output_type": "execute_result"
    }
   ],
   "source": [
    "#Replacing the Null Values with 0 \n",
    "dataset.fillna(\"0\",axis = 0, inplace = True)\n",
    "dataset"
   ]
  },
  {
   "cell_type": "code",
   "execution_count": 12,
   "id": "9bb1c043-54a9-4a0d-9745-cf101df791a2",
   "metadata": {},
   "outputs": [
    {
     "data": {
      "text/plain": [
       "Name of Restaurant       0\n",
       "Location                 0\n",
       "Cuisine                  0\n",
       "Top Dishes               0\n",
       "Price for 2              0\n",
       "Dining Rating            0\n",
       "Dining Rating Count      0\n",
       "Delivery Rating          0\n",
       "Delivery Rating Count    0\n",
       "Features                 0\n",
       "dtype: int64"
      ]
     },
     "execution_count": 12,
     "metadata": {},
     "output_type": "execute_result"
    }
   ],
   "source": [
    "dataset.isnull().sum()"
   ]
  },
  {
   "cell_type": "code",
   "execution_count": 13,
   "id": "a4f588cc-7a9d-49ba-aff7-b5df2da30a7e",
   "metadata": {},
   "outputs": [
    {
     "name": "stdout",
     "output_type": "stream",
     "text": [
      "<class 'pandas.core.frame.DataFrame'>\n",
      "RangeIndex: 12032 entries, 0 to 12031\n",
      "Data columns (total 10 columns):\n",
      " #   Column                 Non-Null Count  Dtype  \n",
      "---  ------                 --------------  -----  \n",
      " 0   Name of Restaurant     12032 non-null  object \n",
      " 1   Location               12032 non-null  object \n",
      " 2   Cuisine                12032 non-null  object \n",
      " 3   Top Dishes             12032 non-null  object \n",
      " 4   Price for 2            12032 non-null  float64\n",
      " 5   Dining Rating          12032 non-null  object \n",
      " 6   Dining Rating Count    12032 non-null  object \n",
      " 7   Delivery Rating        12032 non-null  object \n",
      " 8   Delivery Rating Count  12032 non-null  object \n",
      " 9   Features               12032 non-null  object \n",
      "dtypes: float64(1), object(9)\n",
      "memory usage: 940.1+ KB\n"
     ]
    }
   ],
   "source": [
    "dataset.info()"
   ]
  },
  {
   "cell_type": "code",
   "execution_count": 14,
   "id": "9d0f6db6-7eaf-4f25-8b6f-bf2cc05259d2",
   "metadata": {},
   "outputs": [
    {
     "data": {
      "text/plain": [
       "Dining Rating Count\n",
       "Does not offer Dining        2603\n",
       "Not enough Dining Reviews    2528\n",
       "4                             339\n",
       "5                             271\n",
       "6                             248\n",
       "                             ... \n",
       "877                             1\n",
       "897                             1\n",
       "872                             1\n",
       "1197                            1\n",
       "224                             1\n",
       "Name: count, Length: 793, dtype: int64"
      ]
     },
     "execution_count": 14,
     "metadata": {},
     "output_type": "execute_result"
    }
   ],
   "source": [
    "dataset[\"Dining Rating Count\"].value_counts()"
   ]
  },
  {
   "cell_type": "code",
   "execution_count": 15,
   "id": "7e5e1300-abad-455f-8b01-e6fe905b0b86",
   "metadata": {},
   "outputs": [],
   "source": [
    "#Replacing the Invalid Values with valid values\n",
    "dataset[\"Dining Rating Count\"].replace(to_replace = [\"Does not offer Dining\",\"Not enough Dining Reviews\"], value = 0, inplace = True)"
   ]
  },
  {
   "cell_type": "code",
   "execution_count": 16,
   "id": "7c8d6e44-24d9-45e9-b612-51abde43b65c",
   "metadata": {},
   "outputs": [
    {
     "data": {
      "text/plain": [
       "Dining Rating Count\n",
       "0       5131\n",
       "4        339\n",
       "5        271\n",
       "6        248\n",
       "0        240\n",
       "        ... \n",
       "877        1\n",
       "897        1\n",
       "872        1\n",
       "1197       1\n",
       "224        1\n",
       "Name: count, Length: 792, dtype: int64"
      ]
     },
     "execution_count": 16,
     "metadata": {},
     "output_type": "execute_result"
    }
   ],
   "source": [
    "dataset[\"Dining Rating Count\"].value_counts()"
   ]
  },
  {
   "cell_type": "code",
   "execution_count": 17,
   "id": "975beb48-c24c-4f4c-acd4-23899502bd94",
   "metadata": {},
   "outputs": [
    {
     "data": {
      "text/plain": [
       "Delivery Rating Count\n",
       "Not enough Delivery Reviews    3379\n",
       "Does not offer Delivery        2252\n",
       "0                               239\n",
       "27                               34\n",
       "40                               30\n",
       "                               ... \n",
       "7705                              1\n",
       "6374                              1\n",
       "3677                              1\n",
       "588                               1\n",
       "1617                              1\n",
       "Name: count, Length: 2281, dtype: int64"
      ]
     },
     "execution_count": 17,
     "metadata": {},
     "output_type": "execute_result"
    }
   ],
   "source": [
    "dataset[\"Delivery Rating Count\"].value_counts()"
   ]
  },
  {
   "cell_type": "code",
   "execution_count": 18,
   "id": "7b3c678a-88a2-4b00-954d-f8b3fceeb9f5",
   "metadata": {},
   "outputs": [],
   "source": [
    "dataset[\"Delivery Rating Count\"].replace(to_replace = [\"Does not offer Delivery\",\"Not enough Delivery Reviews\"], value = 0, inplace = True)"
   ]
  },
  {
   "cell_type": "code",
   "execution_count": 19,
   "id": "6cccc424-6ef3-47b4-9092-be0cca5647b3",
   "metadata": {},
   "outputs": [
    {
     "data": {
      "text/plain": [
       "Delivery Rating Count\n",
       "0       5631\n",
       "0        239\n",
       "27        34\n",
       "37        30\n",
       "60        30\n",
       "        ... \n",
       "7705       1\n",
       "6374       1\n",
       "3677       1\n",
       "588        1\n",
       "1617       1\n",
       "Name: count, Length: 2280, dtype: int64"
      ]
     },
     "execution_count": 19,
     "metadata": {},
     "output_type": "execute_result"
    }
   ],
   "source": [
    "dataset[\"Delivery Rating Count\"].value_counts()"
   ]
  },
  {
   "cell_type": "code",
   "execution_count": 20,
   "id": "136cb1dc-2a10-48ba-a2c5-08509bbfd0d7",
   "metadata": {},
   "outputs": [],
   "source": [
    "#Converting the Columns from Object type to Numerical Type\n",
    "dataset[\"Dining Rating\"] = dataset[\"Dining Rating\"].astype(\"float64\")\n",
    "dataset[\"Dining Rating Count\"] = dataset[\"Dining Rating Count\"].astype(\"int64\")\n",
    "dataset[\"Delivery Rating\"] = dataset[\"Delivery Rating\"].astype(\"float64\")\n",
    "dataset[\"Delivery Rating Count\"] = dataset[\"Delivery Rating Count\"].astype(\"int64\")"
   ]
  },
  {
   "cell_type": "code",
   "execution_count": 21,
   "id": "f07b2c19-8675-4696-8e97-37c5b07034e2",
   "metadata": {},
   "outputs": [
    {
     "name": "stdout",
     "output_type": "stream",
     "text": [
      "<class 'pandas.core.frame.DataFrame'>\n",
      "RangeIndex: 12032 entries, 0 to 12031\n",
      "Data columns (total 10 columns):\n",
      " #   Column                 Non-Null Count  Dtype  \n",
      "---  ------                 --------------  -----  \n",
      " 0   Name of Restaurant     12032 non-null  object \n",
      " 1   Location               12032 non-null  object \n",
      " 2   Cuisine                12032 non-null  object \n",
      " 3   Top Dishes             12032 non-null  object \n",
      " 4   Price for 2            12032 non-null  float64\n",
      " 5   Dining Rating          12032 non-null  float64\n",
      " 6   Dining Rating Count    12032 non-null  int64  \n",
      " 7   Delivery Rating        12032 non-null  float64\n",
      " 8   Delivery Rating Count  12032 non-null  int64  \n",
      " 9   Features               12032 non-null  object \n",
      "dtypes: float64(3), int64(2), object(5)\n",
      "memory usage: 940.1+ KB\n"
     ]
    }
   ],
   "source": [
    "dataset.info()"
   ]
  },
  {
   "cell_type": "code",
   "execution_count": 22,
   "id": "45539b66-4306-4027-b6fd-811e9c9fdd5e",
   "metadata": {},
   "outputs": [
    {
     "data": {
      "text/html": [
       "<div>\n",
       "<style scoped>\n",
       "    .dataframe tbody tr th:only-of-type {\n",
       "        vertical-align: middle;\n",
       "    }\n",
       "\n",
       "    .dataframe tbody tr th {\n",
       "        vertical-align: top;\n",
       "    }\n",
       "\n",
       "    .dataframe thead th {\n",
       "        text-align: right;\n",
       "    }\n",
       "</style>\n",
       "<table border=\"1\" class=\"dataframe\">\n",
       "  <thead>\n",
       "    <tr style=\"text-align: right;\">\n",
       "      <th></th>\n",
       "      <th>Name of Restaurant</th>\n",
       "      <th>Location</th>\n",
       "      <th>Cuisine</th>\n",
       "      <th>Top Dishes</th>\n",
       "      <th>Price for 2</th>\n",
       "      <th>Dining Rating</th>\n",
       "      <th>Dining Rating Count</th>\n",
       "      <th>Delivery Rating</th>\n",
       "      <th>Delivery Rating Count</th>\n",
       "      <th>Features</th>\n",
       "    </tr>\n",
       "  </thead>\n",
       "  <tbody>\n",
       "    <tr>\n",
       "      <th>0</th>\n",
       "      <td>Yaa Mohaideen Briyani</td>\n",
       "      <td>Pallavaram</td>\n",
       "      <td>['Biryani']</td>\n",
       "      <td>['Bread Halwa', ' Chicken 65', ' Mutton Biryan...</td>\n",
       "      <td>500.0</td>\n",
       "      <td>4.3</td>\n",
       "      <td>1500</td>\n",
       "      <td>4.3</td>\n",
       "      <td>9306</td>\n",
       "      <td>['Home Delivery', 'Indoor Seating']</td>\n",
       "    </tr>\n",
       "    <tr>\n",
       "      <th>1</th>\n",
       "      <td>Sukkubhai Biriyani</td>\n",
       "      <td>Alandur</td>\n",
       "      <td>['Biryani', ' North Indian', ' Mughlai', ' Des...</td>\n",
       "      <td>['Beef Biryani', ' Beef Fry', ' Paratha', ' Pa...</td>\n",
       "      <td>1000.0</td>\n",
       "      <td>4.4</td>\n",
       "      <td>3059</td>\n",
       "      <td>4.1</td>\n",
       "      <td>39200</td>\n",
       "      <td>['Home Delivery', 'Free Parking', 'Table booki...</td>\n",
       "    </tr>\n",
       "    <tr>\n",
       "      <th>2</th>\n",
       "      <td>SS Hyderabad Biryani</td>\n",
       "      <td>Kodambakkam</td>\n",
       "      <td>['Biryani', ' North Indian', ' Chinese', ' Ara...</td>\n",
       "      <td>['Brinjal Curry', ' Tandoori Chicken', ' Chick...</td>\n",
       "      <td>500.0</td>\n",
       "      <td>4.3</td>\n",
       "      <td>1361</td>\n",
       "      <td>4.4</td>\n",
       "      <td>10500</td>\n",
       "      <td>['Home Delivery', 'Indoor Seating']</td>\n",
       "    </tr>\n",
       "    <tr>\n",
       "      <th>3</th>\n",
       "      <td>KFC</td>\n",
       "      <td>Perambur</td>\n",
       "      <td>['Burger', ' Fast Food', ' Finger Food', ' Bev...</td>\n",
       "      <td>['Zinger Burger']</td>\n",
       "      <td>500.0</td>\n",
       "      <td>4.0</td>\n",
       "      <td>1101</td>\n",
       "      <td>4.0</td>\n",
       "      <td>11200</td>\n",
       "      <td>['Home Delivery', 'Free Parking', 'Card Upon D...</td>\n",
       "    </tr>\n",
       "    <tr>\n",
       "      <th>4</th>\n",
       "      <td>Tasty Kitchen</td>\n",
       "      <td>Perambur</td>\n",
       "      <td>['Chinese', ' Biryani', ' North Indian', ' Che...</td>\n",
       "      <td>['Mutton Biryani', ' Chicken Rice', ' Tomato R...</td>\n",
       "      <td>450.0</td>\n",
       "      <td>4.2</td>\n",
       "      <td>617</td>\n",
       "      <td>4.1</td>\n",
       "      <td>22400</td>\n",
       "      <td>['Home Delivery', 'Indoor Seating']</td>\n",
       "    </tr>\n",
       "    <tr>\n",
       "      <th>...</th>\n",
       "      <td>...</td>\n",
       "      <td>...</td>\n",
       "      <td>...</td>\n",
       "      <td>...</td>\n",
       "      <td>...</td>\n",
       "      <td>...</td>\n",
       "      <td>...</td>\n",
       "      <td>...</td>\n",
       "      <td>...</td>\n",
       "      <td>...</td>\n",
       "    </tr>\n",
       "    <tr>\n",
       "      <th>12027</th>\n",
       "      <td>CK's Sandwiches</td>\n",
       "      <td>Porur</td>\n",
       "      <td>['Sandwich']</td>\n",
       "      <td>Invalid</td>\n",
       "      <td>350.0</td>\n",
       "      <td>0.0</td>\n",
       "      <td>0</td>\n",
       "      <td>0.0</td>\n",
       "      <td>0</td>\n",
       "      <td>['Breakfast', 'Delivery Only']</td>\n",
       "    </tr>\n",
       "    <tr>\n",
       "      <th>12028</th>\n",
       "      <td>CK's Sandwiches</td>\n",
       "      <td>Kolathur</td>\n",
       "      <td>['Sandwich']</td>\n",
       "      <td>Invalid</td>\n",
       "      <td>350.0</td>\n",
       "      <td>0.0</td>\n",
       "      <td>0</td>\n",
       "      <td>0.0</td>\n",
       "      <td>0</td>\n",
       "      <td>['Breakfast', 'Delivery Only']</td>\n",
       "    </tr>\n",
       "    <tr>\n",
       "      <th>12029</th>\n",
       "      <td>CK's Sandwiches</td>\n",
       "      <td>Anna Nagar East</td>\n",
       "      <td>['Sandwich']</td>\n",
       "      <td>Invalid</td>\n",
       "      <td>350.0</td>\n",
       "      <td>0.0</td>\n",
       "      <td>0</td>\n",
       "      <td>0.0</td>\n",
       "      <td>0</td>\n",
       "      <td>['Breakfast', 'Delivery Only']</td>\n",
       "    </tr>\n",
       "    <tr>\n",
       "      <th>12030</th>\n",
       "      <td>CK's Sandwiches</td>\n",
       "      <td>Ramapuram</td>\n",
       "      <td>['Sandwich']</td>\n",
       "      <td>Invalid</td>\n",
       "      <td>350.0</td>\n",
       "      <td>0.0</td>\n",
       "      <td>0</td>\n",
       "      <td>0.0</td>\n",
       "      <td>0</td>\n",
       "      <td>['Breakfast', 'Delivery Only']</td>\n",
       "    </tr>\n",
       "    <tr>\n",
       "      <th>12031</th>\n",
       "      <td>CK's Sandwiches</td>\n",
       "      <td>Sholinganallur</td>\n",
       "      <td>['Sandwich']</td>\n",
       "      <td>Invalid</td>\n",
       "      <td>350.0</td>\n",
       "      <td>0.0</td>\n",
       "      <td>0</td>\n",
       "      <td>0.0</td>\n",
       "      <td>0</td>\n",
       "      <td>['Breakfast', 'Delivery Only']</td>\n",
       "    </tr>\n",
       "  </tbody>\n",
       "</table>\n",
       "<p>12032 rows × 10 columns</p>\n",
       "</div>"
      ],
      "text/plain": [
       "          Name of Restaurant         Location  \\\n",
       "0      Yaa Mohaideen Briyani       Pallavaram   \n",
       "1         Sukkubhai Biriyani          Alandur   \n",
       "2       SS Hyderabad Biryani      Kodambakkam   \n",
       "3                        KFC         Perambur   \n",
       "4              Tasty Kitchen         Perambur   \n",
       "...                      ...              ...   \n",
       "12027        CK's Sandwiches            Porur   \n",
       "12028        CK's Sandwiches         Kolathur   \n",
       "12029        CK's Sandwiches  Anna Nagar East   \n",
       "12030        CK's Sandwiches        Ramapuram   \n",
       "12031        CK's Sandwiches   Sholinganallur   \n",
       "\n",
       "                                                 Cuisine  \\\n",
       "0                                            ['Biryani']   \n",
       "1      ['Biryani', ' North Indian', ' Mughlai', ' Des...   \n",
       "2      ['Biryani', ' North Indian', ' Chinese', ' Ara...   \n",
       "3      ['Burger', ' Fast Food', ' Finger Food', ' Bev...   \n",
       "4      ['Chinese', ' Biryani', ' North Indian', ' Che...   \n",
       "...                                                  ...   \n",
       "12027                                       ['Sandwich']   \n",
       "12028                                       ['Sandwich']   \n",
       "12029                                       ['Sandwich']   \n",
       "12030                                       ['Sandwich']   \n",
       "12031                                       ['Sandwich']   \n",
       "\n",
       "                                              Top Dishes  Price for 2  \\\n",
       "0      ['Bread Halwa', ' Chicken 65', ' Mutton Biryan...        500.0   \n",
       "1      ['Beef Biryani', ' Beef Fry', ' Paratha', ' Pa...       1000.0   \n",
       "2      ['Brinjal Curry', ' Tandoori Chicken', ' Chick...        500.0   \n",
       "3                                      ['Zinger Burger']        500.0   \n",
       "4      ['Mutton Biryani', ' Chicken Rice', ' Tomato R...        450.0   \n",
       "...                                                  ...          ...   \n",
       "12027                                            Invalid        350.0   \n",
       "12028                                            Invalid        350.0   \n",
       "12029                                            Invalid        350.0   \n",
       "12030                                            Invalid        350.0   \n",
       "12031                                            Invalid        350.0   \n",
       "\n",
       "       Dining Rating  Dining Rating Count  Delivery Rating  \\\n",
       "0                4.3                 1500              4.3   \n",
       "1                4.4                 3059              4.1   \n",
       "2                4.3                 1361              4.4   \n",
       "3                4.0                 1101              4.0   \n",
       "4                4.2                  617              4.1   \n",
       "...              ...                  ...              ...   \n",
       "12027            0.0                    0              0.0   \n",
       "12028            0.0                    0              0.0   \n",
       "12029            0.0                    0              0.0   \n",
       "12030            0.0                    0              0.0   \n",
       "12031            0.0                    0              0.0   \n",
       "\n",
       "       Delivery Rating Count  \\\n",
       "0                       9306   \n",
       "1                      39200   \n",
       "2                      10500   \n",
       "3                      11200   \n",
       "4                      22400   \n",
       "...                      ...   \n",
       "12027                      0   \n",
       "12028                      0   \n",
       "12029                      0   \n",
       "12030                      0   \n",
       "12031                      0   \n",
       "\n",
       "                                                Features  \n",
       "0                    ['Home Delivery', 'Indoor Seating']  \n",
       "1      ['Home Delivery', 'Free Parking', 'Table booki...  \n",
       "2                    ['Home Delivery', 'Indoor Seating']  \n",
       "3      ['Home Delivery', 'Free Parking', 'Card Upon D...  \n",
       "4                    ['Home Delivery', 'Indoor Seating']  \n",
       "...                                                  ...  \n",
       "12027                     ['Breakfast', 'Delivery Only']  \n",
       "12028                     ['Breakfast', 'Delivery Only']  \n",
       "12029                     ['Breakfast', 'Delivery Only']  \n",
       "12030                     ['Breakfast', 'Delivery Only']  \n",
       "12031                     ['Breakfast', 'Delivery Only']  \n",
       "\n",
       "[12032 rows x 10 columns]"
      ]
     },
     "execution_count": 22,
     "metadata": {},
     "output_type": "execute_result"
    }
   ],
   "source": [
    "dataset"
   ]
  },
  {
   "cell_type": "code",
   "execution_count": 23,
   "id": "42ac80ce-fdd2-43e5-9b9b-0470484de267",
   "metadata": {},
   "outputs": [],
   "source": [
    "#Replacing the Unwanted characters like '[', ']'\n",
    "STR_TO_REPLACE = [\"\\[\",\"\\]\",\"\\'\"]\n",
    "\n",
    "for column in [\"Cuisine\",\"Top Dishes\",\"Features\"]:\n",
    "    for char in STR_TO_REPLACE:\n",
    "        dataset[column] = dataset[column].str.replace(char,\"\",regex = True)\n",
    "    \n"
   ]
  },
  {
   "cell_type": "code",
   "execution_count": 24,
   "id": "22eb1298-8386-47ac-be17-f09fe9c42864",
   "metadata": {},
   "outputs": [
    {
     "data": {
      "text/html": [
       "<div>\n",
       "<style scoped>\n",
       "    .dataframe tbody tr th:only-of-type {\n",
       "        vertical-align: middle;\n",
       "    }\n",
       "\n",
       "    .dataframe tbody tr th {\n",
       "        vertical-align: top;\n",
       "    }\n",
       "\n",
       "    .dataframe thead th {\n",
       "        text-align: right;\n",
       "    }\n",
       "</style>\n",
       "<table border=\"1\" class=\"dataframe\">\n",
       "  <thead>\n",
       "    <tr style=\"text-align: right;\">\n",
       "      <th></th>\n",
       "      <th>Name of Restaurant</th>\n",
       "      <th>Location</th>\n",
       "      <th>Cuisine</th>\n",
       "      <th>Top Dishes</th>\n",
       "      <th>Price for 2</th>\n",
       "      <th>Dining Rating</th>\n",
       "      <th>Dining Rating Count</th>\n",
       "      <th>Delivery Rating</th>\n",
       "      <th>Delivery Rating Count</th>\n",
       "      <th>Features</th>\n",
       "    </tr>\n",
       "  </thead>\n",
       "  <tbody>\n",
       "    <tr>\n",
       "      <th>0</th>\n",
       "      <td>Yaa Mohaideen Briyani</td>\n",
       "      <td>Pallavaram</td>\n",
       "      <td>Biryani</td>\n",
       "      <td>Bread Halwa,  Chicken 65,  Mutton Biryani,  Ch...</td>\n",
       "      <td>500.0</td>\n",
       "      <td>4.3</td>\n",
       "      <td>1500</td>\n",
       "      <td>4.3</td>\n",
       "      <td>9306</td>\n",
       "      <td>Home Delivery, Indoor Seating</td>\n",
       "    </tr>\n",
       "    <tr>\n",
       "      <th>1</th>\n",
       "      <td>Sukkubhai Biriyani</td>\n",
       "      <td>Alandur</td>\n",
       "      <td>Biryani,  North Indian,  Mughlai,  Desserts,  ...</td>\n",
       "      <td>Beef Biryani,  Beef Fry,  Paratha,  Paya,  Bri...</td>\n",
       "      <td>1000.0</td>\n",
       "      <td>4.4</td>\n",
       "      <td>3059</td>\n",
       "      <td>4.1</td>\n",
       "      <td>39200</td>\n",
       "      <td>Home Delivery, Free Parking, Table booking rec...</td>\n",
       "    </tr>\n",
       "    <tr>\n",
       "      <th>2</th>\n",
       "      <td>SS Hyderabad Biryani</td>\n",
       "      <td>Kodambakkam</td>\n",
       "      <td>Biryani,  North Indian,  Chinese,  Arabian</td>\n",
       "      <td>Brinjal Curry,  Tandoori Chicken,  Chicken Gri...</td>\n",
       "      <td>500.0</td>\n",
       "      <td>4.3</td>\n",
       "      <td>1361</td>\n",
       "      <td>4.4</td>\n",
       "      <td>10500</td>\n",
       "      <td>Home Delivery, Indoor Seating</td>\n",
       "    </tr>\n",
       "    <tr>\n",
       "      <th>3</th>\n",
       "      <td>KFC</td>\n",
       "      <td>Perambur</td>\n",
       "      <td>Burger,  Fast Food,  Finger Food,  Beverages</td>\n",
       "      <td>Zinger Burger</td>\n",
       "      <td>500.0</td>\n",
       "      <td>4.0</td>\n",
       "      <td>1101</td>\n",
       "      <td>4.0</td>\n",
       "      <td>11200</td>\n",
       "      <td>Home Delivery, Free Parking, Card Upon Deliver...</td>\n",
       "    </tr>\n",
       "    <tr>\n",
       "      <th>4</th>\n",
       "      <td>Tasty Kitchen</td>\n",
       "      <td>Perambur</td>\n",
       "      <td>Chinese,  Biryani,  North Indian,  Chettinad, ...</td>\n",
       "      <td>Mutton Biryani,  Chicken Rice,  Tomato Rice,  ...</td>\n",
       "      <td>450.0</td>\n",
       "      <td>4.2</td>\n",
       "      <td>617</td>\n",
       "      <td>4.1</td>\n",
       "      <td>22400</td>\n",
       "      <td>Home Delivery, Indoor Seating</td>\n",
       "    </tr>\n",
       "    <tr>\n",
       "      <th>...</th>\n",
       "      <td>...</td>\n",
       "      <td>...</td>\n",
       "      <td>...</td>\n",
       "      <td>...</td>\n",
       "      <td>...</td>\n",
       "      <td>...</td>\n",
       "      <td>...</td>\n",
       "      <td>...</td>\n",
       "      <td>...</td>\n",
       "      <td>...</td>\n",
       "    </tr>\n",
       "    <tr>\n",
       "      <th>12027</th>\n",
       "      <td>CK's Sandwiches</td>\n",
       "      <td>Porur</td>\n",
       "      <td>Sandwich</td>\n",
       "      <td>Invalid</td>\n",
       "      <td>350.0</td>\n",
       "      <td>0.0</td>\n",
       "      <td>0</td>\n",
       "      <td>0.0</td>\n",
       "      <td>0</td>\n",
       "      <td>Breakfast, Delivery Only</td>\n",
       "    </tr>\n",
       "    <tr>\n",
       "      <th>12028</th>\n",
       "      <td>CK's Sandwiches</td>\n",
       "      <td>Kolathur</td>\n",
       "      <td>Sandwich</td>\n",
       "      <td>Invalid</td>\n",
       "      <td>350.0</td>\n",
       "      <td>0.0</td>\n",
       "      <td>0</td>\n",
       "      <td>0.0</td>\n",
       "      <td>0</td>\n",
       "      <td>Breakfast, Delivery Only</td>\n",
       "    </tr>\n",
       "    <tr>\n",
       "      <th>12029</th>\n",
       "      <td>CK's Sandwiches</td>\n",
       "      <td>Anna Nagar East</td>\n",
       "      <td>Sandwich</td>\n",
       "      <td>Invalid</td>\n",
       "      <td>350.0</td>\n",
       "      <td>0.0</td>\n",
       "      <td>0</td>\n",
       "      <td>0.0</td>\n",
       "      <td>0</td>\n",
       "      <td>Breakfast, Delivery Only</td>\n",
       "    </tr>\n",
       "    <tr>\n",
       "      <th>12030</th>\n",
       "      <td>CK's Sandwiches</td>\n",
       "      <td>Ramapuram</td>\n",
       "      <td>Sandwich</td>\n",
       "      <td>Invalid</td>\n",
       "      <td>350.0</td>\n",
       "      <td>0.0</td>\n",
       "      <td>0</td>\n",
       "      <td>0.0</td>\n",
       "      <td>0</td>\n",
       "      <td>Breakfast, Delivery Only</td>\n",
       "    </tr>\n",
       "    <tr>\n",
       "      <th>12031</th>\n",
       "      <td>CK's Sandwiches</td>\n",
       "      <td>Sholinganallur</td>\n",
       "      <td>Sandwich</td>\n",
       "      <td>Invalid</td>\n",
       "      <td>350.0</td>\n",
       "      <td>0.0</td>\n",
       "      <td>0</td>\n",
       "      <td>0.0</td>\n",
       "      <td>0</td>\n",
       "      <td>Breakfast, Delivery Only</td>\n",
       "    </tr>\n",
       "  </tbody>\n",
       "</table>\n",
       "<p>12032 rows × 10 columns</p>\n",
       "</div>"
      ],
      "text/plain": [
       "          Name of Restaurant         Location  \\\n",
       "0      Yaa Mohaideen Briyani       Pallavaram   \n",
       "1         Sukkubhai Biriyani          Alandur   \n",
       "2       SS Hyderabad Biryani      Kodambakkam   \n",
       "3                        KFC         Perambur   \n",
       "4              Tasty Kitchen         Perambur   \n",
       "...                      ...              ...   \n",
       "12027        CK's Sandwiches            Porur   \n",
       "12028        CK's Sandwiches         Kolathur   \n",
       "12029        CK's Sandwiches  Anna Nagar East   \n",
       "12030        CK's Sandwiches        Ramapuram   \n",
       "12031        CK's Sandwiches   Sholinganallur   \n",
       "\n",
       "                                                 Cuisine  \\\n",
       "0                                                Biryani   \n",
       "1      Biryani,  North Indian,  Mughlai,  Desserts,  ...   \n",
       "2             Biryani,  North Indian,  Chinese,  Arabian   \n",
       "3           Burger,  Fast Food,  Finger Food,  Beverages   \n",
       "4      Chinese,  Biryani,  North Indian,  Chettinad, ...   \n",
       "...                                                  ...   \n",
       "12027                                           Sandwich   \n",
       "12028                                           Sandwich   \n",
       "12029                                           Sandwich   \n",
       "12030                                           Sandwich   \n",
       "12031                                           Sandwich   \n",
       "\n",
       "                                              Top Dishes  Price for 2  \\\n",
       "0      Bread Halwa,  Chicken 65,  Mutton Biryani,  Ch...        500.0   \n",
       "1      Beef Biryani,  Beef Fry,  Paratha,  Paya,  Bri...       1000.0   \n",
       "2      Brinjal Curry,  Tandoori Chicken,  Chicken Gri...        500.0   \n",
       "3                                          Zinger Burger        500.0   \n",
       "4      Mutton Biryani,  Chicken Rice,  Tomato Rice,  ...        450.0   \n",
       "...                                                  ...          ...   \n",
       "12027                                            Invalid        350.0   \n",
       "12028                                            Invalid        350.0   \n",
       "12029                                            Invalid        350.0   \n",
       "12030                                            Invalid        350.0   \n",
       "12031                                            Invalid        350.0   \n",
       "\n",
       "       Dining Rating  Dining Rating Count  Delivery Rating  \\\n",
       "0                4.3                 1500              4.3   \n",
       "1                4.4                 3059              4.1   \n",
       "2                4.3                 1361              4.4   \n",
       "3                4.0                 1101              4.0   \n",
       "4                4.2                  617              4.1   \n",
       "...              ...                  ...              ...   \n",
       "12027            0.0                    0              0.0   \n",
       "12028            0.0                    0              0.0   \n",
       "12029            0.0                    0              0.0   \n",
       "12030            0.0                    0              0.0   \n",
       "12031            0.0                    0              0.0   \n",
       "\n",
       "       Delivery Rating Count  \\\n",
       "0                       9306   \n",
       "1                      39200   \n",
       "2                      10500   \n",
       "3                      11200   \n",
       "4                      22400   \n",
       "...                      ...   \n",
       "12027                      0   \n",
       "12028                      0   \n",
       "12029                      0   \n",
       "12030                      0   \n",
       "12031                      0   \n",
       "\n",
       "                                                Features  \n",
       "0                          Home Delivery, Indoor Seating  \n",
       "1      Home Delivery, Free Parking, Table booking rec...  \n",
       "2                          Home Delivery, Indoor Seating  \n",
       "3      Home Delivery, Free Parking, Card Upon Deliver...  \n",
       "4                          Home Delivery, Indoor Seating  \n",
       "...                                                  ...  \n",
       "12027                           Breakfast, Delivery Only  \n",
       "12028                           Breakfast, Delivery Only  \n",
       "12029                           Breakfast, Delivery Only  \n",
       "12030                           Breakfast, Delivery Only  \n",
       "12031                           Breakfast, Delivery Only  \n",
       "\n",
       "[12032 rows x 10 columns]"
      ]
     },
     "execution_count": 24,
     "metadata": {},
     "output_type": "execute_result"
    }
   ],
   "source": [
    "dataset"
   ]
  },
  {
   "cell_type": "code",
   "execution_count": 25,
   "id": "05c4045d-1c4d-4e3f-a101-2d7c045f2f23",
   "metadata": {},
   "outputs": [
    {
     "data": {
      "text/plain": [
       "Top Dishes\n",
       "Invalid                                                                                                                9641\n",
       "Biryani                                                                                                                  30\n",
       "Coffee                                                                                                                   14\n",
       "Chicken Biryani                                                                                                          12\n",
       "Pizza,  Garlic Bread                                                                                                     11\n",
       "                                                                                                                       ... \n",
       "Burgers,  Sandwich,  Beef Burger,  Burger Combo,  French Fries,  Cheese Corn Nuggets                                      1\n",
       "Fish,  Chicken 65,  Chicken Biryani,  Fried Rice,  Chilli Chicken                                                         1\n",
       "Churros,  Waffles,  Coffee,  Chocolate Gateau,  Vanilla Ice Cream                                                         1\n",
       "Shawarma,  Chicken Biryani,  Paneer Tikka Masala,  Gulab Jamun,  Mutton Biryani,  Chicken Grill,  Chicken Shawarama       1\n",
       "Chaat,  Rasmalai                                                                                                          1\n",
       "Name: count, Length: 2190, dtype: int64"
      ]
     },
     "execution_count": 25,
     "metadata": {},
     "output_type": "execute_result"
    }
   ],
   "source": [
    "dataset[\"Top Dishes\"].value_counts()"
   ]
  },
  {
   "cell_type": "code",
   "execution_count": 26,
   "id": "b3a4c456-a796-49fe-b0b0-82fa27ceaebb",
   "metadata": {},
   "outputs": [],
   "source": [
    "dataset[\"Top Dishes\"].replace(to_replace = [\"Invalid\"], value = 'NA' , inplace = True)"
   ]
  },
  {
   "cell_type": "code",
   "execution_count": 27,
   "id": "9986b6cc-cd1d-4ad2-ab42-c82898fe7d26",
   "metadata": {},
   "outputs": [
    {
     "data": {
      "text/html": [
       "<div>\n",
       "<style scoped>\n",
       "    .dataframe tbody tr th:only-of-type {\n",
       "        vertical-align: middle;\n",
       "    }\n",
       "\n",
       "    .dataframe tbody tr th {\n",
       "        vertical-align: top;\n",
       "    }\n",
       "\n",
       "    .dataframe thead th {\n",
       "        text-align: right;\n",
       "    }\n",
       "</style>\n",
       "<table border=\"1\" class=\"dataframe\">\n",
       "  <thead>\n",
       "    <tr style=\"text-align: right;\">\n",
       "      <th></th>\n",
       "      <th>Name of Restaurant</th>\n",
       "      <th>Location</th>\n",
       "      <th>Cuisine</th>\n",
       "      <th>Top Dishes</th>\n",
       "      <th>Price for 2</th>\n",
       "      <th>Dining Rating</th>\n",
       "      <th>Dining Rating Count</th>\n",
       "      <th>Delivery Rating</th>\n",
       "      <th>Delivery Rating Count</th>\n",
       "      <th>Features</th>\n",
       "    </tr>\n",
       "  </thead>\n",
       "  <tbody>\n",
       "    <tr>\n",
       "      <th>0</th>\n",
       "      <td>Yaa Mohaideen Briyani</td>\n",
       "      <td>Pallavaram</td>\n",
       "      <td>Biryani</td>\n",
       "      <td>Bread Halwa,  Chicken 65,  Mutton Biryani,  Ch...</td>\n",
       "      <td>500.0</td>\n",
       "      <td>4.3</td>\n",
       "      <td>1500</td>\n",
       "      <td>4.3</td>\n",
       "      <td>9306</td>\n",
       "      <td>Home Delivery, Indoor Seating</td>\n",
       "    </tr>\n",
       "    <tr>\n",
       "      <th>1</th>\n",
       "      <td>Sukkubhai Biriyani</td>\n",
       "      <td>Alandur</td>\n",
       "      <td>Biryani,  North Indian,  Mughlai,  Desserts,  ...</td>\n",
       "      <td>Beef Biryani,  Beef Fry,  Paratha,  Paya,  Bri...</td>\n",
       "      <td>1000.0</td>\n",
       "      <td>4.4</td>\n",
       "      <td>3059</td>\n",
       "      <td>4.1</td>\n",
       "      <td>39200</td>\n",
       "      <td>Home Delivery, Free Parking, Table booking rec...</td>\n",
       "    </tr>\n",
       "    <tr>\n",
       "      <th>2</th>\n",
       "      <td>SS Hyderabad Biryani</td>\n",
       "      <td>Kodambakkam</td>\n",
       "      <td>Biryani,  North Indian,  Chinese,  Arabian</td>\n",
       "      <td>Brinjal Curry,  Tandoori Chicken,  Chicken Gri...</td>\n",
       "      <td>500.0</td>\n",
       "      <td>4.3</td>\n",
       "      <td>1361</td>\n",
       "      <td>4.4</td>\n",
       "      <td>10500</td>\n",
       "      <td>Home Delivery, Indoor Seating</td>\n",
       "    </tr>\n",
       "    <tr>\n",
       "      <th>3</th>\n",
       "      <td>KFC</td>\n",
       "      <td>Perambur</td>\n",
       "      <td>Burger,  Fast Food,  Finger Food,  Beverages</td>\n",
       "      <td>Zinger Burger</td>\n",
       "      <td>500.0</td>\n",
       "      <td>4.0</td>\n",
       "      <td>1101</td>\n",
       "      <td>4.0</td>\n",
       "      <td>11200</td>\n",
       "      <td>Home Delivery, Free Parking, Card Upon Deliver...</td>\n",
       "    </tr>\n",
       "    <tr>\n",
       "      <th>4</th>\n",
       "      <td>Tasty Kitchen</td>\n",
       "      <td>Perambur</td>\n",
       "      <td>Chinese,  Biryani,  North Indian,  Chettinad, ...</td>\n",
       "      <td>Mutton Biryani,  Chicken Rice,  Tomato Rice,  ...</td>\n",
       "      <td>450.0</td>\n",
       "      <td>4.2</td>\n",
       "      <td>617</td>\n",
       "      <td>4.1</td>\n",
       "      <td>22400</td>\n",
       "      <td>Home Delivery, Indoor Seating</td>\n",
       "    </tr>\n",
       "    <tr>\n",
       "      <th>...</th>\n",
       "      <td>...</td>\n",
       "      <td>...</td>\n",
       "      <td>...</td>\n",
       "      <td>...</td>\n",
       "      <td>...</td>\n",
       "      <td>...</td>\n",
       "      <td>...</td>\n",
       "      <td>...</td>\n",
       "      <td>...</td>\n",
       "      <td>...</td>\n",
       "    </tr>\n",
       "    <tr>\n",
       "      <th>11901</th>\n",
       "      <td>Dhabba On Wheels</td>\n",
       "      <td>Okkiyampet</td>\n",
       "      <td>North Indian</td>\n",
       "      <td>NA</td>\n",
       "      <td>500.0</td>\n",
       "      <td>0.0</td>\n",
       "      <td>0</td>\n",
       "      <td>3.0</td>\n",
       "      <td>54</td>\n",
       "      <td>Home Delivery, Indoor Seating</td>\n",
       "    </tr>\n",
       "    <tr>\n",
       "      <th>11914</th>\n",
       "      <td>Sandwich Sisters</td>\n",
       "      <td>Velachery</td>\n",
       "      <td>Sandwich</td>\n",
       "      <td>NA</td>\n",
       "      <td>200.0</td>\n",
       "      <td>0.0</td>\n",
       "      <td>0</td>\n",
       "      <td>3.6</td>\n",
       "      <td>75</td>\n",
       "      <td>Home Delivery, Free Parking</td>\n",
       "    </tr>\n",
       "    <tr>\n",
       "      <th>11953</th>\n",
       "      <td>The Sandwich Box</td>\n",
       "      <td>Navallur</td>\n",
       "      <td>Sandwich,  Fast Food,  Beverages</td>\n",
       "      <td>NA</td>\n",
       "      <td>300.0</td>\n",
       "      <td>0.0</td>\n",
       "      <td>0</td>\n",
       "      <td>3.9</td>\n",
       "      <td>21</td>\n",
       "      <td>Home Delivery, Indoor Seating</td>\n",
       "    </tr>\n",
       "    <tr>\n",
       "      <th>11959</th>\n",
       "      <td>The Shangai Story</td>\n",
       "      <td>Madipakkam</td>\n",
       "      <td>Chinese</td>\n",
       "      <td>NA</td>\n",
       "      <td>350.0</td>\n",
       "      <td>0.0</td>\n",
       "      <td>0</td>\n",
       "      <td>2.9</td>\n",
       "      <td>17</td>\n",
       "      <td>Delivery Only</td>\n",
       "    </tr>\n",
       "    <tr>\n",
       "      <th>11960</th>\n",
       "      <td>The Shangai Story</td>\n",
       "      <td>Egatoor</td>\n",
       "      <td>Chinese</td>\n",
       "      <td>NA</td>\n",
       "      <td>350.0</td>\n",
       "      <td>0.0</td>\n",
       "      <td>0</td>\n",
       "      <td>2.7</td>\n",
       "      <td>17</td>\n",
       "      <td>Delivery Only</td>\n",
       "    </tr>\n",
       "  </tbody>\n",
       "</table>\n",
       "<p>8481 rows × 10 columns</p>\n",
       "</div>"
      ],
      "text/plain": [
       "          Name of Restaurant     Location  \\\n",
       "0      Yaa Mohaideen Briyani   Pallavaram   \n",
       "1         Sukkubhai Biriyani      Alandur   \n",
       "2       SS Hyderabad Biryani  Kodambakkam   \n",
       "3                        KFC     Perambur   \n",
       "4              Tasty Kitchen     Perambur   \n",
       "...                      ...          ...   \n",
       "11901       Dhabba On Wheels   Okkiyampet   \n",
       "11914       Sandwich Sisters    Velachery   \n",
       "11953       The Sandwich Box     Navallur   \n",
       "11959      The Shangai Story   Madipakkam   \n",
       "11960      The Shangai Story      Egatoor   \n",
       "\n",
       "                                                 Cuisine  \\\n",
       "0                                                Biryani   \n",
       "1      Biryani,  North Indian,  Mughlai,  Desserts,  ...   \n",
       "2             Biryani,  North Indian,  Chinese,  Arabian   \n",
       "3           Burger,  Fast Food,  Finger Food,  Beverages   \n",
       "4      Chinese,  Biryani,  North Indian,  Chettinad, ...   \n",
       "...                                                  ...   \n",
       "11901                                       North Indian   \n",
       "11914                                           Sandwich   \n",
       "11953                   Sandwich,  Fast Food,  Beverages   \n",
       "11959                                            Chinese   \n",
       "11960                                            Chinese   \n",
       "\n",
       "                                              Top Dishes  Price for 2  \\\n",
       "0      Bread Halwa,  Chicken 65,  Mutton Biryani,  Ch...        500.0   \n",
       "1      Beef Biryani,  Beef Fry,  Paratha,  Paya,  Bri...       1000.0   \n",
       "2      Brinjal Curry,  Tandoori Chicken,  Chicken Gri...        500.0   \n",
       "3                                          Zinger Burger        500.0   \n",
       "4      Mutton Biryani,  Chicken Rice,  Tomato Rice,  ...        450.0   \n",
       "...                                                  ...          ...   \n",
       "11901                                                 NA        500.0   \n",
       "11914                                                 NA        200.0   \n",
       "11953                                                 NA        300.0   \n",
       "11959                                                 NA        350.0   \n",
       "11960                                                 NA        350.0   \n",
       "\n",
       "       Dining Rating  Dining Rating Count  Delivery Rating  \\\n",
       "0                4.3                 1500              4.3   \n",
       "1                4.4                 3059              4.1   \n",
       "2                4.3                 1361              4.4   \n",
       "3                4.0                 1101              4.0   \n",
       "4                4.2                  617              4.1   \n",
       "...              ...                  ...              ...   \n",
       "11901            0.0                    0              3.0   \n",
       "11914            0.0                    0              3.6   \n",
       "11953            0.0                    0              3.9   \n",
       "11959            0.0                    0              2.9   \n",
       "11960            0.0                    0              2.7   \n",
       "\n",
       "       Delivery Rating Count  \\\n",
       "0                       9306   \n",
       "1                      39200   \n",
       "2                      10500   \n",
       "3                      11200   \n",
       "4                      22400   \n",
       "...                      ...   \n",
       "11901                     54   \n",
       "11914                     75   \n",
       "11953                     21   \n",
       "11959                     17   \n",
       "11960                     17   \n",
       "\n",
       "                                                Features  \n",
       "0                          Home Delivery, Indoor Seating  \n",
       "1      Home Delivery, Free Parking, Table booking rec...  \n",
       "2                          Home Delivery, Indoor Seating  \n",
       "3      Home Delivery, Free Parking, Card Upon Deliver...  \n",
       "4                          Home Delivery, Indoor Seating  \n",
       "...                                                  ...  \n",
       "11901                      Home Delivery, Indoor Seating  \n",
       "11914                        Home Delivery, Free Parking  \n",
       "11953                      Home Delivery, Indoor Seating  \n",
       "11959                                      Delivery Only  \n",
       "11960                                      Delivery Only  \n",
       "\n",
       "[8481 rows x 10 columns]"
      ]
     },
     "execution_count": 27,
     "metadata": {},
     "output_type": "execute_result"
    }
   ],
   "source": [
    "#Removing Useles data from the dataset like dining rating 0 and delivery rating 0\n",
    "uselessData  =  (dataset['Dining Rating'] == 0) & (dataset['Delivery Rating'] == 0)\n",
    "dataset = dataset[~uselessData]\n",
    "dataset"
   ]
  },
  {
   "cell_type": "code",
   "execution_count": 28,
   "id": "adef6eee-aa59-4335-b00e-c534ccbcf10e",
   "metadata": {},
   "outputs": [
    {
     "data": {
      "text/html": [
       "<div>\n",
       "<style scoped>\n",
       "    .dataframe tbody tr th:only-of-type {\n",
       "        vertical-align: middle;\n",
       "    }\n",
       "\n",
       "    .dataframe tbody tr th {\n",
       "        vertical-align: top;\n",
       "    }\n",
       "\n",
       "    .dataframe thead th {\n",
       "        text-align: right;\n",
       "    }\n",
       "</style>\n",
       "<table border=\"1\" class=\"dataframe\">\n",
       "  <thead>\n",
       "    <tr style=\"text-align: right;\">\n",
       "      <th></th>\n",
       "      <th>Name of Restaurant</th>\n",
       "      <th>Location</th>\n",
       "      <th>Cuisine</th>\n",
       "      <th>Top Dishes</th>\n",
       "      <th>Price for 2</th>\n",
       "      <th>Dining Rating</th>\n",
       "      <th>Dining Rating Count</th>\n",
       "      <th>Delivery Rating</th>\n",
       "      <th>Delivery Rating Count</th>\n",
       "      <th>Features</th>\n",
       "    </tr>\n",
       "  </thead>\n",
       "  <tbody>\n",
       "    <tr>\n",
       "      <th>0</th>\n",
       "      <td>Yaa Mohaideen Briyani</td>\n",
       "      <td>Pallavaram</td>\n",
       "      <td>Biryani</td>\n",
       "      <td>Bread Halwa,  Chicken 65,  Mutton Biryani,  Ch...</td>\n",
       "      <td>500.0</td>\n",
       "      <td>4.3</td>\n",
       "      <td>1500</td>\n",
       "      <td>4.3</td>\n",
       "      <td>9306</td>\n",
       "      <td>Home Delivery, Indoor Seating</td>\n",
       "    </tr>\n",
       "    <tr>\n",
       "      <th>1</th>\n",
       "      <td>Sukkubhai Biriyani</td>\n",
       "      <td>Alandur</td>\n",
       "      <td>Biryani,  North Indian,  Mughlai,  Desserts,  ...</td>\n",
       "      <td>Beef Biryani,  Beef Fry,  Paratha,  Paya,  Bri...</td>\n",
       "      <td>1000.0</td>\n",
       "      <td>4.4</td>\n",
       "      <td>3059</td>\n",
       "      <td>4.1</td>\n",
       "      <td>39200</td>\n",
       "      <td>Home Delivery, Free Parking, Table booking rec...</td>\n",
       "    </tr>\n",
       "    <tr>\n",
       "      <th>2</th>\n",
       "      <td>SS Hyderabad Biryani</td>\n",
       "      <td>Kodambakkam</td>\n",
       "      <td>Biryani,  North Indian,  Chinese,  Arabian</td>\n",
       "      <td>Brinjal Curry,  Tandoori Chicken,  Chicken Gri...</td>\n",
       "      <td>500.0</td>\n",
       "      <td>4.3</td>\n",
       "      <td>1361</td>\n",
       "      <td>4.4</td>\n",
       "      <td>10500</td>\n",
       "      <td>Home Delivery, Indoor Seating</td>\n",
       "    </tr>\n",
       "    <tr>\n",
       "      <th>3</th>\n",
       "      <td>KFC</td>\n",
       "      <td>Perambur</td>\n",
       "      <td>Burger,  Fast Food,  Finger Food,  Beverages</td>\n",
       "      <td>Zinger Burger</td>\n",
       "      <td>500.0</td>\n",
       "      <td>4.0</td>\n",
       "      <td>1101</td>\n",
       "      <td>4.0</td>\n",
       "      <td>11200</td>\n",
       "      <td>Home Delivery, Free Parking, Card Upon Deliver...</td>\n",
       "    </tr>\n",
       "    <tr>\n",
       "      <th>4</th>\n",
       "      <td>Tasty Kitchen</td>\n",
       "      <td>Perambur</td>\n",
       "      <td>Chinese,  Biryani,  North Indian,  Chettinad, ...</td>\n",
       "      <td>Mutton Biryani,  Chicken Rice,  Tomato Rice,  ...</td>\n",
       "      <td>450.0</td>\n",
       "      <td>4.2</td>\n",
       "      <td>617</td>\n",
       "      <td>4.1</td>\n",
       "      <td>22400</td>\n",
       "      <td>Home Delivery, Indoor Seating</td>\n",
       "    </tr>\n",
       "  </tbody>\n",
       "</table>\n",
       "</div>"
      ],
      "text/plain": [
       "      Name of Restaurant     Location  \\\n",
       "0  Yaa Mohaideen Briyani   Pallavaram   \n",
       "1     Sukkubhai Biriyani      Alandur   \n",
       "2   SS Hyderabad Biryani  Kodambakkam   \n",
       "3                    KFC     Perambur   \n",
       "4          Tasty Kitchen     Perambur   \n",
       "\n",
       "                                             Cuisine  \\\n",
       "0                                            Biryani   \n",
       "1  Biryani,  North Indian,  Mughlai,  Desserts,  ...   \n",
       "2         Biryani,  North Indian,  Chinese,  Arabian   \n",
       "3       Burger,  Fast Food,  Finger Food,  Beverages   \n",
       "4  Chinese,  Biryani,  North Indian,  Chettinad, ...   \n",
       "\n",
       "                                          Top Dishes  Price for 2  \\\n",
       "0  Bread Halwa,  Chicken 65,  Mutton Biryani,  Ch...        500.0   \n",
       "1  Beef Biryani,  Beef Fry,  Paratha,  Paya,  Bri...       1000.0   \n",
       "2  Brinjal Curry,  Tandoori Chicken,  Chicken Gri...        500.0   \n",
       "3                                      Zinger Burger        500.0   \n",
       "4  Mutton Biryani,  Chicken Rice,  Tomato Rice,  ...        450.0   \n",
       "\n",
       "   Dining Rating  Dining Rating Count  Delivery Rating  Delivery Rating Count  \\\n",
       "0            4.3                 1500              4.3                   9306   \n",
       "1            4.4                 3059              4.1                  39200   \n",
       "2            4.3                 1361              4.4                  10500   \n",
       "3            4.0                 1101              4.0                  11200   \n",
       "4            4.2                  617              4.1                  22400   \n",
       "\n",
       "                                            Features  \n",
       "0                      Home Delivery, Indoor Seating  \n",
       "1  Home Delivery, Free Parking, Table booking rec...  \n",
       "2                      Home Delivery, Indoor Seating  \n",
       "3  Home Delivery, Free Parking, Card Upon Deliver...  \n",
       "4                      Home Delivery, Indoor Seating  "
      ]
     },
     "execution_count": 28,
     "metadata": {},
     "output_type": "execute_result"
    }
   ],
   "source": [
    "dataset.head()"
   ]
  },
  {
   "cell_type": "code",
   "execution_count": 29,
   "id": "451205ae-af8d-4a72-941c-412a48acfcf7",
   "metadata": {},
   "outputs": [
    {
     "data": {
      "text/plain": [
       "Location\n",
       "Porur                                       270\n",
       "Velachery                                   255\n",
       "T. Nagar                                    235\n",
       "Anna Nagar East                             227\n",
       "Ambattur                                    213\n",
       "                                           ... \n",
       "IBIS Hotel, Old Mahabalipuram Road (OMR)      1\n",
       "The Slate                                     1\n",
       "Eat And Pack, Ambattur                        1\n",
       "The Pride Hotel, Kilpauk                      1\n",
       "Chandra Metro Mall, Virugambakkam             1\n",
       "Name: count, Length: 264, dtype: int64"
      ]
     },
     "execution_count": 29,
     "metadata": {},
     "output_type": "execute_result"
    }
   ],
   "source": [
    "dataset[\"Location\"].value_counts() "
   ]
  },
  {
   "cell_type": "code",
   "execution_count": 30,
   "id": "5eacea0d-fd46-4842-80ea-a9a4ae3bafe7",
   "metadata": {},
   "outputs": [
    {
     "data": {
      "text/plain": [
       "0         Pallavaram\n",
       "1            Alandur\n",
       "2        Kodambakkam\n",
       "3           Perambur\n",
       "4           Perambur\n",
       "            ...     \n",
       "11901     Okkiyampet\n",
       "11914      Velachery\n",
       "11953       Navallur\n",
       "11959     Madipakkam\n",
       "11960        Egatoor\n",
       "Name: Location, Length: 8481, dtype: object"
      ]
     },
     "execution_count": 30,
     "metadata": {},
     "output_type": "execute_result"
    }
   ],
   "source": [
    "dataset['Location'].str.replace(r\"^.*?,\",'',regex=True) "
   ]
  },
  {
   "cell_type": "code",
   "execution_count": 31,
   "id": "ba9a74dd-35bf-4990-affc-db218d0a2f8d",
   "metadata": {},
   "outputs": [],
   "source": [
    "#Replacing the Location with Shorter Names\n",
    "dataset[\"Location\"].replace(\"The Pride Hotel, Kilpauk\",\"Kilpauk\",inplace = True)\n",
    "dataset[\"Location\"].replace(\"Chandra Metro Mall, Virugambakkam\",\"Virugambakkam\",inplace = True)\n",
    "dataset[\"Location\"].replace(\"Hotel Blue Diamond, Kilpauk\",\"Kilpauk\",inplace = True)\n",
    "dataset[\"Location\"].replace(\"Hotel Poigai, Arumbakkam\",\"Arumbakkam\",inplace = True)\n",
    "dataset[\"Location\"].replace(\"Hotel Maurya International, Vadapalani\",\"Vadapalani\",inplace = True)\n",
    "dataset[\"Location\"].replace(\"GLM Meridian Hotel, T. Nagar\",\"T. Nagar\",inplace = True)\n",
    "dataset.loc[dataset[\"Location\"].str.contains(\"Ambattur\"), \"Location\"] = \"Ambattur\"\n",
    "dataset['Location'] = dataset['Location'].str.replace(' West| west| East| east','',regex=True)"
   ]
  },
  {
   "cell_type": "code",
   "execution_count": 32,
   "id": "20b346a5-d2d4-43ac-acec-2faeaf3e70cb",
   "metadata": {},
   "outputs": [
    {
     "data": {
      "text/plain": [
       "Location\n",
       "Anna Nagar                                   396\n",
       "Porur                                        270\n",
       "Velachery                                    255\n",
       "Ambattur                                     239\n",
       "T. Nagar                                     236\n",
       "                                            ... \n",
       "Keys Hotel, Thiruvanmiyur                      1\n",
       "Golden Sun Resort, Mamallapuram                1\n",
       "Jade Resorts, Coast Road (ECR)                 1\n",
       "IBIS Chennai, OMR                              1\n",
       "Four Points by Sheraton, Coast Road (ECR)      1\n",
       "Name: count, Length: 254, dtype: int64"
      ]
     },
     "execution_count": 32,
     "metadata": {},
     "output_type": "execute_result"
    }
   ],
   "source": [
    "dataset['Location'].value_counts()"
   ]
  },
  {
   "cell_type": "code",
   "execution_count": 33,
   "id": "beb3eeff-fe48-4eae-bbc7-60d930a52aed",
   "metadata": {},
   "outputs": [
    {
     "data": {
      "text/html": [
       "<div>\n",
       "<style scoped>\n",
       "    .dataframe tbody tr th:only-of-type {\n",
       "        vertical-align: middle;\n",
       "    }\n",
       "\n",
       "    .dataframe tbody tr th {\n",
       "        vertical-align: top;\n",
       "    }\n",
       "\n",
       "    .dataframe thead th {\n",
       "        text-align: right;\n",
       "    }\n",
       "</style>\n",
       "<table border=\"1\" class=\"dataframe\">\n",
       "  <thead>\n",
       "    <tr style=\"text-align: right;\">\n",
       "      <th></th>\n",
       "      <th>0</th>\n",
       "      <th>1</th>\n",
       "    </tr>\n",
       "  </thead>\n",
       "  <tbody>\n",
       "    <tr>\n",
       "      <th>0</th>\n",
       "      <td>Pallavaram</td>\n",
       "      <td>None</td>\n",
       "    </tr>\n",
       "    <tr>\n",
       "      <th>1</th>\n",
       "      <td>Alandur</td>\n",
       "      <td>None</td>\n",
       "    </tr>\n",
       "    <tr>\n",
       "      <th>2</th>\n",
       "      <td>Kodambakkam</td>\n",
       "      <td>None</td>\n",
       "    </tr>\n",
       "    <tr>\n",
       "      <th>3</th>\n",
       "      <td>Perambur</td>\n",
       "      <td>None</td>\n",
       "    </tr>\n",
       "    <tr>\n",
       "      <th>4</th>\n",
       "      <td>Perambur</td>\n",
       "      <td>None</td>\n",
       "    </tr>\n",
       "    <tr>\n",
       "      <th>...</th>\n",
       "      <td>...</td>\n",
       "      <td>...</td>\n",
       "    </tr>\n",
       "    <tr>\n",
       "      <th>11901</th>\n",
       "      <td>Okkiyampet</td>\n",
       "      <td>None</td>\n",
       "    </tr>\n",
       "    <tr>\n",
       "      <th>11914</th>\n",
       "      <td>Velachery</td>\n",
       "      <td>None</td>\n",
       "    </tr>\n",
       "    <tr>\n",
       "      <th>11953</th>\n",
       "      <td>Navallur</td>\n",
       "      <td>None</td>\n",
       "    </tr>\n",
       "    <tr>\n",
       "      <th>11959</th>\n",
       "      <td>Madipakkam</td>\n",
       "      <td>None</td>\n",
       "    </tr>\n",
       "    <tr>\n",
       "      <th>11960</th>\n",
       "      <td>Egatoor</td>\n",
       "      <td>None</td>\n",
       "    </tr>\n",
       "  </tbody>\n",
       "</table>\n",
       "<p>8481 rows × 2 columns</p>\n",
       "</div>"
      ],
      "text/plain": [
       "                 0     1\n",
       "0       Pallavaram  None\n",
       "1          Alandur  None\n",
       "2      Kodambakkam  None\n",
       "3         Perambur  None\n",
       "4         Perambur  None\n",
       "...            ...   ...\n",
       "11901   Okkiyampet  None\n",
       "11914    Velachery  None\n",
       "11953     Navallur  None\n",
       "11959   Madipakkam  None\n",
       "11960      Egatoor  None\n",
       "\n",
       "[8481 rows x 2 columns]"
      ]
     },
     "execution_count": 33,
     "metadata": {},
     "output_type": "execute_result"
    }
   ],
   "source": [
    "#Splittig the Location Name with delimiter as (,)\n",
    "loc_ = dataset['Location'].str.split(\"\\,\",n = 1, expand = True)\n",
    "loc_"
   ]
  },
  {
   "cell_type": "code",
   "execution_count": 34,
   "id": "c96f750e-c5a3-4609-89bb-e81ef001556d",
   "metadata": {},
   "outputs": [],
   "source": [
    "#Replacing the Location column with shorter location name\n",
    "loc_[2] = loc_[1]\n",
    "loc_.loc[loc_[1].isnull(), 2] = loc_[0]\n",
    "dataset['Location'] = loc_[2][loc_[2].notnull()]"
   ]
  },
  {
   "cell_type": "code",
   "execution_count": 35,
   "id": "5cd4cf9e-386c-4347-8cfd-b91b5195b99e",
   "metadata": {},
   "outputs": [
    {
     "data": {
      "text/plain": [
       "Location\n",
       "Anna Nagar         396\n",
       "Porur              270\n",
       "Velachery          255\n",
       "Ambattur           239\n",
       "T. Nagar           236\n",
       "                  ... \n",
       "Oragadam             1\n",
       " Mahabalipuram       1\n",
       " Adyar               1\n",
       " Pallavaram          1\n",
       "The Slate            1\n",
       "Name: count, Length: 179, dtype: int64"
      ]
     },
     "execution_count": 35,
     "metadata": {},
     "output_type": "execute_result"
    }
   ],
   "source": [
    "dataset['Location'].value_counts()"
   ]
  },
  {
   "cell_type": "code",
   "execution_count": 36,
   "id": "5c4c2400-7ad7-4a04-b049-351fe5b07757",
   "metadata": {},
   "outputs": [
    {
     "data": {
      "text/plain": [
       "0                            Home Delivery, Indoor Seating\n",
       "1        Home Delivery, Free Parking, Table booking rec...\n",
       "2                            Home Delivery, Indoor Seating\n",
       "3        Home Delivery, Free Parking, Card Upon Deliver...\n",
       "4                            Home Delivery, Indoor Seating\n",
       "                               ...                        \n",
       "11901                        Home Delivery, Indoor Seating\n",
       "11914                          Home Delivery, Free Parking\n",
       "11953                        Home Delivery, Indoor Seating\n",
       "11959                                        Delivery Only\n",
       "11960                                        Delivery Only\n",
       "Name: Features, Length: 8481, dtype: object"
      ]
     },
     "execution_count": 36,
     "metadata": {},
     "output_type": "execute_result"
    }
   ],
   "source": [
    "dataset[\"Features\"]"
   ]
  },
  {
   "cell_type": "code",
   "execution_count": 37,
   "id": "28a05575-f27f-4a47-8fe5-47e40a7cdf6b",
   "metadata": {},
   "outputs": [
    {
     "data": {
      "text/html": [
       "<div>\n",
       "<style scoped>\n",
       "    .dataframe tbody tr th:only-of-type {\n",
       "        vertical-align: middle;\n",
       "    }\n",
       "\n",
       "    .dataframe tbody tr th {\n",
       "        vertical-align: top;\n",
       "    }\n",
       "\n",
       "    .dataframe thead th {\n",
       "        text-align: right;\n",
       "    }\n",
       "</style>\n",
       "<table border=\"1\" class=\"dataframe\">\n",
       "  <thead>\n",
       "    <tr style=\"text-align: right;\">\n",
       "      <th></th>\n",
       "      <th>Name of Restaurant</th>\n",
       "      <th>Location</th>\n",
       "      <th>Cuisine</th>\n",
       "      <th>Top Dishes</th>\n",
       "      <th>Price for 2</th>\n",
       "      <th>Dining Rating</th>\n",
       "      <th>Dining Rating Count</th>\n",
       "      <th>Delivery Rating</th>\n",
       "      <th>Delivery Rating Count</th>\n",
       "      <th>Features</th>\n",
       "    </tr>\n",
       "  </thead>\n",
       "  <tbody>\n",
       "    <tr>\n",
       "      <th>0</th>\n",
       "      <td>Yaa Mohaideen Briyani</td>\n",
       "      <td>Pallavaram</td>\n",
       "      <td>Biryani</td>\n",
       "      <td>Bread Halwa,  Chicken 65,  Mutton Biryani,  Ch...</td>\n",
       "      <td>500.0</td>\n",
       "      <td>4.3</td>\n",
       "      <td>1500</td>\n",
       "      <td>4.3</td>\n",
       "      <td>9306</td>\n",
       "      <td>Home Delivery, Indoor Seating</td>\n",
       "    </tr>\n",
       "    <tr>\n",
       "      <th>1</th>\n",
       "      <td>Sukkubhai Biriyani</td>\n",
       "      <td>Alandur</td>\n",
       "      <td>Biryani,  North Indian,  Mughlai,  Desserts,  ...</td>\n",
       "      <td>Beef Biryani,  Beef Fry,  Paratha,  Paya,  Bri...</td>\n",
       "      <td>1000.0</td>\n",
       "      <td>4.4</td>\n",
       "      <td>3059</td>\n",
       "      <td>4.1</td>\n",
       "      <td>39200</td>\n",
       "      <td>Home Delivery, Free Parking, Table booking rec...</td>\n",
       "    </tr>\n",
       "    <tr>\n",
       "      <th>2</th>\n",
       "      <td>SS Hyderabad Biryani</td>\n",
       "      <td>Kodambakkam</td>\n",
       "      <td>Biryani,  North Indian,  Chinese,  Arabian</td>\n",
       "      <td>Brinjal Curry,  Tandoori Chicken,  Chicken Gri...</td>\n",
       "      <td>500.0</td>\n",
       "      <td>4.3</td>\n",
       "      <td>1361</td>\n",
       "      <td>4.4</td>\n",
       "      <td>10500</td>\n",
       "      <td>Home Delivery, Indoor Seating</td>\n",
       "    </tr>\n",
       "    <tr>\n",
       "      <th>3</th>\n",
       "      <td>KFC</td>\n",
       "      <td>Perambur</td>\n",
       "      <td>Burger,  Fast Food,  Finger Food,  Beverages</td>\n",
       "      <td>Zinger Burger</td>\n",
       "      <td>500.0</td>\n",
       "      <td>4.0</td>\n",
       "      <td>1101</td>\n",
       "      <td>4.0</td>\n",
       "      <td>11200</td>\n",
       "      <td>Home Delivery, Free Parking, Card Upon Deliver...</td>\n",
       "    </tr>\n",
       "    <tr>\n",
       "      <th>4</th>\n",
       "      <td>Tasty Kitchen</td>\n",
       "      <td>Perambur</td>\n",
       "      <td>Chinese,  Biryani,  North Indian,  Chettinad, ...</td>\n",
       "      <td>Mutton Biryani,  Chicken Rice,  Tomato Rice,  ...</td>\n",
       "      <td>450.0</td>\n",
       "      <td>4.2</td>\n",
       "      <td>617</td>\n",
       "      <td>4.1</td>\n",
       "      <td>22400</td>\n",
       "      <td>Home Delivery, Indoor Seating</td>\n",
       "    </tr>\n",
       "    <tr>\n",
       "      <th>...</th>\n",
       "      <td>...</td>\n",
       "      <td>...</td>\n",
       "      <td>...</td>\n",
       "      <td>...</td>\n",
       "      <td>...</td>\n",
       "      <td>...</td>\n",
       "      <td>...</td>\n",
       "      <td>...</td>\n",
       "      <td>...</td>\n",
       "      <td>...</td>\n",
       "    </tr>\n",
       "    <tr>\n",
       "      <th>11901</th>\n",
       "      <td>Dhabba On Wheels</td>\n",
       "      <td>Okkiyampet</td>\n",
       "      <td>North Indian</td>\n",
       "      <td>NA</td>\n",
       "      <td>500.0</td>\n",
       "      <td>0.0</td>\n",
       "      <td>0</td>\n",
       "      <td>3.0</td>\n",
       "      <td>54</td>\n",
       "      <td>Home Delivery, Indoor Seating</td>\n",
       "    </tr>\n",
       "    <tr>\n",
       "      <th>11914</th>\n",
       "      <td>Sandwich Sisters</td>\n",
       "      <td>Velachery</td>\n",
       "      <td>Sandwich</td>\n",
       "      <td>NA</td>\n",
       "      <td>200.0</td>\n",
       "      <td>0.0</td>\n",
       "      <td>0</td>\n",
       "      <td>3.6</td>\n",
       "      <td>75</td>\n",
       "      <td>Home Delivery, Free Parking</td>\n",
       "    </tr>\n",
       "    <tr>\n",
       "      <th>11953</th>\n",
       "      <td>The Sandwich Box</td>\n",
       "      <td>Navallur</td>\n",
       "      <td>Sandwich,  Fast Food,  Beverages</td>\n",
       "      <td>NA</td>\n",
       "      <td>300.0</td>\n",
       "      <td>0.0</td>\n",
       "      <td>0</td>\n",
       "      <td>3.9</td>\n",
       "      <td>21</td>\n",
       "      <td>Home Delivery, Indoor Seating</td>\n",
       "    </tr>\n",
       "    <tr>\n",
       "      <th>11959</th>\n",
       "      <td>The Shangai Story</td>\n",
       "      <td>Madipakkam</td>\n",
       "      <td>Chinese</td>\n",
       "      <td>NA</td>\n",
       "      <td>350.0</td>\n",
       "      <td>0.0</td>\n",
       "      <td>0</td>\n",
       "      <td>2.9</td>\n",
       "      <td>17</td>\n",
       "      <td>Delivery Only</td>\n",
       "    </tr>\n",
       "    <tr>\n",
       "      <th>11960</th>\n",
       "      <td>The Shangai Story</td>\n",
       "      <td>Egatoor</td>\n",
       "      <td>Chinese</td>\n",
       "      <td>NA</td>\n",
       "      <td>350.0</td>\n",
       "      <td>0.0</td>\n",
       "      <td>0</td>\n",
       "      <td>2.7</td>\n",
       "      <td>17</td>\n",
       "      <td>Delivery Only</td>\n",
       "    </tr>\n",
       "  </tbody>\n",
       "</table>\n",
       "<p>8481 rows × 10 columns</p>\n",
       "</div>"
      ],
      "text/plain": [
       "          Name of Restaurant     Location  \\\n",
       "0      Yaa Mohaideen Briyani   Pallavaram   \n",
       "1         Sukkubhai Biriyani      Alandur   \n",
       "2       SS Hyderabad Biryani  Kodambakkam   \n",
       "3                        KFC     Perambur   \n",
       "4              Tasty Kitchen     Perambur   \n",
       "...                      ...          ...   \n",
       "11901       Dhabba On Wheels   Okkiyampet   \n",
       "11914       Sandwich Sisters    Velachery   \n",
       "11953       The Sandwich Box     Navallur   \n",
       "11959      The Shangai Story   Madipakkam   \n",
       "11960      The Shangai Story      Egatoor   \n",
       "\n",
       "                                                 Cuisine  \\\n",
       "0                                                Biryani   \n",
       "1      Biryani,  North Indian,  Mughlai,  Desserts,  ...   \n",
       "2             Biryani,  North Indian,  Chinese,  Arabian   \n",
       "3           Burger,  Fast Food,  Finger Food,  Beverages   \n",
       "4      Chinese,  Biryani,  North Indian,  Chettinad, ...   \n",
       "...                                                  ...   \n",
       "11901                                       North Indian   \n",
       "11914                                           Sandwich   \n",
       "11953                   Sandwich,  Fast Food,  Beverages   \n",
       "11959                                            Chinese   \n",
       "11960                                            Chinese   \n",
       "\n",
       "                                              Top Dishes  Price for 2  \\\n",
       "0      Bread Halwa,  Chicken 65,  Mutton Biryani,  Ch...        500.0   \n",
       "1      Beef Biryani,  Beef Fry,  Paratha,  Paya,  Bri...       1000.0   \n",
       "2      Brinjal Curry,  Tandoori Chicken,  Chicken Gri...        500.0   \n",
       "3                                          Zinger Burger        500.0   \n",
       "4      Mutton Biryani,  Chicken Rice,  Tomato Rice,  ...        450.0   \n",
       "...                                                  ...          ...   \n",
       "11901                                                 NA        500.0   \n",
       "11914                                                 NA        200.0   \n",
       "11953                                                 NA        300.0   \n",
       "11959                                                 NA        350.0   \n",
       "11960                                                 NA        350.0   \n",
       "\n",
       "       Dining Rating  Dining Rating Count  Delivery Rating  \\\n",
       "0                4.3                 1500              4.3   \n",
       "1                4.4                 3059              4.1   \n",
       "2                4.3                 1361              4.4   \n",
       "3                4.0                 1101              4.0   \n",
       "4                4.2                  617              4.1   \n",
       "...              ...                  ...              ...   \n",
       "11901            0.0                    0              3.0   \n",
       "11914            0.0                    0              3.6   \n",
       "11953            0.0                    0              3.9   \n",
       "11959            0.0                    0              2.9   \n",
       "11960            0.0                    0              2.7   \n",
       "\n",
       "       Delivery Rating Count  \\\n",
       "0                       9306   \n",
       "1                      39200   \n",
       "2                      10500   \n",
       "3                      11200   \n",
       "4                      22400   \n",
       "...                      ...   \n",
       "11901                     54   \n",
       "11914                     75   \n",
       "11953                     21   \n",
       "11959                     17   \n",
       "11960                     17   \n",
       "\n",
       "                                                Features  \n",
       "0                          Home Delivery, Indoor Seating  \n",
       "1      Home Delivery, Free Parking, Table booking rec...  \n",
       "2                          Home Delivery, Indoor Seating  \n",
       "3      Home Delivery, Free Parking, Card Upon Deliver...  \n",
       "4                          Home Delivery, Indoor Seating  \n",
       "...                                                  ...  \n",
       "11901                      Home Delivery, Indoor Seating  \n",
       "11914                        Home Delivery, Free Parking  \n",
       "11953                      Home Delivery, Indoor Seating  \n",
       "11959                                      Delivery Only  \n",
       "11960                                      Delivery Only  \n",
       "\n",
       "[8481 rows x 10 columns]"
      ]
     },
     "execution_count": 37,
     "metadata": {},
     "output_type": "execute_result"
    }
   ],
   "source": [
    "dataset"
   ]
  },
  {
   "cell_type": "code",
   "execution_count": 38,
   "id": "1f8d54a4-cbfd-424c-819a-fb768aef64e4",
   "metadata": {},
   "outputs": [
    {
     "data": {
      "text/html": [
       "<div>\n",
       "<style scoped>\n",
       "    .dataframe tbody tr th:only-of-type {\n",
       "        vertical-align: middle;\n",
       "    }\n",
       "\n",
       "    .dataframe tbody tr th {\n",
       "        vertical-align: top;\n",
       "    }\n",
       "\n",
       "    .dataframe thead th {\n",
       "        text-align: right;\n",
       "    }\n",
       "</style>\n",
       "<table border=\"1\" class=\"dataframe\">\n",
       "  <thead>\n",
       "    <tr style=\"text-align: right;\">\n",
       "      <th></th>\n",
       "      <th>Name of Restaurant</th>\n",
       "      <th>Location</th>\n",
       "      <th>Cuisine</th>\n",
       "      <th>Top Dishes</th>\n",
       "      <th>Price for 2</th>\n",
       "      <th>Dining Rating</th>\n",
       "      <th>Dining Rating Count</th>\n",
       "      <th>Delivery Rating</th>\n",
       "      <th>Delivery Rating Count</th>\n",
       "      <th>Features</th>\n",
       "    </tr>\n",
       "  </thead>\n",
       "  <tbody>\n",
       "  </tbody>\n",
       "</table>\n",
       "</div>"
      ],
      "text/plain": [
       "Empty DataFrame\n",
       "Columns: [Name of Restaurant, Location, Cuisine, Top Dishes, Price for 2, Dining Rating, Dining Rating Count, Delivery Rating, Delivery Rating Count, Features]\n",
       "Index: []"
      ]
     },
     "execution_count": 38,
     "metadata": {},
     "output_type": "execute_result"
    }
   ],
   "source": [
    "#Checking for Duplicate Records\n",
    "dataset[dataset.duplicated()]"
   ]
  },
  {
   "cell_type": "code",
   "execution_count": 39,
   "id": "d7a22675-a9d2-4080-a644-826b196d217a",
   "metadata": {},
   "outputs": [
    {
     "data": {
      "text/html": [
       "<div>\n",
       "<style scoped>\n",
       "    .dataframe tbody tr th:only-of-type {\n",
       "        vertical-align: middle;\n",
       "    }\n",
       "\n",
       "    .dataframe tbody tr th {\n",
       "        vertical-align: top;\n",
       "    }\n",
       "\n",
       "    .dataframe thead th {\n",
       "        text-align: right;\n",
       "    }\n",
       "</style>\n",
       "<table border=\"1\" class=\"dataframe\">\n",
       "  <thead>\n",
       "    <tr style=\"text-align: right;\">\n",
       "      <th></th>\n",
       "      <th>Name of Restaurant</th>\n",
       "      <th>Location</th>\n",
       "      <th>Cuisine</th>\n",
       "      <th>Top Dishes</th>\n",
       "      <th>Price for 2</th>\n",
       "      <th>Dining Rating</th>\n",
       "      <th>Dining Rating Count</th>\n",
       "      <th>Delivery Rating</th>\n",
       "      <th>Delivery Rating Count</th>\n",
       "      <th>Features</th>\n",
       "    </tr>\n",
       "  </thead>\n",
       "  <tbody>\n",
       "    <tr>\n",
       "      <th>0</th>\n",
       "      <td>Yaa Mohaideen Briyani</td>\n",
       "      <td>Pallavaram</td>\n",
       "      <td>Biryani</td>\n",
       "      <td>Bread Halwa,  Chicken 65,  Mutton Biryani,  Ch...</td>\n",
       "      <td>500.0</td>\n",
       "      <td>4.3</td>\n",
       "      <td>1500</td>\n",
       "      <td>4.3</td>\n",
       "      <td>9306</td>\n",
       "      <td>Home Delivery, Indoor Seating</td>\n",
       "    </tr>\n",
       "    <tr>\n",
       "      <th>1</th>\n",
       "      <td>Sukkubhai Biriyani</td>\n",
       "      <td>Alandur</td>\n",
       "      <td>Biryani,  North Indian,  Mughlai,  Desserts,  ...</td>\n",
       "      <td>Beef Biryani,  Beef Fry,  Paratha,  Paya,  Bri...</td>\n",
       "      <td>1000.0</td>\n",
       "      <td>4.4</td>\n",
       "      <td>3059</td>\n",
       "      <td>4.1</td>\n",
       "      <td>39200</td>\n",
       "      <td>Home Delivery, Free Parking, Table booking rec...</td>\n",
       "    </tr>\n",
       "    <tr>\n",
       "      <th>2</th>\n",
       "      <td>SS Hyderabad Biryani</td>\n",
       "      <td>Kodambakkam</td>\n",
       "      <td>Biryani,  North Indian,  Chinese,  Arabian</td>\n",
       "      <td>Brinjal Curry,  Tandoori Chicken,  Chicken Gri...</td>\n",
       "      <td>500.0</td>\n",
       "      <td>4.3</td>\n",
       "      <td>1361</td>\n",
       "      <td>4.4</td>\n",
       "      <td>10500</td>\n",
       "      <td>Home Delivery, Indoor Seating</td>\n",
       "    </tr>\n",
       "    <tr>\n",
       "      <th>3</th>\n",
       "      <td>KFC</td>\n",
       "      <td>Perambur</td>\n",
       "      <td>Burger,  Fast Food,  Finger Food,  Beverages</td>\n",
       "      <td>Zinger Burger</td>\n",
       "      <td>500.0</td>\n",
       "      <td>4.0</td>\n",
       "      <td>1101</td>\n",
       "      <td>4.0</td>\n",
       "      <td>11200</td>\n",
       "      <td>Home Delivery, Free Parking, Card Upon Deliver...</td>\n",
       "    </tr>\n",
       "    <tr>\n",
       "      <th>4</th>\n",
       "      <td>Tasty Kitchen</td>\n",
       "      <td>Perambur</td>\n",
       "      <td>Chinese,  Biryani,  North Indian,  Chettinad, ...</td>\n",
       "      <td>Mutton Biryani,  Chicken Rice,  Tomato Rice,  ...</td>\n",
       "      <td>450.0</td>\n",
       "      <td>4.2</td>\n",
       "      <td>617</td>\n",
       "      <td>4.1</td>\n",
       "      <td>22400</td>\n",
       "      <td>Home Delivery, Indoor Seating</td>\n",
       "    </tr>\n",
       "    <tr>\n",
       "      <th>...</th>\n",
       "      <td>...</td>\n",
       "      <td>...</td>\n",
       "      <td>...</td>\n",
       "      <td>...</td>\n",
       "      <td>...</td>\n",
       "      <td>...</td>\n",
       "      <td>...</td>\n",
       "      <td>...</td>\n",
       "      <td>...</td>\n",
       "      <td>...</td>\n",
       "    </tr>\n",
       "    <tr>\n",
       "      <th>11901</th>\n",
       "      <td>Dhabba On Wheels</td>\n",
       "      <td>Okkiyampet</td>\n",
       "      <td>North Indian</td>\n",
       "      <td>NA</td>\n",
       "      <td>500.0</td>\n",
       "      <td>0.0</td>\n",
       "      <td>0</td>\n",
       "      <td>3.0</td>\n",
       "      <td>54</td>\n",
       "      <td>Home Delivery, Indoor Seating</td>\n",
       "    </tr>\n",
       "    <tr>\n",
       "      <th>11914</th>\n",
       "      <td>Sandwich Sisters</td>\n",
       "      <td>Velachery</td>\n",
       "      <td>Sandwich</td>\n",
       "      <td>NA</td>\n",
       "      <td>200.0</td>\n",
       "      <td>0.0</td>\n",
       "      <td>0</td>\n",
       "      <td>3.6</td>\n",
       "      <td>75</td>\n",
       "      <td>Home Delivery, Free Parking</td>\n",
       "    </tr>\n",
       "    <tr>\n",
       "      <th>11953</th>\n",
       "      <td>The Sandwich Box</td>\n",
       "      <td>Navallur</td>\n",
       "      <td>Sandwich,  Fast Food,  Beverages</td>\n",
       "      <td>NA</td>\n",
       "      <td>300.0</td>\n",
       "      <td>0.0</td>\n",
       "      <td>0</td>\n",
       "      <td>3.9</td>\n",
       "      <td>21</td>\n",
       "      <td>Home Delivery, Indoor Seating</td>\n",
       "    </tr>\n",
       "    <tr>\n",
       "      <th>11959</th>\n",
       "      <td>The Shangai Story</td>\n",
       "      <td>Madipakkam</td>\n",
       "      <td>Chinese</td>\n",
       "      <td>NA</td>\n",
       "      <td>350.0</td>\n",
       "      <td>0.0</td>\n",
       "      <td>0</td>\n",
       "      <td>2.9</td>\n",
       "      <td>17</td>\n",
       "      <td>Delivery Only</td>\n",
       "    </tr>\n",
       "    <tr>\n",
       "      <th>11960</th>\n",
       "      <td>The Shangai Story</td>\n",
       "      <td>Egatoor</td>\n",
       "      <td>Chinese</td>\n",
       "      <td>NA</td>\n",
       "      <td>350.0</td>\n",
       "      <td>0.0</td>\n",
       "      <td>0</td>\n",
       "      <td>2.7</td>\n",
       "      <td>17</td>\n",
       "      <td>Delivery Only</td>\n",
       "    </tr>\n",
       "  </tbody>\n",
       "</table>\n",
       "<p>8481 rows × 10 columns</p>\n",
       "</div>"
      ],
      "text/plain": [
       "          Name of Restaurant     Location  \\\n",
       "0      Yaa Mohaideen Briyani   Pallavaram   \n",
       "1         Sukkubhai Biriyani      Alandur   \n",
       "2       SS Hyderabad Biryani  Kodambakkam   \n",
       "3                        KFC     Perambur   \n",
       "4              Tasty Kitchen     Perambur   \n",
       "...                      ...          ...   \n",
       "11901       Dhabba On Wheels   Okkiyampet   \n",
       "11914       Sandwich Sisters    Velachery   \n",
       "11953       The Sandwich Box     Navallur   \n",
       "11959      The Shangai Story   Madipakkam   \n",
       "11960      The Shangai Story      Egatoor   \n",
       "\n",
       "                                                 Cuisine  \\\n",
       "0                                                Biryani   \n",
       "1      Biryani,  North Indian,  Mughlai,  Desserts,  ...   \n",
       "2             Biryani,  North Indian,  Chinese,  Arabian   \n",
       "3           Burger,  Fast Food,  Finger Food,  Beverages   \n",
       "4      Chinese,  Biryani,  North Indian,  Chettinad, ...   \n",
       "...                                                  ...   \n",
       "11901                                       North Indian   \n",
       "11914                                           Sandwich   \n",
       "11953                   Sandwich,  Fast Food,  Beverages   \n",
       "11959                                            Chinese   \n",
       "11960                                            Chinese   \n",
       "\n",
       "                                              Top Dishes  Price for 2  \\\n",
       "0      Bread Halwa,  Chicken 65,  Mutton Biryani,  Ch...        500.0   \n",
       "1      Beef Biryani,  Beef Fry,  Paratha,  Paya,  Bri...       1000.0   \n",
       "2      Brinjal Curry,  Tandoori Chicken,  Chicken Gri...        500.0   \n",
       "3                                          Zinger Burger        500.0   \n",
       "4      Mutton Biryani,  Chicken Rice,  Tomato Rice,  ...        450.0   \n",
       "...                                                  ...          ...   \n",
       "11901                                                 NA        500.0   \n",
       "11914                                                 NA        200.0   \n",
       "11953                                                 NA        300.0   \n",
       "11959                                                 NA        350.0   \n",
       "11960                                                 NA        350.0   \n",
       "\n",
       "       Dining Rating  Dining Rating Count  Delivery Rating  \\\n",
       "0                4.3                 1500              4.3   \n",
       "1                4.4                 3059              4.1   \n",
       "2                4.3                 1361              4.4   \n",
       "3                4.0                 1101              4.0   \n",
       "4                4.2                  617              4.1   \n",
       "...              ...                  ...              ...   \n",
       "11901            0.0                    0              3.0   \n",
       "11914            0.0                    0              3.6   \n",
       "11953            0.0                    0              3.9   \n",
       "11959            0.0                    0              2.9   \n",
       "11960            0.0                    0              2.7   \n",
       "\n",
       "       Delivery Rating Count  \\\n",
       "0                       9306   \n",
       "1                      39200   \n",
       "2                      10500   \n",
       "3                      11200   \n",
       "4                      22400   \n",
       "...                      ...   \n",
       "11901                     54   \n",
       "11914                     75   \n",
       "11953                     21   \n",
       "11959                     17   \n",
       "11960                     17   \n",
       "\n",
       "                                                Features  \n",
       "0                          Home Delivery, Indoor Seating  \n",
       "1      Home Delivery, Free Parking, Table booking rec...  \n",
       "2                          Home Delivery, Indoor Seating  \n",
       "3      Home Delivery, Free Parking, Card Upon Deliver...  \n",
       "4                          Home Delivery, Indoor Seating  \n",
       "...                                                  ...  \n",
       "11901                      Home Delivery, Indoor Seating  \n",
       "11914                        Home Delivery, Free Parking  \n",
       "11953                      Home Delivery, Indoor Seating  \n",
       "11959                                      Delivery Only  \n",
       "11960                                      Delivery Only  \n",
       "\n",
       "[8481 rows x 10 columns]"
      ]
     },
     "execution_count": 39,
     "metadata": {},
     "output_type": "execute_result"
    }
   ],
   "source": [
    "#Copying the Cleaned Dataset\n",
    "zomato_chennai = dataset.copy()\n",
    "zomato_chennai"
   ]
  },
  {
   "cell_type": "markdown",
   "id": "c6f42e20-caad-4785-998c-d4526c56df69",
   "metadata": {},
   "source": [
    "# Performing Exploratory Data Analysis"
   ]
  },
  {
   "cell_type": "markdown",
   "id": "e150ac1d-964a-40f5-804b-1ca845ab8d3c",
   "metadata": {},
   "source": [
    "1) Which are the top-rated restaurants for delivery"
   ]
  },
  {
   "cell_type": "code",
   "execution_count": 58,
   "id": "7cf910ec-08f8-4ee2-a9a8-af0708e0a5c5",
   "metadata": {},
   "outputs": [
    {
     "data": {
      "text/html": [
       "<div>\n",
       "<style scoped>\n",
       "    .dataframe tbody tr th:only-of-type {\n",
       "        vertical-align: middle;\n",
       "    }\n",
       "\n",
       "    .dataframe tbody tr th {\n",
       "        vertical-align: top;\n",
       "    }\n",
       "\n",
       "    .dataframe thead th {\n",
       "        text-align: right;\n",
       "    }\n",
       "</style>\n",
       "<table border=\"1\" class=\"dataframe\">\n",
       "  <thead>\n",
       "    <tr style=\"text-align: right;\">\n",
       "      <th></th>\n",
       "      <th>index</th>\n",
       "      <th>Name of Restaurant</th>\n",
       "      <th>Delivery Rating</th>\n",
       "    </tr>\n",
       "  </thead>\n",
       "  <tbody>\n",
       "    <tr>\n",
       "      <th>0</th>\n",
       "      <td>1985</td>\n",
       "      <td>Arabian Plate</td>\n",
       "      <td>4.7</td>\n",
       "    </tr>\n",
       "    <tr>\n",
       "      <th>1</th>\n",
       "      <td>4371</td>\n",
       "      <td>Mumbai  Kulfi</td>\n",
       "      <td>4.7</td>\n",
       "    </tr>\n",
       "    <tr>\n",
       "      <th>2</th>\n",
       "      <td>9977</td>\n",
       "      <td>ibaco</td>\n",
       "      <td>4.7</td>\n",
       "    </tr>\n",
       "    <tr>\n",
       "      <th>3</th>\n",
       "      <td>3301</td>\n",
       "      <td>Mo Thickshake And Snackers</td>\n",
       "      <td>4.7</td>\n",
       "    </tr>\n",
       "    <tr>\n",
       "      <th>4</th>\n",
       "      <td>1776</td>\n",
       "      <td>Casa Dolce</td>\n",
       "      <td>4.6</td>\n",
       "    </tr>\n",
       "    <tr>\n",
       "      <th>5</th>\n",
       "      <td>9160</td>\n",
       "      <td>Fruit Shop On Greams Road</td>\n",
       "      <td>4.6</td>\n",
       "    </tr>\n",
       "    <tr>\n",
       "      <th>6</th>\n",
       "      <td>4742</td>\n",
       "      <td>Cococane</td>\n",
       "      <td>4.6</td>\n",
       "    </tr>\n",
       "    <tr>\n",
       "      <th>7</th>\n",
       "      <td>11379</td>\n",
       "      <td>NIC - Natural Ice Creams</td>\n",
       "      <td>4.6</td>\n",
       "    </tr>\n",
       "    <tr>\n",
       "      <th>8</th>\n",
       "      <td>9956</td>\n",
       "      <td>Ibaco</td>\n",
       "      <td>4.6</td>\n",
       "    </tr>\n",
       "    <tr>\n",
       "      <th>9</th>\n",
       "      <td>9954</td>\n",
       "      <td>ibaco</td>\n",
       "      <td>4.6</td>\n",
       "    </tr>\n",
       "  </tbody>\n",
       "</table>\n",
       "</div>"
      ],
      "text/plain": [
       "   index          Name of Restaurant  Delivery Rating\n",
       "0   1985               Arabian Plate              4.7\n",
       "1   4371               Mumbai  Kulfi              4.7\n",
       "2   9977                       ibaco              4.7\n",
       "3   3301  Mo Thickshake And Snackers              4.7\n",
       "4   1776                  Casa Dolce              4.6\n",
       "5   9160   Fruit Shop On Greams Road              4.6\n",
       "6   4742                    Cococane              4.6\n",
       "7  11379    NIC - Natural Ice Creams              4.6\n",
       "8   9956                       Ibaco              4.6\n",
       "9   9954                       ibaco              4.6"
      ]
     },
     "execution_count": 58,
     "metadata": {},
     "output_type": "execute_result"
    }
   ],
   "source": [
    "top_rtd_delvy_rest = zomato_chennai[[\"Name of Restaurant\",\"Delivery Rating\"]].sort_values(by = \"Delivery Rating\",ascending = False).head(10).reset_index()\n",
    "top_rtd_delvy_rest"
   ]
  },
  {
   "cell_type": "code",
   "execution_count": 67,
   "id": "755b3b40-6273-4b6d-bb9a-2c6876f8ffdc",
   "metadata": {},
   "outputs": [
    {
     "data": {
      "image/png": "[encoded data removed]",
      "text/plain": [
       "<Figure size 640x480 with 1 Axes>"
      ]
     },
     "metadata": {},
     "output_type": "display_data"
    }
   ],
   "source": [
    "seaborn.barplot(x='Name of Restaurant', y='Delivery Rating', data=top_rtd_delvy_rest, palette='Blues')\n",
    "plt.title('Top 10 Restaurants with Best Delivery Rating')\n",
    "plt.xlabel('Restaurant Name')\n",
    "plt.ylabel('Delivery Rating')\n",
    "plt.xticks(rotation=90)\n",
    "plt.show()"
   ]
  },
  {
   "cell_type": "markdown",
   "id": "eddc29ae-d299-48a0-86ec-072bf13eea51",
   "metadata": {},
   "source": [
    "2) Top 10 Chinese Restaurant in Chennai ?"
   ]
  },
  {
   "cell_type": "code",
   "execution_count": 103,
   "id": "2892ef7c-ca38-4b71-9162-0029b11ae06c",
   "metadata": {},
   "outputs": [
    {
     "data": {
      "text/html": [
       "<div>\n",
       "<style scoped>\n",
       "    .dataframe tbody tr th:only-of-type {\n",
       "        vertical-align: middle;\n",
       "    }\n",
       "\n",
       "    .dataframe tbody tr th {\n",
       "        vertical-align: top;\n",
       "    }\n",
       "\n",
       "    .dataframe thead th {\n",
       "        text-align: right;\n",
       "    }\n",
       "</style>\n",
       "<table border=\"1\" class=\"dataframe\">\n",
       "  <thead>\n",
       "    <tr style=\"text-align: right;\">\n",
       "      <th></th>\n",
       "      <th>index</th>\n",
       "      <th>Name of Restaurant</th>\n",
       "      <th>Location</th>\n",
       "      <th>Cuisine</th>\n",
       "      <th>Top Dishes</th>\n",
       "      <th>Price for 2</th>\n",
       "      <th>Dining Rating</th>\n",
       "      <th>Dining Rating Count</th>\n",
       "      <th>Delivery Rating</th>\n",
       "      <th>Delivery Rating Count</th>\n",
       "      <th>Features</th>\n",
       "    </tr>\n",
       "  </thead>\n",
       "  <tbody>\n",
       "    <tr>\n",
       "      <th>0</th>\n",
       "      <td>443</td>\n",
       "      <td>Avartana - ITC Grand Chola</td>\n",
       "      <td>Guindy</td>\n",
       "      <td>South Indian,  Chinese,  Desserts</td>\n",
       "      <td>Chole,  Carrot Ice Cream,  Dumplings,  Wine,  ...</td>\n",
       "      <td>4500.0</td>\n",
       "      <td>4.8</td>\n",
       "      <td>371</td>\n",
       "      <td>0.0</td>\n",
       "      <td>0</td>\n",
       "      <td>Full Bar Available, Table reservation required...</td>\n",
       "    </tr>\n",
       "    <tr>\n",
       "      <th>1</th>\n",
       "      <td>195</td>\n",
       "      <td>The Marina</td>\n",
       "      <td>Nungambakkam</td>\n",
       "      <td>Seafood,  North Indian,  Chinese</td>\n",
       "      <td>Sea Food,  Jumbo Prawns,  Biryani,  Fish Mango...</td>\n",
       "      <td>1600.0</td>\n",
       "      <td>4.8</td>\n",
       "      <td>1082</td>\n",
       "      <td>4.3</td>\n",
       "      <td>373</td>\n",
       "      <td>Home Delivery, Indoor Seating, Table reservati...</td>\n",
       "    </tr>\n",
       "    <tr>\n",
       "      <th>2</th>\n",
       "      <td>163</td>\n",
       "      <td>Momo Sa-Khang by Kailash Kitchen</td>\n",
       "      <td>Choolaimedu</td>\n",
       "      <td>Momos,  Chinese</td>\n",
       "      <td>Momos,  Noodle,  Chowmein,  Fried Momo,  Chop ...</td>\n",
       "      <td>350.0</td>\n",
       "      <td>4.8</td>\n",
       "      <td>1658</td>\n",
       "      <td>4.5</td>\n",
       "      <td>2825</td>\n",
       "      <td>Home Delivery, Free Parking, Indoor Seating</td>\n",
       "    </tr>\n",
       "    <tr>\n",
       "      <th>3</th>\n",
       "      <td>382</td>\n",
       "      <td>Wok Monk</td>\n",
       "      <td>Anna Nagar</td>\n",
       "      <td>Asian,  Chinese,  Middle Eastern</td>\n",
       "      <td>Dumplings,  Chocolate Tsunami,  Pizza,  Momos,...</td>\n",
       "      <td>1200.0</td>\n",
       "      <td>4.6</td>\n",
       "      <td>459</td>\n",
       "      <td>3.9</td>\n",
       "      <td>659</td>\n",
       "      <td>Home Delivery, Indoor Seating</td>\n",
       "    </tr>\n",
       "    <tr>\n",
       "      <th>4</th>\n",
       "      <td>102</td>\n",
       "      <td>Mainland China</td>\n",
       "      <td>Velachery</td>\n",
       "      <td>Chinese,  Asian,  Sushi,  Japanese,  Thai</td>\n",
       "      <td>Noodle,  Dumplings,  Momos,  Hakka Noodles,  M...</td>\n",
       "      <td>1800.0</td>\n",
       "      <td>4.6</td>\n",
       "      <td>1498</td>\n",
       "      <td>4.2</td>\n",
       "      <td>335</td>\n",
       "      <td>Home Delivery, Mall Parking, Valet Parking Ava...</td>\n",
       "    </tr>\n",
       "  </tbody>\n",
       "</table>\n",
       "</div>"
      ],
      "text/plain": [
       "   index                Name of Restaurant      Location  \\\n",
       "0    443        Avartana - ITC Grand Chola        Guindy   \n",
       "1    195                        The Marina  Nungambakkam   \n",
       "2    163  Momo Sa-Khang by Kailash Kitchen   Choolaimedu   \n",
       "3    382                          Wok Monk    Anna Nagar   \n",
       "4    102                    Mainland China     Velachery   \n",
       "\n",
       "                                     Cuisine  \\\n",
       "0          South Indian,  Chinese,  Desserts   \n",
       "1           Seafood,  North Indian,  Chinese   \n",
       "2                            Momos,  Chinese   \n",
       "3           Asian,  Chinese,  Middle Eastern   \n",
       "4  Chinese,  Asian,  Sushi,  Japanese,  Thai   \n",
       "\n",
       "                                          Top Dishes  Price for 2  \\\n",
       "0  Chole,  Carrot Ice Cream,  Dumplings,  Wine,  ...       4500.0   \n",
       "1  Sea Food,  Jumbo Prawns,  Biryani,  Fish Mango...       1600.0   \n",
       "2  Momos,  Noodle,  Chowmein,  Fried Momo,  Chop ...        350.0   \n",
       "3  Dumplings,  Chocolate Tsunami,  Pizza,  Momos,...       1200.0   \n",
       "4  Noodle,  Dumplings,  Momos,  Hakka Noodles,  M...       1800.0   \n",
       "\n",
       "   Dining Rating  Dining Rating Count  Delivery Rating  Delivery Rating Count  \\\n",
       "0            4.8                  371              0.0                      0   \n",
       "1            4.8                 1082              4.3                    373   \n",
       "2            4.8                 1658              4.5                   2825   \n",
       "3            4.6                  459              3.9                    659   \n",
       "4            4.6                 1498              4.2                    335   \n",
       "\n",
       "                                            Features  \n",
       "0  Full Bar Available, Table reservation required...  \n",
       "1  Home Delivery, Indoor Seating, Table reservati...  \n",
       "2        Home Delivery, Free Parking, Indoor Seating  \n",
       "3                      Home Delivery, Indoor Seating  \n",
       "4  Home Delivery, Mall Parking, Valet Parking Ava...  "
      ]
     },
     "execution_count": 103,
     "metadata": {},
     "output_type": "execute_result"
    }
   ],
   "source": [
    "chinese_rest = zomato_chennai[zomato_chennai[\"Cuisine\"].str.contains(\"Chinese\")]\n",
    "chinese_rest = chinese_rest.sort_values(by = \"Dining Rating\", ascending = False).reset_index().head(5)\n",
    "chinese_rest"
   ]
  },
  {
   "cell_type": "code",
   "execution_count": 106,
   "id": "5b003592-f71c-4c3f-b58e-ddc9e84aa5ef",
   "metadata": {},
   "outputs": [
    {
     "data": {
      "application/vnd.plotly.v1+json": {
       "config": {
        "plotlyServerURL": "https://plot.ly"
       },
       "data": [
        {
         "alignmentgroup": "True",
         "hovertemplate": "Location=%{x}<br>Name of Restaurant=%{y}<extra></extra>",
         "legendgroup": " Guindy",
         "marker": {
          "color": "#636efa",
          "pattern": {
           "shape": ""
          }
         },
         "name": " Guindy",
         "offsetgroup": " Guindy",
         "orientation": "v",
         "showlegend": true,
         "textposition": "auto",
         "type": "bar",
         "x": [
          " Guindy"
         ],
         "xaxis": "x",
         "y": [
          "Avartana - ITC Grand Chola"
         ],
         "yaxis": "y"
        },
        {
         "alignmentgroup": "True",
         "hovertemplate": "Location=%{x}<br>Name of Restaurant=%{y}<extra></extra>",
         "legendgroup": "Nungambakkam",
         "marker": {
          "color": "#EF553B",
          "pattern": {
           "shape": ""
          }
         },
         "name": "Nungambakkam",
         "offsetgroup": "Nungambakkam",
         "orientation": "v",
         "showlegend": true,
         "textposition": "auto",
         "type": "bar",
         "x": [
          "Nungambakkam"
         ],
         "xaxis": "x",
         "y": [
          "The Marina"
         ],
         "yaxis": "y"
        },
        {
         "alignmentgroup": "True",
         "hovertemplate": "Location=%{x}<br>Name of Restaurant=%{y}<extra></extra>",
         "legendgroup": "Choolaimedu",
         "marker": {
          "color": "#00cc96",
          "pattern": {
           "shape": ""
          }
         },
         "name": "Choolaimedu",
         "offsetgroup": "Choolaimedu",
         "orientation": "v",
         "showlegend": true,
         "textposition": "auto",
         "type": "bar",
         "x": [
          "Choolaimedu"
         ],
         "xaxis": "x",
         "y": [
          "Momo Sa-Khang by Kailash Kitchen"
         ],
         "yaxis": "y"
        },
        {
         "alignmentgroup": "True",
         "hovertemplate": "Location=%{x}<br>Name of Restaurant=%{y}<extra></extra>",
         "legendgroup": "Anna Nagar",
         "marker": {
          "color": "#ab63fa",
          "pattern": {
           "shape": ""
          }
         },
         "name": "Anna Nagar",
         "offsetgroup": "Anna Nagar",
         "orientation": "v",
         "showlegend": true,
         "textposition": "auto",
         "type": "bar",
         "x": [
          "Anna Nagar"
         ],
         "xaxis": "x",
         "y": [
          "Wok Monk"
         ],
         "yaxis": "y"
        },
        {
         "alignmentgroup": "True",
         "hovertemplate": "Location=%{x}<br>Name of Restaurant=%{y}<extra></extra>",
         "legendgroup": " Velachery",
         "marker": {
          "color": "#FFA15A",
          "pattern": {
           "shape": ""
          }
         },
         "name": " Velachery",
         "offsetgroup": " Velachery",
         "orientation": "v",
         "showlegend": true,
         "textposition": "auto",
         "type": "bar",
         "x": [
          " Velachery"
         ],
         "xaxis": "x",
         "y": [
          "Mainland China"
         ],
         "yaxis": "y"
        }
       ],
       "layout": {
        "autosize": true,
        "barmode": "relative",
        "legend": {
         "title": {
          "text": "Location"
         },
         "tracegroupgap": 0
        },
        "template": {
         "data": {
          "bar": [
           {
            "error_x": {
             "color": "#2a3f5f"
            },
            "error_y": {
             "color": "#2a3f5f"
            },
            "marker": {
             "line": {
              "color": "#E5ECF6",
              "width": 0.5
             },
             "pattern": {
              "fillmode": "overlay",
              "size": 10,
              "solidity": 0.2
             }
            },
            "type": "bar"
           }
          ],
          "barpolar": [
           {
            "marker": {
             "line": {
              "color": "#E5ECF6",
              "width": 0.5
             },
             "pattern": {
              "fillmode": "overlay",
              "size": 10,
              "solidity": 0.2
             }
            },
            "type": "barpolar"
           }
          ],
          "carpet": [
           {
            "aaxis": {
             "endlinecolor": "#2a3f5f",
             "gridcolor": "white",
             "linecolor": "white",
             "minorgridcolor": "white",
             "startlinecolor": "#2a3f5f"
            },
            "baxis": {
             "endlinecolor": "#2a3f5f",
             "gridcolor": "white",
             "linecolor": "white",
             "minorgridcolor": "white",
             "startlinecolor": "#2a3f5f"
            },
            "type": "carpet"
           }
          ],
          "choropleth": [
           {
            "colorbar": {
             "outlinewidth": 0,
             "ticks": ""
            },
            "type": "choropleth"
           }
          ],
          "contour": [
           {
            "colorbar": {
             "outlinewidth": 0,
             "ticks": ""
            },
            "colorscale": [
             [
              0,
              "#0d0887"
             ],
             [
              0.1111111111111111,
              "#46039f"
             ],
             [
              0.2222222222222222,
              "#7201a8"
             ],
             [
              0.3333333333333333,
              "#9c179e"
             ],
             [
              0.4444444444444444,
              "#bd3786"
             ],
             [
              0.5555555555555556,
              "#d8576b"
             ],
             [
              0.6666666666666666,
              "#ed7953"
             ],
             [
              0.7777777777777778,
              "#fb9f3a"
             ],
             [
              0.8888888888888888,
              "#fdca26"
             ],
             [
              1,
              "#f0f921"
             ]
            ],
            "type": "contour"
           }
          ],
          "contourcarpet": [
           {
            "colorbar": {
             "outlinewidth": 0,
             "ticks": ""
            },
            "type": "contourcarpet"
           }
          ],
          "heatmap": [
           {
            "colorbar": {
             "outlinewidth": 0,
             "ticks": ""
            },
            "colorscale": [
             [
              0,
              "#0d0887"
             ],
             [
              0.1111111111111111,
              "#46039f"
             ],
             [
              0.2222222222222222,
              "#7201a8"
             ],
             [
              0.3333333333333333,
              "#9c179e"
             ],
             [
              0.4444444444444444,
              "#bd3786"
             ],
             [
              0.5555555555555556,
              "#d8576b"
             ],
             [
              0.6666666666666666,
              "#ed7953"
             ],
             [
              0.7777777777777778,
              "#fb9f3a"
             ],
             [
              0.8888888888888888,
              "#fdca26"
             ],
             [
              1,
              "#f0f921"
             ]
            ],
            "type": "heatmap"
           }
          ],
          "heatmapgl": [
           {
            "colorbar": {
             "outlinewidth": 0,
             "ticks": ""
            },
            "colorscale": [
             [
              0,
              "#0d0887"
             ],
             [
              0.1111111111111111,
              "#46039f"
             ],
             [
              0.2222222222222222,
              "#7201a8"
             ],
             [
              0.3333333333333333,
              "#9c179e"
             ],
             [
              0.4444444444444444,
              "#bd3786"
             ],
             [
              0.5555555555555556,
              "#d8576b"
             ],
             [
              0.6666666666666666,
              "#ed7953"
             ],
             [
              0.7777777777777778,
              "#fb9f3a"
             ],
             [
              0.8888888888888888,
              "#fdca26"
             ],
             [
              1,
              "#f0f921"
             ]
            ],
            "type": "heatmapgl"
           }
          ],
          "histogram": [
           {
            "marker": {
             "pattern": {
              "fillmode": "overlay",
              "size": 10,
              "solidity": 0.2
             }
            },
            "type": "histogram"
           }
          ],
          "histogram2d": [
           {
            "colorbar": {
             "outlinewidth": 0,
             "ticks": ""
            },
            "colorscale": [
             [
              0,
              "#0d0887"
             ],
             [
              0.1111111111111111,
              "#46039f"
             ],
             [
              0.2222222222222222,
              "#7201a8"
             ],
             [
              0.3333333333333333,
              "#9c179e"
             ],
             [
              0.4444444444444444,
              "#bd3786"
             ],
             [
              0.5555555555555556,
              "#d8576b"
             ],
             [
              0.6666666666666666,
              "#ed7953"
             ],
             [
              0.7777777777777778,
              "#fb9f3a"
             ],
             [
              0.8888888888888888,
              "#fdca26"
             ],
             [
              1,
              "#f0f921"
             ]
            ],
            "type": "histogram2d"
           }
          ],
          "histogram2dcontour": [
           {
            "colorbar": {
             "outlinewidth": 0,
             "ticks": ""
            },
            "colorscale": [
             [
              0,
              "#0d0887"
             ],
             [
              0.1111111111111111,
              "#46039f"
             ],
             [
              0.2222222222222222,
              "#7201a8"
             ],
             [
              0.3333333333333333,
              "#9c179e"
             ],
             [
              0.4444444444444444,
              "#bd3786"
             ],
             [
              0.5555555555555556,
              "#d8576b"
             ],
             [
              0.6666666666666666,
              "#ed7953"
             ],
             [
              0.7777777777777778,
              "#fb9f3a"
             ],
             [
              0.8888888888888888,
              "#fdca26"
             ],
             [
              1,
              "#f0f921"
             ]
            ],
            "type": "histogram2dcontour"
           }
          ],
          "mesh3d": [
           {
            "colorbar": {
             "outlinewidth": 0,
             "ticks": ""
            },
            "type": "mesh3d"
           }
          ],
          "parcoords": [
           {
            "line": {
             "colorbar": {
              "outlinewidth": 0,
              "ticks": ""
             }
            },
            "type": "parcoords"
           }
          ],
          "pie": [
           {
            "automargin": true,
            "type": "pie"
           }
          ],
          "scatter": [
           {
            "fillpattern": {
             "fillmode": "overlay",
             "size": 10,
             "solidity": 0.2
            },
            "type": "scatter"
           }
          ],
          "scatter3d": [
           {
            "line": {
             "colorbar": {
              "outlinewidth": 0,
              "ticks": ""
             }
            },
            "marker": {
             "colorbar": {
              "outlinewidth": 0,
              "ticks": ""
             }
            },
            "type": "scatter3d"
           }
          ],
          "scattercarpet": [
           {
            "marker": {
             "colorbar": {
              "outlinewidth": 0,
              "ticks": ""
             }
            },
            "type": "scattercarpet"
           }
          ],
          "scattergeo": [
           {
            "marker": {
             "colorbar": {
              "outlinewidth": 0,
              "ticks": ""
             }
            },
            "type": "scattergeo"
           }
          ],
          "scattergl": [
           {
            "marker": {
             "colorbar": {
              "outlinewidth": 0,
              "ticks": ""
             }
            },
            "type": "scattergl"
           }
          ],
          "scattermapbox": [
           {
            "marker": {
             "colorbar": {
              "outlinewidth": 0,
              "ticks": ""
             }
            },
            "type": "scattermapbox"
           }
          ],
          "scatterpolar": [
           {
            "marker": {
             "colorbar": {
              "outlinewidth": 0,
              "ticks": ""
             }
            },
            "type": "scatterpolar"
           }
          ],
          "scatterpolargl": [
           {
            "marker": {
             "colorbar": {
              "outlinewidth": 0,
              "ticks": ""
             }
            },
            "type": "scatterpolargl"
           }
          ],
          "scatterternary": [
           {
            "marker": {
             "colorbar": {
              "outlinewidth": 0,
              "ticks": ""
             }
            },
            "type": "scatterternary"
           }
          ],
          "surface": [
           {
            "colorbar": {
             "outlinewidth": 0,
             "ticks": ""
            },
            "colorscale": [
             [
              0,
              "#0d0887"
             ],
             [
              0.1111111111111111,
              "#46039f"
             ],
             [
              0.2222222222222222,
              "#7201a8"
             ],
             [
              0.3333333333333333,
              "#9c179e"
             ],
             [
              0.4444444444444444,
              "#bd3786"
             ],
             [
              0.5555555555555556,
              "#d8576b"
             ],
             [
              0.6666666666666666,
              "#ed7953"
             ],
             [
              0.7777777777777778,
              "#fb9f3a"
             ],
             [
              0.8888888888888888,
              "#fdca26"
             ],
             [
              1,
              "#f0f921"
             ]
            ],
            "type": "surface"
           }
          ],
          "table": [
           {
            "cells": {
             "fill": {
              "color": "#EBF0F8"
             },
             "line": {
              "color": "white"
             }
            },
            "header": {
             "fill": {
              "color": "#C8D4E3"
             },
             "line": {
              "color": "white"
             }
            },
            "type": "table"
           }
          ]
         },
         "layout": {
          "annotationdefaults": {
           "arrowcolor": "#2a3f5f",
           "arrowhead": 0,
           "arrowwidth": 1
          },
          "autotypenumbers": "strict",
          "coloraxis": {
           "colorbar": {
            "outlinewidth": 0,
            "ticks": ""
           }
          },
          "colorscale": {
           "diverging": [
            [
             0,
             "#8e0152"
            ],
            [
             0.1,
             "#c51b7d"
            ],
            [
             0.2,
             "#de77ae"
            ],
            [
             0.3,
             "#f1b6da"
            ],
            [
             0.4,
             "#fde0ef"
            ],
            [
             0.5,
             "#f7f7f7"
            ],
            [
             0.6,
             "#e6f5d0"
            ],
            [
             0.7,
             "#b8e186"
            ],
            [
             0.8,
             "#7fbc41"
            ],
            [
             0.9,
             "#4d9221"
            ],
            [
             1,
             "#276419"
            ]
           ],
           "sequential": [
            [
             0,
             "#0d0887"
            ],
            [
             0.1111111111111111,
             "#46039f"
            ],
            [
             0.2222222222222222,
             "#7201a8"
            ],
            [
             0.3333333333333333,
             "#9c179e"
            ],
            [
             0.4444444444444444,
             "#bd3786"
            ],
            [
             0.5555555555555556,
             "#d8576b"
            ],
            [
             0.6666666666666666,
             "#ed7953"
            ],
            [
             0.7777777777777778,
             "#fb9f3a"
            ],
            [
             0.8888888888888888,
             "#fdca26"
            ],
            [
             1,
             "#f0f921"
            ]
           ],
           "sequentialminus": [
            [
             0,
             "#0d0887"
            ],
            [
             0.1111111111111111,
             "#46039f"
            ],
            [
             0.2222222222222222,
             "#7201a8"
            ],
            [
             0.3333333333333333,
             "#9c179e"
            ],
            [
             0.4444444444444444,
             "#bd3786"
            ],
            [
             0.5555555555555556,
             "#d8576b"
            ],
            [
             0.6666666666666666,
             "#ed7953"
            ],
            [
             0.7777777777777778,
             "#fb9f3a"
            ],
            [
             0.8888888888888888,
             "#fdca26"
            ],
            [
             1,
             "#f0f921"
            ]
           ]
          },
          "colorway": [
           "#636efa",
           "#EF553B",
           "#00cc96",
           "#ab63fa",
           "#FFA15A",
           "#19d3f3",
           "#FF6692",
           "#B6E880",
           "#FF97FF",
           "#FECB52"
          ],
          "font": {
           "color": "#2a3f5f"
          },
          "geo": {
           "bgcolor": "white",
           "lakecolor": "white",
           "landcolor": "#E5ECF6",
           "showlakes": true,
           "showland": true,
           "subunitcolor": "white"
          },
          "hoverlabel": {
           "align": "left"
          },
          "hovermode": "closest",
          "mapbox": {
           "style": "light"
          },
          "paper_bgcolor": "white",
          "plot_bgcolor": "#E5ECF6",
          "polar": {
           "angularaxis": {
            "gridcolor": "white",
            "linecolor": "white",
            "ticks": ""
           },
           "bgcolor": "#E5ECF6",
           "radialaxis": {
            "gridcolor": "white",
            "linecolor": "white",
            "ticks": ""
           }
          },
          "scene": {
           "xaxis": {
            "backgroundcolor": "#E5ECF6",
            "gridcolor": "white",
            "gridwidth": 2,
            "linecolor": "white",
            "showbackground": true,
            "ticks": "",
            "zerolinecolor": "white"
           },
           "yaxis": {
            "backgroundcolor": "#E5ECF6",
            "gridcolor": "white",
            "gridwidth": 2,
            "linecolor": "white",
            "showbackground": true,
            "ticks": "",
            "zerolinecolor": "white"
           },
           "zaxis": {
            "backgroundcolor": "#E5ECF6",
            "gridcolor": "white",
            "gridwidth": 2,
            "linecolor": "white",
            "showbackground": true,
            "ticks": "",
            "zerolinecolor": "white"
           }
          },
          "shapedefaults": {
           "line": {
            "color": "#2a3f5f"
           }
          },
          "ternary": {
           "aaxis": {
            "gridcolor": "white",
            "linecolor": "white",
            "ticks": ""
           },
           "baxis": {
            "gridcolor": "white",
            "linecolor": "white",
            "ticks": ""
           },
           "bgcolor": "#E5ECF6",
           "caxis": {
            "gridcolor": "white",
            "linecolor": "white",
            "ticks": ""
           }
          },
          "title": {
           "x": 0.05
          },
          "xaxis": {
           "automargin": true,
           "gridcolor": "white",
           "linecolor": "white",
           "ticks": "",
           "title": {
            "standoff": 15
           },
           "zerolinecolor": "white",
           "zerolinewidth": 2
          },
          "yaxis": {
           "automargin": true,
           "gridcolor": "white",
           "linecolor": "white",
           "ticks": "",
           "title": {
            "standoff": 15
           },
           "zerolinecolor": "white",
           "zerolinewidth": 2
          }
         }
        },
        "title": {
         "text": "Top 5 Chinese Restaurant"
        },
        "xaxis": {
         "anchor": "y",
         "autorange": true,
         "categoryarray": [
          " Guindy",
          "Nungambakkam",
          "Choolaimedu",
          "Anna Nagar",
          " Velachery"
         ],
         "categoryorder": "array",
         "domain": [
          0,
          1
         ],
         "range": [
          -0.5,
          4.5
         ],
         "title": {
          "text": "Location"
         },
         "type": "category"
        },
        "yaxis": {
         "anchor": "x",
         "autorange": true,
         "domain": [
          0,
          1
         ],
         "range": [
          -0.2222222222222222,
          4.222222222222222
         ],
         "title": {
          "text": "Name of Restaurant"
         },
         "type": "category"
        }
       }
      },
      "image/png": "[encoded data removed]",
      "text/html": [
       "<div>                            <div id=\"9893cb02-26b9-4576-9592-e8b1c06d0fd7\" class=\"plotly-graph-div\" style=\"height:525px; width:100%;\"></div>            <script type=\"text/javascript\">                require([\"plotly\"], function(Plotly) {                    window.PLOTLYENV=window.PLOTLYENV || {};                                    if (document.getElementById(\"9893cb02-26b9-4576-9592-e8b1c06d0fd7\")) {                    Plotly.newPlot(                        \"9893cb02-26b9-4576-9592-e8b1c06d0fd7\",                        [{\"alignmentgroup\":\"True\",\"hovertemplate\":\"Location=%{x}\\u003cbr\\u003eName of Restaurant=%{y}\\u003cextra\\u003e\\u003c\\u002fextra\\u003e\",\"legendgroup\":\" Guindy\",\"marker\":{\"color\":\"#636efa\",\"pattern\":{\"shape\":\"\"}},\"name\":\" Guindy\",\"offsetgroup\":\" Guindy\",\"orientation\":\"v\",\"showlegend\":true,\"textposition\":\"auto\",\"x\":[\" Guindy\"],\"xaxis\":\"x\",\"y\":[\"Avartana - ITC Grand Chola\"],\"yaxis\":\"y\",\"type\":\"bar\"},{\"alignmentgroup\":\"True\",\"hovertemplate\":\"Location=%{x}\\u003cbr\\u003eName of Restaurant=%{y}\\u003cextra\\u003e\\u003c\\u002fextra\\u003e\",\"legendgroup\":\"Nungambakkam\",\"marker\":{\"color\":\"#EF553B\",\"pattern\":{\"shape\":\"\"}},\"name\":\"Nungambakkam\",\"offsetgroup\":\"Nungambakkam\",\"orientation\":\"v\",\"showlegend\":true,\"textposition\":\"auto\",\"x\":[\"Nungambakkam\"],\"xaxis\":\"x\",\"y\":[\"The Marina\"],\"yaxis\":\"y\",\"type\":\"bar\"},{\"alignmentgroup\":\"True\",\"hovertemplate\":\"Location=%{x}\\u003cbr\\u003eName of Restaurant=%{y}\\u003cextra\\u003e\\u003c\\u002fextra\\u003e\",\"legendgroup\":\"Choolaimedu\",\"marker\":{\"color\":\"#00cc96\",\"pattern\":{\"shape\":\"\"}},\"name\":\"Choolaimedu\",\"offsetgroup\":\"Choolaimedu\",\"orientation\":\"v\",\"showlegend\":true,\"textposition\":\"auto\",\"x\":[\"Choolaimedu\"],\"xaxis\":\"x\",\"y\":[\"Momo Sa-Khang by Kailash Kitchen\"],\"yaxis\":\"y\",\"type\":\"bar\"},{\"alignmentgroup\":\"True\",\"hovertemplate\":\"Location=%{x}\\u003cbr\\u003eName of Restaurant=%{y}\\u003cextra\\u003e\\u003c\\u002fextra\\u003e\",\"legendgroup\":\"Anna Nagar\",\"marker\":{\"color\":\"#ab63fa\",\"pattern\":{\"shape\":\"\"}},\"name\":\"Anna Nagar\",\"offsetgroup\":\"Anna Nagar\",\"orientation\":\"v\",\"showlegend\":true,\"textposition\":\"auto\",\"x\":[\"Anna Nagar\"],\"xaxis\":\"x\",\"y\":[\"Wok Monk\"],\"yaxis\":\"y\",\"type\":\"bar\"},{\"alignmentgroup\":\"True\",\"hovertemplate\":\"Location=%{x}\\u003cbr\\u003eName of Restaurant=%{y}\\u003cextra\\u003e\\u003c\\u002fextra\\u003e\",\"legendgroup\":\" Velachery\",\"marker\":{\"color\":\"#FFA15A\",\"pattern\":{\"shape\":\"\"}},\"name\":\" Velachery\",\"offsetgroup\":\" Velachery\",\"orientation\":\"v\",\"showlegend\":true,\"textposition\":\"auto\",\"x\":[\" Velachery\"],\"xaxis\":\"x\",\"y\":[\"Mainland China\"],\"yaxis\":\"y\",\"type\":\"bar\"}],                        {\"template\":{\"data\":{\"histogram2dcontour\":[{\"type\":\"histogram2dcontour\",\"colorbar\":{\"outlinewidth\":0,\"ticks\":\"\"},\"colorscale\":[[0.0,\"#0d0887\"],[0.1111111111111111,\"#46039f\"],[0.2222222222222222,\"#7201a8\"],[0.3333333333333333,\"#9c179e\"],[0.4444444444444444,\"#bd3786\"],[0.5555555555555556,\"#d8576b\"],[0.6666666666666666,\"#ed7953\"],[0.7777777777777778,\"#fb9f3a\"],[0.8888888888888888,\"#fdca26\"],[1.0,\"#f0f921\"]]}],\"choropleth\":[{\"type\":\"choropleth\",\"colorbar\":{\"outlinewidth\":0,\"ticks\":\"\"}}],\"histogram2d\":[{\"type\":\"histogram2d\",\"colorbar\":{\"outlinewidth\":0,\"ticks\":\"\"},\"colorscale\":[[0.0,\"#0d0887\"],[0.1111111111111111,\"#46039f\"],[0.2222222222222222,\"#7201a8\"],[0.3333333333333333,\"#9c179e\"],[0.4444444444444444,\"#bd3786\"],[0.5555555555555556,\"#d8576b\"],[0.6666666666666666,\"#ed7953\"],[0.7777777777777778,\"#fb9f3a\"],[0.8888888888888888,\"#fdca26\"],[1.0,\"#f0f921\"]]}],\"heatmap\":[{\"type\":\"heatmap\",\"colorbar\":{\"outlinewidth\":0,\"ticks\":\"\"},\"colorscale\":[[0.0,\"#0d0887\"],[0.1111111111111111,\"#46039f\"],[0.2222222222222222,\"#7201a8\"],[0.3333333333333333,\"#9c179e\"],[0.4444444444444444,\"#bd3786\"],[0.5555555555555556,\"#d8576b\"],[0.6666666666666666,\"#ed7953\"],[0.7777777777777778,\"#fb9f3a\"],[0.8888888888888888,\"#fdca26\"],[1.0,\"#f0f921\"]]}],\"heatmapgl\":[{\"type\":\"heatmapgl\",\"colorbar\":{\"outlinewidth\":0,\"ticks\":\"\"},\"colorscale\":[[0.0,\"#0d0887\"],[0.1111111111111111,\"#46039f\"],[0.2222222222222222,\"#7201a8\"],[0.3333333333333333,\"#9c179e\"],[0.4444444444444444,\"#bd3786\"],[0.5555555555555556,\"#d8576b\"],[0.6666666666666666,\"#ed7953\"],[0.7777777777777778,\"#fb9f3a\"],[0.8888888888888888,\"#fdca26\"],[1.0,\"#f0f921\"]]}],\"contourcarpet\":[{\"type\":\"contourcarpet\",\"colorbar\":{\"outlinewidth\":0,\"ticks\":\"\"}}],\"contour\":[{\"type\":\"contour\",\"colorbar\":{\"outlinewidth\":0,\"ticks\":\"\"},\"colorscale\":[[0.0,\"#0d0887\"],[0.1111111111111111,\"#46039f\"],[0.2222222222222222,\"#7201a8\"],[0.3333333333333333,\"#9c179e\"],[0.4444444444444444,\"#bd3786\"],[0.5555555555555556,\"#d8576b\"],[0.6666666666666666,\"#ed7953\"],[0.7777777777777778,\"#fb9f3a\"],[0.8888888888888888,\"#fdca26\"],[1.0,\"#f0f921\"]]}],\"surface\":[{\"type\":\"surface\",\"colorbar\":{\"outlinewidth\":0,\"ticks\":\"\"},\"colorscale\":[[0.0,\"#0d0887\"],[0.1111111111111111,\"#46039f\"],[0.2222222222222222,\"#7201a8\"],[0.3333333333333333,\"#9c179e\"],[0.4444444444444444,\"#bd3786\"],[0.5555555555555556,\"#d8576b\"],[0.6666666666666666,\"#ed7953\"],[0.7777777777777778,\"#fb9f3a\"],[0.8888888888888888,\"#fdca26\"],[1.0,\"#f0f921\"]]}],\"mesh3d\":[{\"type\":\"mesh3d\",\"colorbar\":{\"outlinewidth\":0,\"ticks\":\"\"}}],\"scatter\":[{\"fillpattern\":{\"fillmode\":\"overlay\",\"size\":10,\"solidity\":0.2},\"type\":\"scatter\"}],\"parcoords\":[{\"type\":\"parcoords\",\"line\":{\"colorbar\":{\"outlinewidth\":0,\"ticks\":\"\"}}}],\"scatterpolargl\":[{\"type\":\"scatterpolargl\",\"marker\":{\"colorbar\":{\"outlinewidth\":0,\"ticks\":\"\"}}}],\"bar\":[{\"error_x\":{\"color\":\"#2a3f5f\"},\"error_y\":{\"color\":\"#2a3f5f\"},\"marker\":{\"line\":{\"color\":\"#E5ECF6\",\"width\":0.5},\"pattern\":{\"fillmode\":\"overlay\",\"size\":10,\"solidity\":0.2}},\"type\":\"bar\"}],\"scattergeo\":[{\"type\":\"scattergeo\",\"marker\":{\"colorbar\":{\"outlinewidth\":0,\"ticks\":\"\"}}}],\"scatterpolar\":[{\"type\":\"scatterpolar\",\"marker\":{\"colorbar\":{\"outlinewidth\":0,\"ticks\":\"\"}}}],\"histogram\":[{\"marker\":{\"pattern\":{\"fillmode\":\"overlay\",\"size\":10,\"solidity\":0.2}},\"type\":\"histogram\"}],\"scattergl\":[{\"type\":\"scattergl\",\"marker\":{\"colorbar\":{\"outlinewidth\":0,\"ticks\":\"\"}}}],\"scatter3d\":[{\"type\":\"scatter3d\",\"line\":{\"colorbar\":{\"outlinewidth\":0,\"ticks\":\"\"}},\"marker\":{\"colorbar\":{\"outlinewidth\":0,\"ticks\":\"\"}}}],\"scattermapbox\":[{\"type\":\"scattermapbox\",\"marker\":{\"colorbar\":{\"outlinewidth\":0,\"ticks\":\"\"}}}],\"scatterternary\":[{\"type\":\"scatterternary\",\"marker\":{\"colorbar\":{\"outlinewidth\":0,\"ticks\":\"\"}}}],\"scattercarpet\":[{\"type\":\"scattercarpet\",\"marker\":{\"colorbar\":{\"outlinewidth\":0,\"ticks\":\"\"}}}],\"carpet\":[{\"aaxis\":{\"endlinecolor\":\"#2a3f5f\",\"gridcolor\":\"white\",\"linecolor\":\"white\",\"minorgridcolor\":\"white\",\"startlinecolor\":\"#2a3f5f\"},\"baxis\":{\"endlinecolor\":\"#2a3f5f\",\"gridcolor\":\"white\",\"linecolor\":\"white\",\"minorgridcolor\":\"white\",\"startlinecolor\":\"#2a3f5f\"},\"type\":\"carpet\"}],\"table\":[{\"cells\":{\"fill\":{\"color\":\"#EBF0F8\"},\"line\":{\"color\":\"white\"}},\"header\":{\"fill\":{\"color\":\"#C8D4E3\"},\"line\":{\"color\":\"white\"}},\"type\":\"table\"}],\"barpolar\":[{\"marker\":{\"line\":{\"color\":\"#E5ECF6\",\"width\":0.5},\"pattern\":{\"fillmode\":\"overlay\",\"size\":10,\"solidity\":0.2}},\"type\":\"barpolar\"}],\"pie\":[{\"automargin\":true,\"type\":\"pie\"}]},\"layout\":{\"autotypenumbers\":\"strict\",\"colorway\":[\"#636efa\",\"#EF553B\",\"#00cc96\",\"#ab63fa\",\"#FFA15A\",\"#19d3f3\",\"#FF6692\",\"#B6E880\",\"#FF97FF\",\"#FECB52\"],\"font\":{\"color\":\"#2a3f5f\"},\"hovermode\":\"closest\",\"hoverlabel\":{\"align\":\"left\"},\"paper_bgcolor\":\"white\",\"plot_bgcolor\":\"#E5ECF6\",\"polar\":{\"bgcolor\":\"#E5ECF6\",\"angularaxis\":{\"gridcolor\":\"white\",\"linecolor\":\"white\",\"ticks\":\"\"},\"radialaxis\":{\"gridcolor\":\"white\",\"linecolor\":\"white\",\"ticks\":\"\"}},\"ternary\":{\"bgcolor\":\"#E5ECF6\",\"aaxis\":{\"gridcolor\":\"white\",\"linecolor\":\"white\",\"ticks\":\"\"},\"baxis\":{\"gridcolor\":\"white\",\"linecolor\":\"white\",\"ticks\":\"\"},\"caxis\":{\"gridcolor\":\"white\",\"linecolor\":\"white\",\"ticks\":\"\"}},\"coloraxis\":{\"colorbar\":{\"outlinewidth\":0,\"ticks\":\"\"}},\"colorscale\":{\"sequential\":[[0.0,\"#0d0887\"],[0.1111111111111111,\"#46039f\"],[0.2222222222222222,\"#7201a8\"],[0.3333333333333333,\"#9c179e\"],[0.4444444444444444,\"#bd3786\"],[0.5555555555555556,\"#d8576b\"],[0.6666666666666666,\"#ed7953\"],[0.7777777777777778,\"#fb9f3a\"],[0.8888888888888888,\"#fdca26\"],[1.0,\"#f0f921\"]],\"sequentialminus\":[[0.0,\"#0d0887\"],[0.1111111111111111,\"#46039f\"],[0.2222222222222222,\"#7201a8\"],[0.3333333333333333,\"#9c179e\"],[0.4444444444444444,\"#bd3786\"],[0.5555555555555556,\"#d8576b\"],[0.6666666666666666,\"#ed7953\"],[0.7777777777777778,\"#fb9f3a\"],[0.8888888888888888,\"#fdca26\"],[1.0,\"#f0f921\"]],\"diverging\":[[0,\"#8e0152\"],[0.1,\"#c51b7d\"],[0.2,\"#de77ae\"],[0.3,\"#f1b6da\"],[0.4,\"#fde0ef\"],[0.5,\"#f7f7f7\"],[0.6,\"#e6f5d0\"],[0.7,\"#b8e186\"],[0.8,\"#7fbc41\"],[0.9,\"#4d9221\"],[1,\"#276419\"]]},\"xaxis\":{\"gridcolor\":\"white\",\"linecolor\":\"white\",\"ticks\":\"\",\"title\":{\"standoff\":15},\"zerolinecolor\":\"white\",\"automargin\":true,\"zerolinewidth\":2},\"yaxis\":{\"gridcolor\":\"white\",\"linecolor\":\"white\",\"ticks\":\"\",\"title\":{\"standoff\":15},\"zerolinecolor\":\"white\",\"automargin\":true,\"zerolinewidth\":2},\"scene\":{\"xaxis\":{\"backgroundcolor\":\"#E5ECF6\",\"gridcolor\":\"white\",\"linecolor\":\"white\",\"showbackground\":true,\"ticks\":\"\",\"zerolinecolor\":\"white\",\"gridwidth\":2},\"yaxis\":{\"backgroundcolor\":\"#E5ECF6\",\"gridcolor\":\"white\",\"linecolor\":\"white\",\"showbackground\":true,\"ticks\":\"\",\"zerolinecolor\":\"white\",\"gridwidth\":2},\"zaxis\":{\"backgroundcolor\":\"#E5ECF6\",\"gridcolor\":\"white\",\"linecolor\":\"white\",\"showbackground\":true,\"ticks\":\"\",\"zerolinecolor\":\"white\",\"gridwidth\":2}},\"shapedefaults\":{\"line\":{\"color\":\"#2a3f5f\"}},\"annotationdefaults\":{\"arrowcolor\":\"#2a3f5f\",\"arrowhead\":0,\"arrowwidth\":1},\"geo\":{\"bgcolor\":\"white\",\"landcolor\":\"#E5ECF6\",\"subunitcolor\":\"white\",\"showland\":true,\"showlakes\":true,\"lakecolor\":\"white\"},\"title\":{\"x\":0.05},\"mapbox\":{\"style\":\"light\"}}},\"xaxis\":{\"anchor\":\"y\",\"domain\":[0.0,1.0],\"title\":{\"text\":\"Location\"},\"categoryorder\":\"array\",\"categoryarray\":[\" Guindy\",\"Nungambakkam\",\"Choolaimedu\",\"Anna Nagar\",\" Velachery\"]},\"yaxis\":{\"anchor\":\"x\",\"domain\":[0.0,1.0],\"title\":{\"text\":\"Name of Restaurant\"}},\"legend\":{\"title\":{\"text\":\"Location\"},\"tracegroupgap\":0},\"title\":{\"text\":\"Top 5 Chinese Restaurant\"},\"barmode\":\"relative\"},                        {\"responsive\": true}                    ).then(function(){\n",
       "                            \n",
       "var gd = document.getElementById('9893cb02-26b9-4576-9592-e8b1c06d0fd7');\n",
       "var x = new MutationObserver(function (mutations, observer) {{\n",
       "        var display = window.getComputedStyle(gd).display;\n",
       "        if (!display || display === 'none') {{\n",
       "            console.log([gd, 'removed!']);\n",
       "            Plotly.purge(gd);\n",
       "            observer.disconnect();\n",
       "        }}\n",
       "}});\n",
       "\n",
       "// Listen for the removal of the full notebook cells\n",
       "var notebookContainer = gd.closest('#notebook-container');\n",
       "if (notebookContainer) {{\n",
       "    x.observe(notebookContainer, {childList: true});\n",
       "}}\n",
       "\n",
       "// Listen for the clearing of the current output cell\n",
       "var outputEl = gd.closest('.output');\n",
       "if (outputEl) {{\n",
       "    x.observe(outputEl, {childList: true});\n",
       "}}\n",
       "\n",
       "                        })                };                });            </script>        </div>"
      ]
     },
     "metadata": {},
     "output_type": "display_data"
    }
   ],
   "source": [
    " px.bar(chinese_rest, x='Location', y='Name of Restaurant', color='Location', title= \"Top 5 Chinese Restaurant\") "
   ]
  },
  {
   "cell_type": "markdown",
   "id": "0f106a04-cea1-4700-af32-ab82c14d691d",
   "metadata": {},
   "source": [
    "3) What are the most common restaurant names based on cuisines?"
   ]
  },
  {
   "cell_type": "code",
   "execution_count": 107,
   "id": "ce605a3a-7485-4c72-b8c8-e1819ea40ef9",
   "metadata": {},
   "outputs": [
    {
     "data": {
      "text/plain": [
       "([0, 1, 2, 3, 4, 5, 6, 7, 8, 9],\n",
       " [Text(0, 0, 'King Of Wings'),\n",
       "  Text(1, 0, 'Lee Crysstal Dine'),\n",
       "  Text(2, 0, 'Big Bang Theory - Bar & Kitchen'),\n",
       "  Text(3, 0, 'The Shack @ Elliots'),\n",
       "  Text(4, 0, 'Episode 23'),\n",
       "  Text(5, 0, 'BIB - Breakfast In The Box'),\n",
       "  Text(6, 0, 'Fruitzee Grand Chef'),\n",
       "  Text(7, 0, 'What The Fork'),\n",
       "  Text(8, 0, 'Le Wrap Factorie'),\n",
       "  Text(9, 0, 'Tovo')])"
      ]
     },
     "execution_count": 107,
     "metadata": {},
     "output_type": "execute_result"
    },
    {
     "data": {
      "image/png": "[encoded data removed]",
      "text/plain": [
       "<Figure size 640x480 with 1 Axes>"
      ]
     },
     "metadata": {},
     "output_type": "display_data"
    }
   ],
   "source": [
    "common_names_by_cuisine = zomato_chennai.groupby('Cuisine')['Name of Restaurant'].value_counts().head(10)\n",
    "\n",
    "seaborn.barplot(x=common_names_by_cuisine.index.get_level_values(1), y=common_names_by_cuisine.values, palette='Paired')\n",
    "plt.title('Top 10 Most Common Restaurant Names by Cuisine')\n",
    "plt.xlabel('Restaurant Name')\n",
    "plt.ylabel('Frequency')\n",
    "plt.xticks(rotation=45)"
   ]
  },
  {
   "cell_type": "markdown",
   "id": "7deb1ca4-2ca9-4762-a1c6-f3df8dd62760",
   "metadata": {},
   "source": [
    "4) Highly Rated Veg Restaurant in Anna Nagar?"
   ]
  },
  {
   "cell_type": "code",
   "execution_count": 108,
   "id": "370bdee5-f58f-49ef-b824-4e561b5dbaf0",
   "metadata": {},
   "outputs": [
    {
     "data": {
      "text/html": [
       "<div>\n",
       "<style scoped>\n",
       "    .dataframe tbody tr th:only-of-type {\n",
       "        vertical-align: middle;\n",
       "    }\n",
       "\n",
       "    .dataframe tbody tr th {\n",
       "        vertical-align: top;\n",
       "    }\n",
       "\n",
       "    .dataframe thead th {\n",
       "        text-align: right;\n",
       "    }\n",
       "</style>\n",
       "<table border=\"1\" class=\"dataframe\">\n",
       "  <thead>\n",
       "    <tr style=\"text-align: right;\">\n",
       "      <th></th>\n",
       "      <th>index</th>\n",
       "      <th>Name of Restaurant</th>\n",
       "      <th>Location</th>\n",
       "      <th>Cuisine</th>\n",
       "      <th>Top Dishes</th>\n",
       "      <th>Price for 2</th>\n",
       "      <th>Dining Rating</th>\n",
       "      <th>Dining Rating Count</th>\n",
       "      <th>Delivery Rating</th>\n",
       "      <th>Delivery Rating Count</th>\n",
       "      <th>Features</th>\n",
       "    </tr>\n",
       "  </thead>\n",
       "  <tbody>\n",
       "    <tr>\n",
       "      <th>0</th>\n",
       "      <td>9123</td>\n",
       "      <td>Little Italy</td>\n",
       "      <td>Anna Nagar</td>\n",
       "      <td>Italian,  Mexican,  Salad</td>\n",
       "      <td>Pasta,  Pizza,  Nachos,  Chocolate Bomb,  Mush...</td>\n",
       "      <td>1500.0</td>\n",
       "      <td>4.5</td>\n",
       "      <td>487</td>\n",
       "      <td>4.1</td>\n",
       "      <td>843</td>\n",
       "      <td>Home Delivery, Vegetarian Only, Valet Parking ...</td>\n",
       "    </tr>\n",
       "    <tr>\n",
       "      <th>1</th>\n",
       "      <td>78</td>\n",
       "      <td>Shri Rajasthani Dhaba</td>\n",
       "      <td>Anna Nagar</td>\n",
       "      <td>Rajasthani,  North Indian</td>\n",
       "      <td>Rajasthani Thali,  Buttermilk,  Roti,  Paratha...</td>\n",
       "      <td>500.0</td>\n",
       "      <td>4.5</td>\n",
       "      <td>983</td>\n",
       "      <td>4.5</td>\n",
       "      <td>5537</td>\n",
       "      <td>Home Delivery, Vegetarian Only, Indoor Seating...</td>\n",
       "    </tr>\n",
       "    <tr>\n",
       "      <th>2</th>\n",
       "      <td>9366</td>\n",
       "      <td>Cream Stone</td>\n",
       "      <td>Anna Nagar</td>\n",
       "      <td>Desserts,  Ice Cream</td>\n",
       "      <td>Tiramisu,  Nutella Brownie,  Chocolava,  Ferre...</td>\n",
       "      <td>350.0</td>\n",
       "      <td>4.4</td>\n",
       "      <td>741</td>\n",
       "      <td>4.2</td>\n",
       "      <td>3707</td>\n",
       "      <td>Home Delivery, Vegetarian Only, Indoor Seating...</td>\n",
       "    </tr>\n",
       "    <tr>\n",
       "      <th>3</th>\n",
       "      <td>9016</td>\n",
       "      <td>Shree Mithai</td>\n",
       "      <td>Anna Nagar</td>\n",
       "      <td>Mithai,  Street Food,  Fast Food</td>\n",
       "      <td>Chaat,  Thali,  Panipuri,  Badam Milk,  Rasmal...</td>\n",
       "      <td>300.0</td>\n",
       "      <td>4.4</td>\n",
       "      <td>1267</td>\n",
       "      <td>4.2</td>\n",
       "      <td>18700</td>\n",
       "      <td>Breakfast, Home Delivery, Vegetarian Only, Fre...</td>\n",
       "    </tr>\n",
       "    <tr>\n",
       "      <th>4</th>\n",
       "      <td>9283</td>\n",
       "      <td>Cream Centre</td>\n",
       "      <td>Anna Nagar</td>\n",
       "      <td>North Indian,  Italian,  Fast Food,  Chinese, ...</td>\n",
       "      <td>Nachos,  Onion Rings,  Malai Kofta,  Brownie F...</td>\n",
       "      <td>1600.0</td>\n",
       "      <td>4.4</td>\n",
       "      <td>623</td>\n",
       "      <td>4.2</td>\n",
       "      <td>1028</td>\n",
       "      <td>Home Delivery, Vegetarian Only, Indoor Seating...</td>\n",
       "    </tr>\n",
       "    <tr>\n",
       "      <th>5</th>\n",
       "      <td>65</td>\n",
       "      <td>Sree Akshayam</td>\n",
       "      <td>Anna Nagar</td>\n",
       "      <td>South Indian,  North Indian,  Chinese,  Chetti...</td>\n",
       "      <td>Paratha,  Paneer Tikka,  Naan,  Pongal,  Filte...</td>\n",
       "      <td>700.0</td>\n",
       "      <td>4.3</td>\n",
       "      <td>1225</td>\n",
       "      <td>3.9</td>\n",
       "      <td>12600</td>\n",
       "      <td>Breakfast, Home Delivery, Vegetarian Only, Ind...</td>\n",
       "    </tr>\n",
       "    <tr>\n",
       "      <th>6</th>\n",
       "      <td>121</td>\n",
       "      <td>Roll Over</td>\n",
       "      <td>Anna Nagar</td>\n",
       "      <td>Ice Cream,  Desserts,  Fast Food</td>\n",
       "      <td>Rolls,  Ice Cream Roll,  Coffee,  Fries,  Choc...</td>\n",
       "      <td>450.0</td>\n",
       "      <td>4.3</td>\n",
       "      <td>721</td>\n",
       "      <td>3.7</td>\n",
       "      <td>378</td>\n",
       "      <td>Home Delivery, Vegetarian Only, Free Parking, ...</td>\n",
       "    </tr>\n",
       "    <tr>\n",
       "      <th>7</th>\n",
       "      <td>8926</td>\n",
       "      <td>Shri Balaajee Bhavan</td>\n",
       "      <td>Anna Nagar</td>\n",
       "      <td>South Indian,  North Indian</td>\n",
       "      <td>Filtered Coffee,  Vada Curry,  Thali,  Pongal,...</td>\n",
       "      <td>500.0</td>\n",
       "      <td>4.3</td>\n",
       "      <td>776</td>\n",
       "      <td>4.2</td>\n",
       "      <td>20900</td>\n",
       "      <td>Breakfast, Home Delivery, Vegetarian Only, Ind...</td>\n",
       "    </tr>\n",
       "    <tr>\n",
       "      <th>8</th>\n",
       "      <td>1485</td>\n",
       "      <td>Jayruka Delicacies</td>\n",
       "      <td>Anna Nagar</td>\n",
       "      <td>South Indian,  Fast Food,  Beverages</td>\n",
       "      <td>Pancakes,  Pasta,  Double Ka Meetha,  Idiyappa...</td>\n",
       "      <td>400.0</td>\n",
       "      <td>4.1</td>\n",
       "      <td>103</td>\n",
       "      <td>3.8</td>\n",
       "      <td>1858</td>\n",
       "      <td>Home Delivery, Vegetarian Only, Lunch Menu, In...</td>\n",
       "    </tr>\n",
       "    <tr>\n",
       "      <th>9</th>\n",
       "      <td>10028</td>\n",
       "      <td>Creamy Inn</td>\n",
       "      <td>Anna Nagar</td>\n",
       "      <td>Ice Cream,  Desserts,  Beverages</td>\n",
       "      <td>Waffles,  Thick Shakes</td>\n",
       "      <td>250.0</td>\n",
       "      <td>4.1</td>\n",
       "      <td>224</td>\n",
       "      <td>4.0</td>\n",
       "      <td>708</td>\n",
       "      <td>Home Delivery, Vegetarian Only, Indoor Seating...</td>\n",
       "    </tr>\n",
       "  </tbody>\n",
       "</table>\n",
       "</div>"
      ],
      "text/plain": [
       "   index     Name of Restaurant    Location  \\\n",
       "0   9123           Little Italy  Anna Nagar   \n",
       "1     78  Shri Rajasthani Dhaba  Anna Nagar   \n",
       "2   9366            Cream Stone  Anna Nagar   \n",
       "3   9016           Shree Mithai  Anna Nagar   \n",
       "4   9283           Cream Centre  Anna Nagar   \n",
       "5     65          Sree Akshayam  Anna Nagar   \n",
       "6    121              Roll Over  Anna Nagar   \n",
       "7   8926   Shri Balaajee Bhavan  Anna Nagar   \n",
       "8   1485     Jayruka Delicacies  Anna Nagar   \n",
       "9  10028             Creamy Inn  Anna Nagar   \n",
       "\n",
       "                                             Cuisine  \\\n",
       "0                          Italian,  Mexican,  Salad   \n",
       "1                          Rajasthani,  North Indian   \n",
       "2                               Desserts,  Ice Cream   \n",
       "3                   Mithai,  Street Food,  Fast Food   \n",
       "4  North Indian,  Italian,  Fast Food,  Chinese, ...   \n",
       "5  South Indian,  North Indian,  Chinese,  Chetti...   \n",
       "6                   Ice Cream,  Desserts,  Fast Food   \n",
       "7                        South Indian,  North Indian   \n",
       "8               South Indian,  Fast Food,  Beverages   \n",
       "9                   Ice Cream,  Desserts,  Beverages   \n",
       "\n",
       "                                          Top Dishes  Price for 2  \\\n",
       "0  Pasta,  Pizza,  Nachos,  Chocolate Bomb,  Mush...       1500.0   \n",
       "1  Rajasthani Thali,  Buttermilk,  Roti,  Paratha...        500.0   \n",
       "2  Tiramisu,  Nutella Brownie,  Chocolava,  Ferre...        350.0   \n",
       "3  Chaat,  Thali,  Panipuri,  Badam Milk,  Rasmal...        300.0   \n",
       "4  Nachos,  Onion Rings,  Malai Kofta,  Brownie F...       1600.0   \n",
       "5  Paratha,  Paneer Tikka,  Naan,  Pongal,  Filte...        700.0   \n",
       "6  Rolls,  Ice Cream Roll,  Coffee,  Fries,  Choc...        450.0   \n",
       "7  Filtered Coffee,  Vada Curry,  Thali,  Pongal,...        500.0   \n",
       "8  Pancakes,  Pasta,  Double Ka Meetha,  Idiyappa...        400.0   \n",
       "9                             Waffles,  Thick Shakes        250.0   \n",
       "\n",
       "   Dining Rating  Dining Rating Count  Delivery Rating  Delivery Rating Count  \\\n",
       "0            4.5                  487              4.1                    843   \n",
       "1            4.5                  983              4.5                   5537   \n",
       "2            4.4                  741              4.2                   3707   \n",
       "3            4.4                 1267              4.2                  18700   \n",
       "4            4.4                  623              4.2                   1028   \n",
       "5            4.3                 1225              3.9                  12600   \n",
       "6            4.3                  721              3.7                    378   \n",
       "7            4.3                  776              4.2                  20900   \n",
       "8            4.1                  103              3.8                   1858   \n",
       "9            4.1                  224              4.0                    708   \n",
       "\n",
       "                                            Features  \n",
       "0  Home Delivery, Vegetarian Only, Valet Parking ...  \n",
       "1  Home Delivery, Vegetarian Only, Indoor Seating...  \n",
       "2  Home Delivery, Vegetarian Only, Indoor Seating...  \n",
       "3  Breakfast, Home Delivery, Vegetarian Only, Fre...  \n",
       "4  Home Delivery, Vegetarian Only, Indoor Seating...  \n",
       "5  Breakfast, Home Delivery, Vegetarian Only, Ind...  \n",
       "6  Home Delivery, Vegetarian Only, Free Parking, ...  \n",
       "7  Breakfast, Home Delivery, Vegetarian Only, Ind...  \n",
       "8  Home Delivery, Vegetarian Only, Lunch Menu, In...  \n",
       "9  Home Delivery, Vegetarian Only, Indoor Seating...  "
      ]
     },
     "execution_count": 108,
     "metadata": {},
     "output_type": "execute_result"
    }
   ],
   "source": [
    "veg_rest = zomato_chennai[zomato_chennai[\"Features\"].str.contains(\"Veg\")]\n",
    "veg_rest = veg_rest[veg_rest[\"Location\"].str.contains(\"Anna Nagar\")]\n",
    "veg_rest = veg_rest.sort_values(by = \"Dining Rating\" , ascending = False).reset_index()\n",
    "veg_rest.head(10)"
   ]
  },
  {
   "cell_type": "markdown",
   "id": "5496f34a-506e-4848-b675-1b1c527d7e95",
   "metadata": {},
   "source": [
    "5) Location Wise count of (Delivery Only) Rataurant in Chennai?"
   ]
  },
  {
   "cell_type": "code",
   "execution_count": 164,
   "id": "3dcbd2cb-0dd0-44d9-8a83-425dc047a853",
   "metadata": {},
   "outputs": [
    {
     "data": {
      "text/html": [
       "<div>\n",
       "<style scoped>\n",
       "    .dataframe tbody tr th:only-of-type {\n",
       "        vertical-align: middle;\n",
       "    }\n",
       "\n",
       "    .dataframe tbody tr th {\n",
       "        vertical-align: top;\n",
       "    }\n",
       "\n",
       "    .dataframe thead th {\n",
       "        text-align: right;\n",
       "    }\n",
       "</style>\n",
       "<table border=\"1\" class=\"dataframe\">\n",
       "  <thead>\n",
       "    <tr style=\"text-align: right;\">\n",
       "      <th></th>\n",
       "      <th>Location</th>\n",
       "      <th>Count</th>\n",
       "    </tr>\n",
       "  </thead>\n",
       "  <tbody>\n",
       "    <tr>\n",
       "      <th>0</th>\n",
       "      <td>Velachery</td>\n",
       "      <td>33</td>\n",
       "    </tr>\n",
       "    <tr>\n",
       "      <th>1</th>\n",
       "      <td>Tambaram</td>\n",
       "      <td>25</td>\n",
       "    </tr>\n",
       "    <tr>\n",
       "      <th>2</th>\n",
       "      <td>Perungudi</td>\n",
       "      <td>21</td>\n",
       "    </tr>\n",
       "    <tr>\n",
       "      <th>3</th>\n",
       "      <td>Anna Nagar</td>\n",
       "      <td>21</td>\n",
       "    </tr>\n",
       "    <tr>\n",
       "      <th>4</th>\n",
       "      <td>Pallavaram</td>\n",
       "      <td>19</td>\n",
       "    </tr>\n",
       "    <tr>\n",
       "      <th>5</th>\n",
       "      <td>Medavakkam</td>\n",
       "      <td>19</td>\n",
       "    </tr>\n",
       "    <tr>\n",
       "      <th>6</th>\n",
       "      <td>Porur</td>\n",
       "      <td>17</td>\n",
       "    </tr>\n",
       "    <tr>\n",
       "      <th>7</th>\n",
       "      <td>Thuraipakkam</td>\n",
       "      <td>16</td>\n",
       "    </tr>\n",
       "    <tr>\n",
       "      <th>8</th>\n",
       "      <td>Selaiyur</td>\n",
       "      <td>16</td>\n",
       "    </tr>\n",
       "    <tr>\n",
       "      <th>9</th>\n",
       "      <td>Nungambakkam</td>\n",
       "      <td>15</td>\n",
       "    </tr>\n",
       "  </tbody>\n",
       "</table>\n",
       "</div>"
      ],
      "text/plain": [
       "       Location  Count\n",
       "0     Velachery     33\n",
       "1      Tambaram     25\n",
       "2     Perungudi     21\n",
       "3    Anna Nagar     21\n",
       "4    Pallavaram     19\n",
       "5    Medavakkam     19\n",
       "6         Porur     17\n",
       "7  Thuraipakkam     16\n",
       "8      Selaiyur     16\n",
       "9  Nungambakkam     15"
      ]
     },
     "execution_count": 164,
     "metadata": {},
     "output_type": "execute_result"
    }
   ],
   "source": [
    "no_dining_rest = zomato_chennai[zomato_chennai[\"Features\"].str.contains(\"Delivery Only\")]\n",
    "no_dining_rest = no_dining_rest.groupby(\"Location\")[['Name of Restaurant']].count().sort_values(by = \"Name of Restaurant\", ascending=False).reset_index()\n",
    "no_dining_rest.rename(columns={'Name of Restaurant':'Count'}, inplace=True)\n",
    "no_dining_rest.head(10) "
   ]
  },
  {
   "cell_type": "code",
   "execution_count": 165,
   "id": "79ac793c-db8e-4e61-aa10-3bc7c2ae65a3",
   "metadata": {
    "scrolled": true
   },
   "outputs": [
    {
     "data": {
      "application/vnd.plotly.v1+json": {
       "config": {
        "plotlyServerURL": "https://plot.ly"
       },
       "data": [
        {
         "customdata": [
          [
           "Velachery"
          ],
          [
           "Tambaram"
          ],
          [
           "Perungudi"
          ],
          [
           "Anna Nagar"
          ],
          [
           "Pallavaram"
          ],
          [
           "Medavakkam"
          ],
          [
           "Porur"
          ],
          [
           "Thuraipakkam"
          ],
          [
           "Selaiyur"
          ],
          [
           "Nungambakkam"
          ]
         ],
         "domain": {
          "x": [
           0,
           1
          ],
          "y": [
           0,
           1
          ]
         },
         "hovertemplate": "Location=%{customdata[0]}<br>Count=%{value}<extra></extra>",
         "labels": [
          "Velachery",
          "Tambaram",
          "Perungudi",
          "Anna Nagar",
          "Pallavaram",
          "Medavakkam",
          "Porur",
          "Thuraipakkam",
          "Selaiyur",
          "Nungambakkam"
         ],
         "legendgroup": "",
         "marker": {
          "colors": [
           "#636efa",
           "#EF553B",
           "#00cc96",
           "#ab63fa",
           "#FFA15A",
           "#19d3f3",
           "#FF6692",
           "#B6E880",
           "#FF97FF",
           "#FECB52"
          ]
         },
         "name": "",
         "showlegend": true,
         "textinfo": "label",
         "textposition": "inside",
         "type": "pie",
         "values": [
          33,
          25,
          21,
          21,
          19,
          19,
          17,
          16,
          16,
          15
         ]
        }
       ],
       "layout": {
        "autosize": true,
        "legend": {
         "tracegroupgap": 0
        },
        "template": {
         "data": {
          "bar": [
           {
            "error_x": {
             "color": "#2a3f5f"
            },
            "error_y": {
             "color": "#2a3f5f"
            },
            "marker": {
             "line": {
              "color": "#E5ECF6",
              "width": 0.5
             },
             "pattern": {
              "fillmode": "overlay",
              "size": 10,
              "solidity": 0.2
             }
            },
            "type": "bar"
           }
          ],
          "barpolar": [
           {
            "marker": {
             "line": {
              "color": "#E5ECF6",
              "width": 0.5
             },
             "pattern": {
              "fillmode": "overlay",
              "size": 10,
              "solidity": 0.2
             }
            },
            "type": "barpolar"
           }
          ],
          "carpet": [
           {
            "aaxis": {
             "endlinecolor": "#2a3f5f",
             "gridcolor": "white",
             "linecolor": "white",
             "minorgridcolor": "white",
             "startlinecolor": "#2a3f5f"
            },
            "baxis": {
             "endlinecolor": "#2a3f5f",
             "gridcolor": "white",
             "linecolor": "white",
             "minorgridcolor": "white",
             "startlinecolor": "#2a3f5f"
            },
            "type": "carpet"
           }
          ],
          "choropleth": [
           {
            "colorbar": {
             "outlinewidth": 0,
             "ticks": ""
            },
            "type": "choropleth"
           }
          ],
          "contour": [
           {
            "colorbar": {
             "outlinewidth": 0,
             "ticks": ""
            },
            "colorscale": [
             [
              0,
              "#0d0887"
             ],
             [
              0.1111111111111111,
              "#46039f"
             ],
             [
              0.2222222222222222,
              "#7201a8"
             ],
             [
              0.3333333333333333,
              "#9c179e"
             ],
             [
              0.4444444444444444,
              "#bd3786"
             ],
             [
              0.5555555555555556,
              "#d8576b"
             ],
             [
              0.6666666666666666,
              "#ed7953"
             ],
             [
              0.7777777777777778,
              "#fb9f3a"
             ],
             [
              0.8888888888888888,
              "#fdca26"
             ],
             [
              1,
              "#f0f921"
             ]
            ],
            "type": "contour"
           }
          ],
          "contourcarpet": [
           {
            "colorbar": {
             "outlinewidth": 0,
             "ticks": ""
            },
            "type": "contourcarpet"
           }
          ],
          "heatmap": [
           {
            "colorbar": {
             "outlinewidth": 0,
             "ticks": ""
            },
            "colorscale": [
             [
              0,
              "#0d0887"
             ],
             [
              0.1111111111111111,
              "#46039f"
             ],
             [
              0.2222222222222222,
              "#7201a8"
             ],
             [
              0.3333333333333333,
              "#9c179e"
             ],
             [
              0.4444444444444444,
              "#bd3786"
             ],
             [
              0.5555555555555556,
              "#d8576b"
             ],
             [
              0.6666666666666666,
              "#ed7953"
             ],
             [
              0.7777777777777778,
              "#fb9f3a"
             ],
             [
              0.8888888888888888,
              "#fdca26"
             ],
             [
              1,
              "#f0f921"
             ]
            ],
            "type": "heatmap"
           }
          ],
          "heatmapgl": [
           {
            "colorbar": {
             "outlinewidth": 0,
             "ticks": ""
            },
            "colorscale": [
             [
              0,
              "#0d0887"
             ],
             [
              0.1111111111111111,
              "#46039f"
             ],
             [
              0.2222222222222222,
              "#7201a8"
             ],
             [
              0.3333333333333333,
              "#9c179e"
             ],
             [
              0.4444444444444444,
              "#bd3786"
             ],
             [
              0.5555555555555556,
              "#d8576b"
             ],
             [
              0.6666666666666666,
              "#ed7953"
             ],
             [
              0.7777777777777778,
              "#fb9f3a"
             ],
             [
              0.8888888888888888,
              "#fdca26"
             ],
             [
              1,
              "#f0f921"
             ]
            ],
            "type": "heatmapgl"
           }
          ],
          "histogram": [
           {
            "marker": {
             "pattern": {
              "fillmode": "overlay",
              "size": 10,
              "solidity": 0.2
             }
            },
            "type": "histogram"
           }
          ],
          "histogram2d": [
           {
            "colorbar": {
             "outlinewidth": 0,
             "ticks": ""
            },
            "colorscale": [
             [
              0,
              "#0d0887"
             ],
             [
              0.1111111111111111,
              "#46039f"
             ],
             [
              0.2222222222222222,
              "#7201a8"
             ],
             [
              0.3333333333333333,
              "#9c179e"
             ],
             [
              0.4444444444444444,
              "#bd3786"
             ],
             [
              0.5555555555555556,
              "#d8576b"
             ],
             [
              0.6666666666666666,
              "#ed7953"
             ],
             [
              0.7777777777777778,
              "#fb9f3a"
             ],
             [
              0.8888888888888888,
              "#fdca26"
             ],
             [
              1,
              "#f0f921"
             ]
            ],
            "type": "histogram2d"
           }
          ],
          "histogram2dcontour": [
           {
            "colorbar": {
             "outlinewidth": 0,
             "ticks": ""
            },
            "colorscale": [
             [
              0,
              "#0d0887"
             ],
             [
              0.1111111111111111,
              "#46039f"
             ],
             [
              0.2222222222222222,
              "#7201a8"
             ],
             [
              0.3333333333333333,
              "#9c179e"
             ],
             [
              0.4444444444444444,
              "#bd3786"
             ],
             [
              0.5555555555555556,
              "#d8576b"
             ],
             [
              0.6666666666666666,
              "#ed7953"
             ],
             [
              0.7777777777777778,
              "#fb9f3a"
             ],
             [
              0.8888888888888888,
              "#fdca26"
             ],
             [
              1,
              "#f0f921"
             ]
            ],
            "type": "histogram2dcontour"
           }
          ],
          "mesh3d": [
           {
            "colorbar": {
             "outlinewidth": 0,
             "ticks": ""
            },
            "type": "mesh3d"
           }
          ],
          "parcoords": [
           {
            "line": {
             "colorbar": {
              "outlinewidth": 0,
              "ticks": ""
             }
            },
            "type": "parcoords"
           }
          ],
          "pie": [
           {
            "automargin": true,
            "type": "pie"
           }
          ],
          "scatter": [
           {
            "fillpattern": {
             "fillmode": "overlay",
             "size": 10,
             "solidity": 0.2
            },
            "type": "scatter"
           }
          ],
          "scatter3d": [
           {
            "line": {
             "colorbar": {
              "outlinewidth": 0,
              "ticks": ""
             }
            },
            "marker": {
             "colorbar": {
              "outlinewidth": 0,
              "ticks": ""
             }
            },
            "type": "scatter3d"
           }
          ],
          "scattercarpet": [
           {
            "marker": {
             "colorbar": {
              "outlinewidth": 0,
              "ticks": ""
             }
            },
            "type": "scattercarpet"
           }
          ],
          "scattergeo": [
           {
            "marker": {
             "colorbar": {
              "outlinewidth": 0,
              "ticks": ""
             }
            },
            "type": "scattergeo"
           }
          ],
          "scattergl": [
           {
            "marker": {
             "colorbar": {
              "outlinewidth": 0,
              "ticks": ""
             }
            },
            "type": "scattergl"
           }
          ],
          "scattermapbox": [
           {
            "marker": {
             "colorbar": {
              "outlinewidth": 0,
              "ticks": ""
             }
            },
            "type": "scattermapbox"
           }
          ],
          "scatterpolar": [
           {
            "marker": {
             "colorbar": {
              "outlinewidth": 0,
              "ticks": ""
             }
            },
            "type": "scatterpolar"
           }
          ],
          "scatterpolargl": [
           {
            "marker": {
             "colorbar": {
              "outlinewidth": 0,
              "ticks": ""
             }
            },
            "type": "scatterpolargl"
           }
          ],
          "scatterternary": [
           {
            "marker": {
             "colorbar": {
              "outlinewidth": 0,
              "ticks": ""
             }
            },
            "type": "scatterternary"
           }
          ],
          "surface": [
           {
            "colorbar": {
             "outlinewidth": 0,
             "ticks": ""
            },
            "colorscale": [
             [
              0,
              "#0d0887"
             ],
             [
              0.1111111111111111,
              "#46039f"
             ],
             [
              0.2222222222222222,
              "#7201a8"
             ],
             [
              0.3333333333333333,
              "#9c179e"
             ],
             [
              0.4444444444444444,
              "#bd3786"
             ],
             [
              0.5555555555555556,
              "#d8576b"
             ],
             [
              0.6666666666666666,
              "#ed7953"
             ],
             [
              0.7777777777777778,
              "#fb9f3a"
             ],
             [
              0.8888888888888888,
              "#fdca26"
             ],
             [
              1,
              "#f0f921"
             ]
            ],
            "type": "surface"
           }
          ],
          "table": [
           {
            "cells": {
             "fill": {
              "color": "#EBF0F8"
             },
             "line": {
              "color": "white"
             }
            },
            "header": {
             "fill": {
              "color": "#C8D4E3"
             },
             "line": {
              "color": "white"
             }
            },
            "type": "table"
           }
          ]
         },
         "layout": {
          "annotationdefaults": {
           "arrowcolor": "#2a3f5f",
           "arrowhead": 0,
           "arrowwidth": 1
          },
          "autotypenumbers": "strict",
          "coloraxis": {
           "colorbar": {
            "outlinewidth": 0,
            "ticks": ""
           }
          },
          "colorscale": {
           "diverging": [
            [
             0,
             "#8e0152"
            ],
            [
             0.1,
             "#c51b7d"
            ],
            [
             0.2,
             "#de77ae"
            ],
            [
             0.3,
             "#f1b6da"
            ],
            [
             0.4,
             "#fde0ef"
            ],
            [
             0.5,
             "#f7f7f7"
            ],
            [
             0.6,
             "#e6f5d0"
            ],
            [
             0.7,
             "#b8e186"
            ],
            [
             0.8,
             "#7fbc41"
            ],
            [
             0.9,
             "#4d9221"
            ],
            [
             1,
             "#276419"
            ]
           ],
           "sequential": [
            [
             0,
             "#0d0887"
            ],
            [
             0.1111111111111111,
             "#46039f"
            ],
            [
             0.2222222222222222,
             "#7201a8"
            ],
            [
             0.3333333333333333,
             "#9c179e"
            ],
            [
             0.4444444444444444,
             "#bd3786"
            ],
            [
             0.5555555555555556,
             "#d8576b"
            ],
            [
             0.6666666666666666,
             "#ed7953"
            ],
            [
             0.7777777777777778,
             "#fb9f3a"
            ],
            [
             0.8888888888888888,
             "#fdca26"
            ],
            [
             1,
             "#f0f921"
            ]
           ],
           "sequentialminus": [
            [
             0,
             "#0d0887"
            ],
            [
             0.1111111111111111,
             "#46039f"
            ],
            [
             0.2222222222222222,
             "#7201a8"
            ],
            [
             0.3333333333333333,
             "#9c179e"
            ],
            [
             0.4444444444444444,
             "#bd3786"
            ],
            [
             0.5555555555555556,
             "#d8576b"
            ],
            [
             0.6666666666666666,
             "#ed7953"
            ],
            [
             0.7777777777777778,
             "#fb9f3a"
            ],
            [
             0.8888888888888888,
             "#fdca26"
            ],
            [
             1,
             "#f0f921"
            ]
           ]
          },
          "colorway": [
           "#636efa",
           "#EF553B",
           "#00cc96",
           "#ab63fa",
           "#FFA15A",
           "#19d3f3",
           "#FF6692",
           "#B6E880",
           "#FF97FF",
           "#FECB52"
          ],
          "font": {
           "color": "#2a3f5f"
          },
          "geo": {
           "bgcolor": "white",
           "lakecolor": "white",
           "landcolor": "#E5ECF6",
           "showlakes": true,
           "showland": true,
           "subunitcolor": "white"
          },
          "hoverlabel": {
           "align": "left"
          },
          "hovermode": "closest",
          "mapbox": {
           "style": "light"
          },
          "paper_bgcolor": "white",
          "plot_bgcolor": "#E5ECF6",
          "polar": {
           "angularaxis": {
            "gridcolor": "white",
            "linecolor": "white",
            "ticks": ""
           },
           "bgcolor": "#E5ECF6",
           "radialaxis": {
            "gridcolor": "white",
            "linecolor": "white",
            "ticks": ""
           }
          },
          "scene": {
           "xaxis": {
            "backgroundcolor": "#E5ECF6",
            "gridcolor": "white",
            "gridwidth": 2,
            "linecolor": "white",
            "showbackground": true,
            "ticks": "",
            "zerolinecolor": "white"
           },
           "yaxis": {
            "backgroundcolor": "#E5ECF6",
            "gridcolor": "white",
            "gridwidth": 2,
            "linecolor": "white",
            "showbackground": true,
            "ticks": "",
            "zerolinecolor": "white"
           },
           "zaxis": {
            "backgroundcolor": "#E5ECF6",
            "gridcolor": "white",
            "gridwidth": 2,
            "linecolor": "white",
            "showbackground": true,
            "ticks": "",
            "zerolinecolor": "white"
           }
          },
          "shapedefaults": {
           "line": {
            "color": "#2a3f5f"
           }
          },
          "ternary": {
           "aaxis": {
            "gridcolor": "white",
            "linecolor": "white",
            "ticks": ""
           },
           "baxis": {
            "gridcolor": "white",
            "linecolor": "white",
            "ticks": ""
           },
           "bgcolor": "#E5ECF6",
           "caxis": {
            "gridcolor": "white",
            "linecolor": "white",
            "ticks": ""
           }
          },
          "title": {
           "x": 0.05
          },
          "xaxis": {
           "automargin": true,
           "gridcolor": "white",
           "linecolor": "white",
           "ticks": "",
           "title": {
            "standoff": 15
           },
           "zerolinecolor": "white",
           "zerolinewidth": 2
          },
          "yaxis": {
           "automargin": true,
           "gridcolor": "white",
           "linecolor": "white",
           "ticks": "",
           "title": {
            "standoff": 15
           },
           "zerolinecolor": "white",
           "zerolinewidth": 2
          }
         }
        },
        "title": {
         "text": "Total Number of Delivery Only Rataurant in Chennai"
        }
       }
      },
      "image/png": "[encoded data removed]",
      "text/html": [
       "<div>                            <div id=\"e5064a97-3fa0-4999-976b-d2e3ed738db3\" class=\"plotly-graph-div\" style=\"height:525px; width:100%;\"></div>            <script type=\"text/javascript\">                require([\"plotly\"], function(Plotly) {                    window.PLOTLYENV=window.PLOTLYENV || {};                                    if (document.getElementById(\"e5064a97-3fa0-4999-976b-d2e3ed738db3\")) {                    Plotly.newPlot(                        \"e5064a97-3fa0-4999-976b-d2e3ed738db3\",                        [{\"customdata\":[[\"Velachery\"],[\"Tambaram\"],[\"Perungudi\"],[\"Anna Nagar\"],[\"Pallavaram\"],[\"Medavakkam\"],[\"Porur\"],[\"Thuraipakkam\"],[\"Selaiyur\"],[\"Nungambakkam\"]],\"domain\":{\"x\":[0.0,1.0],\"y\":[0.0,1.0]},\"hovertemplate\":\"Location=%{customdata[0]}\\u003cbr\\u003eCount=%{value}\\u003cextra\\u003e\\u003c\\u002fextra\\u003e\",\"labels\":[\"Velachery\",\"Tambaram\",\"Perungudi\",\"Anna Nagar\",\"Pallavaram\",\"Medavakkam\",\"Porur\",\"Thuraipakkam\",\"Selaiyur\",\"Nungambakkam\"],\"legendgroup\":\"\",\"marker\":{\"colors\":[\"#636efa\",\"#EF553B\",\"#00cc96\",\"#ab63fa\",\"#FFA15A\",\"#19d3f3\",\"#FF6692\",\"#B6E880\",\"#FF97FF\",\"#FECB52\"]},\"name\":\"\",\"showlegend\":true,\"values\":[33,25,21,21,19,19,17,16,16,15],\"type\":\"pie\",\"textinfo\":\"label\",\"textposition\":\"inside\"}],                        {\"template\":{\"data\":{\"histogram2dcontour\":[{\"type\":\"histogram2dcontour\",\"colorbar\":{\"outlinewidth\":0,\"ticks\":\"\"},\"colorscale\":[[0.0,\"#0d0887\"],[0.1111111111111111,\"#46039f\"],[0.2222222222222222,\"#7201a8\"],[0.3333333333333333,\"#9c179e\"],[0.4444444444444444,\"#bd3786\"],[0.5555555555555556,\"#d8576b\"],[0.6666666666666666,\"#ed7953\"],[0.7777777777777778,\"#fb9f3a\"],[0.8888888888888888,\"#fdca26\"],[1.0,\"#f0f921\"]]}],\"choropleth\":[{\"type\":\"choropleth\",\"colorbar\":{\"outlinewidth\":0,\"ticks\":\"\"}}],\"histogram2d\":[{\"type\":\"histogram2d\",\"colorbar\":{\"outlinewidth\":0,\"ticks\":\"\"},\"colorscale\":[[0.0,\"#0d0887\"],[0.1111111111111111,\"#46039f\"],[0.2222222222222222,\"#7201a8\"],[0.3333333333333333,\"#9c179e\"],[0.4444444444444444,\"#bd3786\"],[0.5555555555555556,\"#d8576b\"],[0.6666666666666666,\"#ed7953\"],[0.7777777777777778,\"#fb9f3a\"],[0.8888888888888888,\"#fdca26\"],[1.0,\"#f0f921\"]]}],\"heatmap\":[{\"type\":\"heatmap\",\"colorbar\":{\"outlinewidth\":0,\"ticks\":\"\"},\"colorscale\":[[0.0,\"#0d0887\"],[0.1111111111111111,\"#46039f\"],[0.2222222222222222,\"#7201a8\"],[0.3333333333333333,\"#9c179e\"],[0.4444444444444444,\"#bd3786\"],[0.5555555555555556,\"#d8576b\"],[0.6666666666666666,\"#ed7953\"],[0.7777777777777778,\"#fb9f3a\"],[0.8888888888888888,\"#fdca26\"],[1.0,\"#f0f921\"]]}],\"heatmapgl\":[{\"type\":\"heatmapgl\",\"colorbar\":{\"outlinewidth\":0,\"ticks\":\"\"},\"colorscale\":[[0.0,\"#0d0887\"],[0.1111111111111111,\"#46039f\"],[0.2222222222222222,\"#7201a8\"],[0.3333333333333333,\"#9c179e\"],[0.4444444444444444,\"#bd3786\"],[0.5555555555555556,\"#d8576b\"],[0.6666666666666666,\"#ed7953\"],[0.7777777777777778,\"#fb9f3a\"],[0.8888888888888888,\"#fdca26\"],[1.0,\"#f0f921\"]]}],\"contourcarpet\":[{\"type\":\"contourcarpet\",\"colorbar\":{\"outlinewidth\":0,\"ticks\":\"\"}}],\"contour\":[{\"type\":\"contour\",\"colorbar\":{\"outlinewidth\":0,\"ticks\":\"\"},\"colorscale\":[[0.0,\"#0d0887\"],[0.1111111111111111,\"#46039f\"],[0.2222222222222222,\"#7201a8\"],[0.3333333333333333,\"#9c179e\"],[0.4444444444444444,\"#bd3786\"],[0.5555555555555556,\"#d8576b\"],[0.6666666666666666,\"#ed7953\"],[0.7777777777777778,\"#fb9f3a\"],[0.8888888888888888,\"#fdca26\"],[1.0,\"#f0f921\"]]}],\"surface\":[{\"type\":\"surface\",\"colorbar\":{\"outlinewidth\":0,\"ticks\":\"\"},\"colorscale\":[[0.0,\"#0d0887\"],[0.1111111111111111,\"#46039f\"],[0.2222222222222222,\"#7201a8\"],[0.3333333333333333,\"#9c179e\"],[0.4444444444444444,\"#bd3786\"],[0.5555555555555556,\"#d8576b\"],[0.6666666666666666,\"#ed7953\"],[0.7777777777777778,\"#fb9f3a\"],[0.8888888888888888,\"#fdca26\"],[1.0,\"#f0f921\"]]}],\"mesh3d\":[{\"type\":\"mesh3d\",\"colorbar\":{\"outlinewidth\":0,\"ticks\":\"\"}}],\"scatter\":[{\"fillpattern\":{\"fillmode\":\"overlay\",\"size\":10,\"solidity\":0.2},\"type\":\"scatter\"}],\"parcoords\":[{\"type\":\"parcoords\",\"line\":{\"colorbar\":{\"outlinewidth\":0,\"ticks\":\"\"}}}],\"scatterpolargl\":[{\"type\":\"scatterpolargl\",\"marker\":{\"colorbar\":{\"outlinewidth\":0,\"ticks\":\"\"}}}],\"bar\":[{\"error_x\":{\"color\":\"#2a3f5f\"},\"error_y\":{\"color\":\"#2a3f5f\"},\"marker\":{\"line\":{\"color\":\"#E5ECF6\",\"width\":0.5},\"pattern\":{\"fillmode\":\"overlay\",\"size\":10,\"solidity\":0.2}},\"type\":\"bar\"}],\"scattergeo\":[{\"type\":\"scattergeo\",\"marker\":{\"colorbar\":{\"outlinewidth\":0,\"ticks\":\"\"}}}],\"scatterpolar\":[{\"type\":\"scatterpolar\",\"marker\":{\"colorbar\":{\"outlinewidth\":0,\"ticks\":\"\"}}}],\"histogram\":[{\"marker\":{\"pattern\":{\"fillmode\":\"overlay\",\"size\":10,\"solidity\":0.2}},\"type\":\"histogram\"}],\"scattergl\":[{\"type\":\"scattergl\",\"marker\":{\"colorbar\":{\"outlinewidth\":0,\"ticks\":\"\"}}}],\"scatter3d\":[{\"type\":\"scatter3d\",\"line\":{\"colorbar\":{\"outlinewidth\":0,\"ticks\":\"\"}},\"marker\":{\"colorbar\":{\"outlinewidth\":0,\"ticks\":\"\"}}}],\"scattermapbox\":[{\"type\":\"scattermapbox\",\"marker\":{\"colorbar\":{\"outlinewidth\":0,\"ticks\":\"\"}}}],\"scatterternary\":[{\"type\":\"scatterternary\",\"marker\":{\"colorbar\":{\"outlinewidth\":0,\"ticks\":\"\"}}}],\"scattercarpet\":[{\"type\":\"scattercarpet\",\"marker\":{\"colorbar\":{\"outlinewidth\":0,\"ticks\":\"\"}}}],\"carpet\":[{\"aaxis\":{\"endlinecolor\":\"#2a3f5f\",\"gridcolor\":\"white\",\"linecolor\":\"white\",\"minorgridcolor\":\"white\",\"startlinecolor\":\"#2a3f5f\"},\"baxis\":{\"endlinecolor\":\"#2a3f5f\",\"gridcolor\":\"white\",\"linecolor\":\"white\",\"minorgridcolor\":\"white\",\"startlinecolor\":\"#2a3f5f\"},\"type\":\"carpet\"}],\"table\":[{\"cells\":{\"fill\":{\"color\":\"#EBF0F8\"},\"line\":{\"color\":\"white\"}},\"header\":{\"fill\":{\"color\":\"#C8D4E3\"},\"line\":{\"color\":\"white\"}},\"type\":\"table\"}],\"barpolar\":[{\"marker\":{\"line\":{\"color\":\"#E5ECF6\",\"width\":0.5},\"pattern\":{\"fillmode\":\"overlay\",\"size\":10,\"solidity\":0.2}},\"type\":\"barpolar\"}],\"pie\":[{\"automargin\":true,\"type\":\"pie\"}]},\"layout\":{\"autotypenumbers\":\"strict\",\"colorway\":[\"#636efa\",\"#EF553B\",\"#00cc96\",\"#ab63fa\",\"#FFA15A\",\"#19d3f3\",\"#FF6692\",\"#B6E880\",\"#FF97FF\",\"#FECB52\"],\"font\":{\"color\":\"#2a3f5f\"},\"hovermode\":\"closest\",\"hoverlabel\":{\"align\":\"left\"},\"paper_bgcolor\":\"white\",\"plot_bgcolor\":\"#E5ECF6\",\"polar\":{\"bgcolor\":\"#E5ECF6\",\"angularaxis\":{\"gridcolor\":\"white\",\"linecolor\":\"white\",\"ticks\":\"\"},\"radialaxis\":{\"gridcolor\":\"white\",\"linecolor\":\"white\",\"ticks\":\"\"}},\"ternary\":{\"bgcolor\":\"#E5ECF6\",\"aaxis\":{\"gridcolor\":\"white\",\"linecolor\":\"white\",\"ticks\":\"\"},\"baxis\":{\"gridcolor\":\"white\",\"linecolor\":\"white\",\"ticks\":\"\"},\"caxis\":{\"gridcolor\":\"white\",\"linecolor\":\"white\",\"ticks\":\"\"}},\"coloraxis\":{\"colorbar\":{\"outlinewidth\":0,\"ticks\":\"\"}},\"colorscale\":{\"sequential\":[[0.0,\"#0d0887\"],[0.1111111111111111,\"#46039f\"],[0.2222222222222222,\"#7201a8\"],[0.3333333333333333,\"#9c179e\"],[0.4444444444444444,\"#bd3786\"],[0.5555555555555556,\"#d8576b\"],[0.6666666666666666,\"#ed7953\"],[0.7777777777777778,\"#fb9f3a\"],[0.8888888888888888,\"#fdca26\"],[1.0,\"#f0f921\"]],\"sequentialminus\":[[0.0,\"#0d0887\"],[0.1111111111111111,\"#46039f\"],[0.2222222222222222,\"#7201a8\"],[0.3333333333333333,\"#9c179e\"],[0.4444444444444444,\"#bd3786\"],[0.5555555555555556,\"#d8576b\"],[0.6666666666666666,\"#ed7953\"],[0.7777777777777778,\"#fb9f3a\"],[0.8888888888888888,\"#fdca26\"],[1.0,\"#f0f921\"]],\"diverging\":[[0,\"#8e0152\"],[0.1,\"#c51b7d\"],[0.2,\"#de77ae\"],[0.3,\"#f1b6da\"],[0.4,\"#fde0ef\"],[0.5,\"#f7f7f7\"],[0.6,\"#e6f5d0\"],[0.7,\"#b8e186\"],[0.8,\"#7fbc41\"],[0.9,\"#4d9221\"],[1,\"#276419\"]]},\"xaxis\":{\"gridcolor\":\"white\",\"linecolor\":\"white\",\"ticks\":\"\",\"title\":{\"standoff\":15},\"zerolinecolor\":\"white\",\"automargin\":true,\"zerolinewidth\":2},\"yaxis\":{\"gridcolor\":\"white\",\"linecolor\":\"white\",\"ticks\":\"\",\"title\":{\"standoff\":15},\"zerolinecolor\":\"white\",\"automargin\":true,\"zerolinewidth\":2},\"scene\":{\"xaxis\":{\"backgroundcolor\":\"#E5ECF6\",\"gridcolor\":\"white\",\"linecolor\":\"white\",\"showbackground\":true,\"ticks\":\"\",\"zerolinecolor\":\"white\",\"gridwidth\":2},\"yaxis\":{\"backgroundcolor\":\"#E5ECF6\",\"gridcolor\":\"white\",\"linecolor\":\"white\",\"showbackground\":true,\"ticks\":\"\",\"zerolinecolor\":\"white\",\"gridwidth\":2},\"zaxis\":{\"backgroundcolor\":\"#E5ECF6\",\"gridcolor\":\"white\",\"linecolor\":\"white\",\"showbackground\":true,\"ticks\":\"\",\"zerolinecolor\":\"white\",\"gridwidth\":2}},\"shapedefaults\":{\"line\":{\"color\":\"#2a3f5f\"}},\"annotationdefaults\":{\"arrowcolor\":\"#2a3f5f\",\"arrowhead\":0,\"arrowwidth\":1},\"geo\":{\"bgcolor\":\"white\",\"landcolor\":\"#E5ECF6\",\"subunitcolor\":\"white\",\"showland\":true,\"showlakes\":true,\"lakecolor\":\"white\"},\"title\":{\"x\":0.05},\"mapbox\":{\"style\":\"light\"}}},\"legend\":{\"tracegroupgap\":0},\"title\":{\"text\":\"Total Number of Delivery Only Rataurant in Chennai\"}},                        {\"responsive\": true}                    ).then(function(){\n",
       "                            \n",
       "var gd = document.getElementById('e5064a97-3fa0-4999-976b-d2e3ed738db3');\n",
       "var x = new MutationObserver(function (mutations, observer) {{\n",
       "        var display = window.getComputedStyle(gd).display;\n",
       "        if (!display || display === 'none') {{\n",
       "            console.log([gd, 'removed!']);\n",
       "            Plotly.purge(gd);\n",
       "            observer.disconnect();\n",
       "        }}\n",
       "}});\n",
       "\n",
       "// Listen for the removal of the full notebook cells\n",
       "var notebookContainer = gd.closest('#notebook-container');\n",
       "if (notebookContainer) {{\n",
       "    x.observe(notebookContainer, {childList: true});\n",
       "}}\n",
       "\n",
       "// Listen for the clearing of the current output cell\n",
       "var outputEl = gd.closest('.output');\n",
       "if (outputEl) {{\n",
       "    x.observe(outputEl, {childList: true});\n",
       "}}\n",
       "\n",
       "                        })                };                });            </script>        </div>"
      ]
     },
     "metadata": {},
     "output_type": "display_data"
    }
   ],
   "source": [
    "px.pie(no_dining_rest.head(10), names='Location', values='Count', color='Location',\n",
    "title='Total Number of Delivery Only Rataurant in Chennai').update_traces(textposition='inside', textinfo='label')"
   ]
  },
  {
   "cell_type": "markdown",
   "id": "412a1d07-9c9b-4827-bd3c-eb23a1129ef4",
   "metadata": {},
   "source": [
    "6) What are the top 5 most expensive restaurants in Chennai?"
   ]
  },
  {
   "cell_type": "code",
   "execution_count": 173,
   "id": "869283c1-d316-4716-ae18-d13f0d32b858",
   "metadata": {
    "scrolled": true
   },
   "outputs": [
    {
     "data": {
      "text/html": [
       "<div>\n",
       "<style scoped>\n",
       "    .dataframe tbody tr th:only-of-type {\n",
       "        vertical-align: middle;\n",
       "    }\n",
       "\n",
       "    .dataframe tbody tr th {\n",
       "        vertical-align: top;\n",
       "    }\n",
       "\n",
       "    .dataframe thead th {\n",
       "        text-align: right;\n",
       "    }\n",
       "</style>\n",
       "<table border=\"1\" class=\"dataframe\">\n",
       "  <thead>\n",
       "    <tr style=\"text-align: right;\">\n",
       "      <th></th>\n",
       "      <th>Name of Restaurant</th>\n",
       "      <th>Price for 2</th>\n",
       "    </tr>\n",
       "  </thead>\n",
       "  <tbody>\n",
       "    <tr>\n",
       "      <th>826</th>\n",
       "      <td>Blend - Taj Club House</td>\n",
       "      <td>5000.0</td>\n",
       "    </tr>\n",
       "    <tr>\n",
       "      <th>803</th>\n",
       "      <td>Salt. Co. 531 - Radisson Blu GRT Hotel</td>\n",
       "      <td>4800.0</td>\n",
       "    </tr>\n",
       "    <tr>\n",
       "      <th>443</th>\n",
       "      <td>Avartana - ITC Grand Chola</td>\n",
       "      <td>4500.0</td>\n",
       "    </tr>\n",
       "    <tr>\n",
       "      <th>303</th>\n",
       "      <td>Peshawri - ITC Grand Chola</td>\n",
       "      <td>4500.0</td>\n",
       "    </tr>\n",
       "    <tr>\n",
       "      <th>321</th>\n",
       "      <td>The Great Kabab Factory - Radisson Blu GRT Hotel</td>\n",
       "      <td>4000.0</td>\n",
       "    </tr>\n",
       "  </tbody>\n",
       "</table>\n",
       "</div>"
      ],
      "text/plain": [
       "                                   Name of Restaurant  Price for 2\n",
       "826                            Blend - Taj Club House       5000.0\n",
       "803            Salt. Co. 531 - Radisson Blu GRT Hotel       4800.0\n",
       "443                        Avartana - ITC Grand Chola       4500.0\n",
       "303                        Peshawri - ITC Grand Chola       4500.0\n",
       "321  The Great Kabab Factory - Radisson Blu GRT Hotel       4000.0"
      ]
     },
     "execution_count": 173,
     "metadata": {},
     "output_type": "execute_result"
    }
   ],
   "source": [
    "tp_expensive_rest = zomato_chennai[[\"Name of Restaurant\",\"Price for 2\"]].sort_values(by = \"Price for 2\", ascending = False)\n",
    "tp_expensive_rest.head(5)\n"
   ]
  },
  {
   "cell_type": "code",
   "execution_count": 177,
   "id": "c3cb20cb-5f6a-47f9-a6f7-e5c2954e4aba",
   "metadata": {},
   "outputs": [
    {
     "data": {
      "application/vnd.plotly.v1+json": {
       "config": {
        "plotlyServerURL": "https://plot.ly"
       },
       "data": [
        {
         "alignmentgroup": "True",
         "hovertemplate": "Name of Restaurant=%{x}<br>Price for 2=%{y}<extra></extra>",
         "legendgroup": "Blend - Taj Club House",
         "marker": {
          "color": "#636efa",
          "pattern": {
           "shape": ""
          }
         },
         "name": "Blend - Taj Club House",
         "offsetgroup": "Blend - Taj Club House",
         "orientation": "v",
         "showlegend": true,
         "textposition": "auto",
         "type": "bar",
         "x": [
          "Blend - Taj Club House"
         ],
         "xaxis": "x",
         "y": [
          5000
         ],
         "yaxis": "y"
        },
        {
         "alignmentgroup": "True",
         "hovertemplate": "Name of Restaurant=%{x}<br>Price for 2=%{y}<extra></extra>",
         "legendgroup": "Salt. Co. 531 - Radisson Blu GRT Hotel",
         "marker": {
          "color": "#EF553B",
          "pattern": {
           "shape": ""
          }
         },
         "name": "Salt. Co. 531 - Radisson Blu GRT Hotel",
         "offsetgroup": "Salt. Co. 531 - Radisson Blu GRT Hotel",
         "orientation": "v",
         "showlegend": true,
         "textposition": "auto",
         "type": "bar",
         "x": [
          "Salt. Co. 531 - Radisson Blu GRT Hotel"
         ],
         "xaxis": "x",
         "y": [
          4800
         ],
         "yaxis": "y"
        },
        {
         "alignmentgroup": "True",
         "hovertemplate": "Name of Restaurant=%{x}<br>Price for 2=%{y}<extra></extra>",
         "legendgroup": "Avartana - ITC Grand Chola",
         "marker": {
          "color": "#00cc96",
          "pattern": {
           "shape": ""
          }
         },
         "name": "Avartana - ITC Grand Chola",
         "offsetgroup": "Avartana - ITC Grand Chola",
         "orientation": "v",
         "showlegend": true,
         "textposition": "auto",
         "type": "bar",
         "x": [
          "Avartana - ITC Grand Chola"
         ],
         "xaxis": "x",
         "y": [
          4500
         ],
         "yaxis": "y"
        },
        {
         "alignmentgroup": "True",
         "hovertemplate": "Name of Restaurant=%{x}<br>Price for 2=%{y}<extra></extra>",
         "legendgroup": "Peshawri - ITC Grand Chola",
         "marker": {
          "color": "#ab63fa",
          "pattern": {
           "shape": ""
          }
         },
         "name": "Peshawri - ITC Grand Chola",
         "offsetgroup": "Peshawri - ITC Grand Chola",
         "orientation": "v",
         "showlegend": true,
         "textposition": "auto",
         "type": "bar",
         "x": [
          "Peshawri - ITC Grand Chola"
         ],
         "xaxis": "x",
         "y": [
          4500
         ],
         "yaxis": "y"
        },
        {
         "alignmentgroup": "True",
         "hovertemplate": "Name of Restaurant=%{x}<br>Price for 2=%{y}<extra></extra>",
         "legendgroup": "The Great Kabab Factory - Radisson Blu GRT Hotel",
         "marker": {
          "color": "#FFA15A",
          "pattern": {
           "shape": ""
          }
         },
         "name": "The Great Kabab Factory - Radisson Blu GRT Hotel",
         "offsetgroup": "The Great Kabab Factory - Radisson Blu GRT Hotel",
         "orientation": "v",
         "showlegend": true,
         "textposition": "auto",
         "type": "bar",
         "x": [
          "The Great Kabab Factory - Radisson Blu GRT Hotel"
         ],
         "xaxis": "x",
         "y": [
          4000
         ],
         "yaxis": "y"
        }
       ],
       "layout": {
        "autosize": true,
        "barmode": "relative",
        "legend": {
         "title": {
          "text": "Name of Restaurant"
         },
         "tracegroupgap": 0
        },
        "template": {
         "data": {
          "bar": [
           {
            "error_x": {
             "color": "#2a3f5f"
            },
            "error_y": {
             "color": "#2a3f5f"
            },
            "marker": {
             "line": {
              "color": "#E5ECF6",
              "width": 0.5
             },
             "pattern": {
              "fillmode": "overlay",
              "size": 10,
              "solidity": 0.2
             }
            },
            "type": "bar"
           }
          ],
          "barpolar": [
           {
            "marker": {
             "line": {
              "color": "#E5ECF6",
              "width": 0.5
             },
             "pattern": {
              "fillmode": "overlay",
              "size": 10,
              "solidity": 0.2
             }
            },
            "type": "barpolar"
           }
          ],
          "carpet": [
           {
            "aaxis": {
             "endlinecolor": "#2a3f5f",
             "gridcolor": "white",
             "linecolor": "white",
             "minorgridcolor": "white",
             "startlinecolor": "#2a3f5f"
            },
            "baxis": {
             "endlinecolor": "#2a3f5f",
             "gridcolor": "white",
             "linecolor": "white",
             "minorgridcolor": "white",
             "startlinecolor": "#2a3f5f"
            },
            "type": "carpet"
           }
          ],
          "choropleth": [
           {
            "colorbar": {
             "outlinewidth": 0,
             "ticks": ""
            },
            "type": "choropleth"
           }
          ],
          "contour": [
           {
            "colorbar": {
             "outlinewidth": 0,
             "ticks": ""
            },
            "colorscale": [
             [
              0,
              "#0d0887"
             ],
             [
              0.1111111111111111,
              "#46039f"
             ],
             [
              0.2222222222222222,
              "#7201a8"
             ],
             [
              0.3333333333333333,
              "#9c179e"
             ],
             [
              0.4444444444444444,
              "#bd3786"
             ],
             [
              0.5555555555555556,
              "#d8576b"
             ],
             [
              0.6666666666666666,
              "#ed7953"
             ],
             [
              0.7777777777777778,
              "#fb9f3a"
             ],
             [
              0.8888888888888888,
              "#fdca26"
             ],
             [
              1,
              "#f0f921"
             ]
            ],
            "type": "contour"
           }
          ],
          "contourcarpet": [
           {
            "colorbar": {
             "outlinewidth": 0,
             "ticks": ""
            },
            "type": "contourcarpet"
           }
          ],
          "heatmap": [
           {
            "colorbar": {
             "outlinewidth": 0,
             "ticks": ""
            },
            "colorscale": [
             [
              0,
              "#0d0887"
             ],
             [
              0.1111111111111111,
              "#46039f"
             ],
             [
              0.2222222222222222,
              "#7201a8"
             ],
             [
              0.3333333333333333,
              "#9c179e"
             ],
             [
              0.4444444444444444,
              "#bd3786"
             ],
             [
              0.5555555555555556,
              "#d8576b"
             ],
             [
              0.6666666666666666,
              "#ed7953"
             ],
             [
              0.7777777777777778,
              "#fb9f3a"
             ],
             [
              0.8888888888888888,
              "#fdca26"
             ],
             [
              1,
              "#f0f921"
             ]
            ],
            "type": "heatmap"
           }
          ],
          "heatmapgl": [
           {
            "colorbar": {
             "outlinewidth": 0,
             "ticks": ""
            },
            "colorscale": [
             [
              0,
              "#0d0887"
             ],
             [
              0.1111111111111111,
              "#46039f"
             ],
             [
              0.2222222222222222,
              "#7201a8"
             ],
             [
              0.3333333333333333,
              "#9c179e"
             ],
             [
              0.4444444444444444,
              "#bd3786"
             ],
             [
              0.5555555555555556,
              "#d8576b"
             ],
             [
              0.6666666666666666,
              "#ed7953"
             ],
             [
              0.7777777777777778,
              "#fb9f3a"
             ],
             [
              0.8888888888888888,
              "#fdca26"
             ],
             [
              1,
              "#f0f921"
             ]
            ],
            "type": "heatmapgl"
           }
          ],
          "histogram": [
           {
            "marker": {
             "pattern": {
              "fillmode": "overlay",
              "size": 10,
              "solidity": 0.2
             }
            },
            "type": "histogram"
           }
          ],
          "histogram2d": [
           {
            "colorbar": {
             "outlinewidth": 0,
             "ticks": ""
            },
            "colorscale": [
             [
              0,
              "#0d0887"
             ],
             [
              0.1111111111111111,
              "#46039f"
             ],
             [
              0.2222222222222222,
              "#7201a8"
             ],
             [
              0.3333333333333333,
              "#9c179e"
             ],
             [
              0.4444444444444444,
              "#bd3786"
             ],
             [
              0.5555555555555556,
              "#d8576b"
             ],
             [
              0.6666666666666666,
              "#ed7953"
             ],
             [
              0.7777777777777778,
              "#fb9f3a"
             ],
             [
              0.8888888888888888,
              "#fdca26"
             ],
             [
              1,
              "#f0f921"
             ]
            ],
            "type": "histogram2d"
           }
          ],
          "histogram2dcontour": [
           {
            "colorbar": {
             "outlinewidth": 0,
             "ticks": ""
            },
            "colorscale": [
             [
              0,
              "#0d0887"
             ],
             [
              0.1111111111111111,
              "#46039f"
             ],
             [
              0.2222222222222222,
              "#7201a8"
             ],
             [
              0.3333333333333333,
              "#9c179e"
             ],
             [
              0.4444444444444444,
              "#bd3786"
             ],
             [
              0.5555555555555556,
              "#d8576b"
             ],
             [
              0.6666666666666666,
              "#ed7953"
             ],
             [
              0.7777777777777778,
              "#fb9f3a"
             ],
             [
              0.8888888888888888,
              "#fdca26"
             ],
             [
              1,
              "#f0f921"
             ]
            ],
            "type": "histogram2dcontour"
           }
          ],
          "mesh3d": [
           {
            "colorbar": {
             "outlinewidth": 0,
             "ticks": ""
            },
            "type": "mesh3d"
           }
          ],
          "parcoords": [
           {
            "line": {
             "colorbar": {
              "outlinewidth": 0,
              "ticks": ""
             }
            },
            "type": "parcoords"
           }
          ],
          "pie": [
           {
            "automargin": true,
            "type": "pie"
           }
          ],
          "scatter": [
           {
            "fillpattern": {
             "fillmode": "overlay",
             "size": 10,
             "solidity": 0.2
            },
            "type": "scatter"
           }
          ],
          "scatter3d": [
           {
            "line": {
             "colorbar": {
              "outlinewidth": 0,
              "ticks": ""
             }
            },
            "marker": {
             "colorbar": {
              "outlinewidth": 0,
              "ticks": ""
             }
            },
            "type": "scatter3d"
           }
          ],
          "scattercarpet": [
           {
            "marker": {
             "colorbar": {
              "outlinewidth": 0,
              "ticks": ""
             }
            },
            "type": "scattercarpet"
           }
          ],
          "scattergeo": [
           {
            "marker": {
             "colorbar": {
              "outlinewidth": 0,
              "ticks": ""
             }
            },
            "type": "scattergeo"
           }
          ],
          "scattergl": [
           {
            "marker": {
             "colorbar": {
              "outlinewidth": 0,
              "ticks": ""
             }
            },
            "type": "scattergl"
           }
          ],
          "scattermapbox": [
           {
            "marker": {
             "colorbar": {
              "outlinewidth": 0,
              "ticks": ""
             }
            },
            "type": "scattermapbox"
           }
          ],
          "scatterpolar": [
           {
            "marker": {
             "colorbar": {
              "outlinewidth": 0,
              "ticks": ""
             }
            },
            "type": "scatterpolar"
           }
          ],
          "scatterpolargl": [
           {
            "marker": {
             "colorbar": {
              "outlinewidth": 0,
              "ticks": ""
             }
            },
            "type": "scatterpolargl"
           }
          ],
          "scatterternary": [
           {
            "marker": {
             "colorbar": {
              "outlinewidth": 0,
              "ticks": ""
             }
            },
            "type": "scatterternary"
           }
          ],
          "surface": [
           {
            "colorbar": {
             "outlinewidth": 0,
             "ticks": ""
            },
            "colorscale": [
             [
              0,
              "#0d0887"
             ],
             [
              0.1111111111111111,
              "#46039f"
             ],
             [
              0.2222222222222222,
              "#7201a8"
             ],
             [
              0.3333333333333333,
              "#9c179e"
             ],
             [
              0.4444444444444444,
              "#bd3786"
             ],
             [
              0.5555555555555556,
              "#d8576b"
             ],
             [
              0.6666666666666666,
              "#ed7953"
             ],
             [
              0.7777777777777778,
              "#fb9f3a"
             ],
             [
              0.8888888888888888,
              "#fdca26"
             ],
             [
              1,
              "#f0f921"
             ]
            ],
            "type": "surface"
           }
          ],
          "table": [
           {
            "cells": {
             "fill": {
              "color": "#EBF0F8"
             },
             "line": {
              "color": "white"
             }
            },
            "header": {
             "fill": {
              "color": "#C8D4E3"
             },
             "line": {
              "color": "white"
             }
            },
            "type": "table"
           }
          ]
         },
         "layout": {
          "annotationdefaults": {
           "arrowcolor": "#2a3f5f",
           "arrowhead": 0,
           "arrowwidth": 1
          },
          "autotypenumbers": "strict",
          "coloraxis": {
           "colorbar": {
            "outlinewidth": 0,
            "ticks": ""
           }
          },
          "colorscale": {
           "diverging": [
            [
             0,
             "#8e0152"
            ],
            [
             0.1,
             "#c51b7d"
            ],
            [
             0.2,
             "#de77ae"
            ],
            [
             0.3,
             "#f1b6da"
            ],
            [
             0.4,
             "#fde0ef"
            ],
            [
             0.5,
             "#f7f7f7"
            ],
            [
             0.6,
             "#e6f5d0"
            ],
            [
             0.7,
             "#b8e186"
            ],
            [
             0.8,
             "#7fbc41"
            ],
            [
             0.9,
             "#4d9221"
            ],
            [
             1,
             "#276419"
            ]
           ],
           "sequential": [
            [
             0,
             "#0d0887"
            ],
            [
             0.1111111111111111,
             "#46039f"
            ],
            [
             0.2222222222222222,
             "#7201a8"
            ],
            [
             0.3333333333333333,
             "#9c179e"
            ],
            [
             0.4444444444444444,
             "#bd3786"
            ],
            [
             0.5555555555555556,
             "#d8576b"
            ],
            [
             0.6666666666666666,
             "#ed7953"
            ],
            [
             0.7777777777777778,
             "#fb9f3a"
            ],
            [
             0.8888888888888888,
             "#fdca26"
            ],
            [
             1,
             "#f0f921"
            ]
           ],
           "sequentialminus": [
            [
             0,
             "#0d0887"
            ],
            [
             0.1111111111111111,
             "#46039f"
            ],
            [
             0.2222222222222222,
             "#7201a8"
            ],
            [
             0.3333333333333333,
             "#9c179e"
            ],
            [
             0.4444444444444444,
             "#bd3786"
            ],
            [
             0.5555555555555556,
             "#d8576b"
            ],
            [
             0.6666666666666666,
             "#ed7953"
            ],
            [
             0.7777777777777778,
             "#fb9f3a"
            ],
            [
             0.8888888888888888,
             "#fdca26"
            ],
            [
             1,
             "#f0f921"
            ]
           ]
          },
          "colorway": [
           "#636efa",
           "#EF553B",
           "#00cc96",
           "#ab63fa",
           "#FFA15A",
           "#19d3f3",
           "#FF6692",
           "#B6E880",
           "#FF97FF",
           "#FECB52"
          ],
          "font": {
           "color": "#2a3f5f"
          },
          "geo": {
           "bgcolor": "white",
           "lakecolor": "white",
           "landcolor": "#E5ECF6",
           "showlakes": true,
           "showland": true,
           "subunitcolor": "white"
          },
          "hoverlabel": {
           "align": "left"
          },
          "hovermode": "closest",
          "mapbox": {
           "style": "light"
          },
          "paper_bgcolor": "white",
          "plot_bgcolor": "#E5ECF6",
          "polar": {
           "angularaxis": {
            "gridcolor": "white",
            "linecolor": "white",
            "ticks": ""
           },
           "bgcolor": "#E5ECF6",
           "radialaxis": {
            "gridcolor": "white",
            "linecolor": "white",
            "ticks": ""
           }
          },
          "scene": {
           "xaxis": {
            "backgroundcolor": "#E5ECF6",
            "gridcolor": "white",
            "gridwidth": 2,
            "linecolor": "white",
            "showbackground": true,
            "ticks": "",
            "zerolinecolor": "white"
           },
           "yaxis": {
            "backgroundcolor": "#E5ECF6",
            "gridcolor": "white",
            "gridwidth": 2,
            "linecolor": "white",
            "showbackground": true,
            "ticks": "",
            "zerolinecolor": "white"
           },
           "zaxis": {
            "backgroundcolor": "#E5ECF6",
            "gridcolor": "white",
            "gridwidth": 2,
            "linecolor": "white",
            "showbackground": true,
            "ticks": "",
            "zerolinecolor": "white"
           }
          },
          "shapedefaults": {
           "line": {
            "color": "#2a3f5f"
           }
          },
          "ternary": {
           "aaxis": {
            "gridcolor": "white",
            "linecolor": "white",
            "ticks": ""
           },
           "baxis": {
            "gridcolor": "white",
            "linecolor": "white",
            "ticks": ""
           },
           "bgcolor": "#E5ECF6",
           "caxis": {
            "gridcolor": "white",
            "linecolor": "white",
            "ticks": ""
           }
          },
          "title": {
           "x": 0.05
          },
          "xaxis": {
           "automargin": true,
           "gridcolor": "white",
           "linecolor": "white",
           "ticks": "",
           "title": {
            "standoff": 15
           },
           "zerolinecolor": "white",
           "zerolinewidth": 2
          },
          "yaxis": {
           "automargin": true,
           "gridcolor": "white",
           "linecolor": "white",
           "ticks": "",
           "title": {
            "standoff": 15
           },
           "zerolinecolor": "white",
           "zerolinewidth": 2
          }
         }
        },
        "title": {
         "text": "Top 5 most expensive restaurants in Chennai"
        },
        "xaxis": {
         "anchor": "y",
         "autorange": true,
         "categoryarray": [
          "Blend - Taj Club House",
          "Salt. Co. 531 - Radisson Blu GRT Hotel",
          "Avartana - ITC Grand Chola",
          "Peshawri - ITC Grand Chola",
          "The Great Kabab Factory - Radisson Blu GRT Hotel"
         ],
         "categoryorder": "array",
         "domain": [
          0,
          1
         ],
         "range": [
          -0.5,
          4.5
         ],
         "title": {
          "text": "Name of Restaurant"
         },
         "type": "category"
        },
        "yaxis": {
         "anchor": "x",
         "autorange": true,
         "domain": [
          0,
          1
         ],
         "range": [
          0,
          5263.1578947368425
         ],
         "title": {
          "text": "Price for 2"
         },
         "type": "linear"
        }
       }
      },
      "image/png": "[encoded data removed]",
      "text/html": [
       "<div>                            <div id=\"dd344c81-b98f-476c-a798-fd03291230ec\" class=\"plotly-graph-div\" style=\"height:525px; width:100%;\"></div>            <script type=\"text/javascript\">                require([\"plotly\"], function(Plotly) {                    window.PLOTLYENV=window.PLOTLYENV || {};                                    if (document.getElementById(\"dd344c81-b98f-476c-a798-fd03291230ec\")) {                    Plotly.newPlot(                        \"dd344c81-b98f-476c-a798-fd03291230ec\",                        [{\"alignmentgroup\":\"True\",\"hovertemplate\":\"Name of Restaurant=%{x}\\u003cbr\\u003ePrice for 2=%{y}\\u003cextra\\u003e\\u003c\\u002fextra\\u003e\",\"legendgroup\":\"Blend - Taj Club House\",\"marker\":{\"color\":\"#636efa\",\"pattern\":{\"shape\":\"\"}},\"name\":\"Blend - Taj Club House\",\"offsetgroup\":\"Blend - Taj Club House\",\"orientation\":\"v\",\"showlegend\":true,\"textposition\":\"auto\",\"x\":[\"Blend - Taj Club House\"],\"xaxis\":\"x\",\"y\":[5000.0],\"yaxis\":\"y\",\"type\":\"bar\"},{\"alignmentgroup\":\"True\",\"hovertemplate\":\"Name of Restaurant=%{x}\\u003cbr\\u003ePrice for 2=%{y}\\u003cextra\\u003e\\u003c\\u002fextra\\u003e\",\"legendgroup\":\"Salt. Co. 531 - Radisson Blu GRT Hotel\",\"marker\":{\"color\":\"#EF553B\",\"pattern\":{\"shape\":\"\"}},\"name\":\"Salt. Co. 531 - Radisson Blu GRT Hotel\",\"offsetgroup\":\"Salt. Co. 531 - Radisson Blu GRT Hotel\",\"orientation\":\"v\",\"showlegend\":true,\"textposition\":\"auto\",\"x\":[\"Salt. Co. 531 - Radisson Blu GRT Hotel\"],\"xaxis\":\"x\",\"y\":[4800.0],\"yaxis\":\"y\",\"type\":\"bar\"},{\"alignmentgroup\":\"True\",\"hovertemplate\":\"Name of Restaurant=%{x}\\u003cbr\\u003ePrice for 2=%{y}\\u003cextra\\u003e\\u003c\\u002fextra\\u003e\",\"legendgroup\":\"Avartana - ITC Grand Chola\",\"marker\":{\"color\":\"#00cc96\",\"pattern\":{\"shape\":\"\"}},\"name\":\"Avartana - ITC Grand Chola\",\"offsetgroup\":\"Avartana - ITC Grand Chola\",\"orientation\":\"v\",\"showlegend\":true,\"textposition\":\"auto\",\"x\":[\"Avartana - ITC Grand Chola\"],\"xaxis\":\"x\",\"y\":[4500.0],\"yaxis\":\"y\",\"type\":\"bar\"},{\"alignmentgroup\":\"True\",\"hovertemplate\":\"Name of Restaurant=%{x}\\u003cbr\\u003ePrice for 2=%{y}\\u003cextra\\u003e\\u003c\\u002fextra\\u003e\",\"legendgroup\":\"Peshawri - ITC Grand Chola\",\"marker\":{\"color\":\"#ab63fa\",\"pattern\":{\"shape\":\"\"}},\"name\":\"Peshawri - ITC Grand Chola\",\"offsetgroup\":\"Peshawri - ITC Grand Chola\",\"orientation\":\"v\",\"showlegend\":true,\"textposition\":\"auto\",\"x\":[\"Peshawri - ITC Grand Chola\"],\"xaxis\":\"x\",\"y\":[4500.0],\"yaxis\":\"y\",\"type\":\"bar\"},{\"alignmentgroup\":\"True\",\"hovertemplate\":\"Name of Restaurant=%{x}\\u003cbr\\u003ePrice for 2=%{y}\\u003cextra\\u003e\\u003c\\u002fextra\\u003e\",\"legendgroup\":\"The Great Kabab Factory - Radisson Blu GRT Hotel\",\"marker\":{\"color\":\"#FFA15A\",\"pattern\":{\"shape\":\"\"}},\"name\":\"The Great Kabab Factory - Radisson Blu GRT Hotel\",\"offsetgroup\":\"The Great Kabab Factory - Radisson Blu GRT Hotel\",\"orientation\":\"v\",\"showlegend\":true,\"textposition\":\"auto\",\"x\":[\"The Great Kabab Factory - Radisson Blu GRT Hotel\"],\"xaxis\":\"x\",\"y\":[4000.0],\"yaxis\":\"y\",\"type\":\"bar\"}],                        {\"template\":{\"data\":{\"histogram2dcontour\":[{\"type\":\"histogram2dcontour\",\"colorbar\":{\"outlinewidth\":0,\"ticks\":\"\"},\"colorscale\":[[0.0,\"#0d0887\"],[0.1111111111111111,\"#46039f\"],[0.2222222222222222,\"#7201a8\"],[0.3333333333333333,\"#9c179e\"],[0.4444444444444444,\"#bd3786\"],[0.5555555555555556,\"#d8576b\"],[0.6666666666666666,\"#ed7953\"],[0.7777777777777778,\"#fb9f3a\"],[0.8888888888888888,\"#fdca26\"],[1.0,\"#f0f921\"]]}],\"choropleth\":[{\"type\":\"choropleth\",\"colorbar\":{\"outlinewidth\":0,\"ticks\":\"\"}}],\"histogram2d\":[{\"type\":\"histogram2d\",\"colorbar\":{\"outlinewidth\":0,\"ticks\":\"\"},\"colorscale\":[[0.0,\"#0d0887\"],[0.1111111111111111,\"#46039f\"],[0.2222222222222222,\"#7201a8\"],[0.3333333333333333,\"#9c179e\"],[0.4444444444444444,\"#bd3786\"],[0.5555555555555556,\"#d8576b\"],[0.6666666666666666,\"#ed7953\"],[0.7777777777777778,\"#fb9f3a\"],[0.8888888888888888,\"#fdca26\"],[1.0,\"#f0f921\"]]}],\"heatmap\":[{\"type\":\"heatmap\",\"colorbar\":{\"outlinewidth\":0,\"ticks\":\"\"},\"colorscale\":[[0.0,\"#0d0887\"],[0.1111111111111111,\"#46039f\"],[0.2222222222222222,\"#7201a8\"],[0.3333333333333333,\"#9c179e\"],[0.4444444444444444,\"#bd3786\"],[0.5555555555555556,\"#d8576b\"],[0.6666666666666666,\"#ed7953\"],[0.7777777777777778,\"#fb9f3a\"],[0.8888888888888888,\"#fdca26\"],[1.0,\"#f0f921\"]]}],\"heatmapgl\":[{\"type\":\"heatmapgl\",\"colorbar\":{\"outlinewidth\":0,\"ticks\":\"\"},\"colorscale\":[[0.0,\"#0d0887\"],[0.1111111111111111,\"#46039f\"],[0.2222222222222222,\"#7201a8\"],[0.3333333333333333,\"#9c179e\"],[0.4444444444444444,\"#bd3786\"],[0.5555555555555556,\"#d8576b\"],[0.6666666666666666,\"#ed7953\"],[0.7777777777777778,\"#fb9f3a\"],[0.8888888888888888,\"#fdca26\"],[1.0,\"#f0f921\"]]}],\"contourcarpet\":[{\"type\":\"contourcarpet\",\"colorbar\":{\"outlinewidth\":0,\"ticks\":\"\"}}],\"contour\":[{\"type\":\"contour\",\"colorbar\":{\"outlinewidth\":0,\"ticks\":\"\"},\"colorscale\":[[0.0,\"#0d0887\"],[0.1111111111111111,\"#46039f\"],[0.2222222222222222,\"#7201a8\"],[0.3333333333333333,\"#9c179e\"],[0.4444444444444444,\"#bd3786\"],[0.5555555555555556,\"#d8576b\"],[0.6666666666666666,\"#ed7953\"],[0.7777777777777778,\"#fb9f3a\"],[0.8888888888888888,\"#fdca26\"],[1.0,\"#f0f921\"]]}],\"surface\":[{\"type\":\"surface\",\"colorbar\":{\"outlinewidth\":0,\"ticks\":\"\"},\"colorscale\":[[0.0,\"#0d0887\"],[0.1111111111111111,\"#46039f\"],[0.2222222222222222,\"#7201a8\"],[0.3333333333333333,\"#9c179e\"],[0.4444444444444444,\"#bd3786\"],[0.5555555555555556,\"#d8576b\"],[0.6666666666666666,\"#ed7953\"],[0.7777777777777778,\"#fb9f3a\"],[0.8888888888888888,\"#fdca26\"],[1.0,\"#f0f921\"]]}],\"mesh3d\":[{\"type\":\"mesh3d\",\"colorbar\":{\"outlinewidth\":0,\"ticks\":\"\"}}],\"scatter\":[{\"fillpattern\":{\"fillmode\":\"overlay\",\"size\":10,\"solidity\":0.2},\"type\":\"scatter\"}],\"parcoords\":[{\"type\":\"parcoords\",\"line\":{\"colorbar\":{\"outlinewidth\":0,\"ticks\":\"\"}}}],\"scatterpolargl\":[{\"type\":\"scatterpolargl\",\"marker\":{\"colorbar\":{\"outlinewidth\":0,\"ticks\":\"\"}}}],\"bar\":[{\"error_x\":{\"color\":\"#2a3f5f\"},\"error_y\":{\"color\":\"#2a3f5f\"},\"marker\":{\"line\":{\"color\":\"#E5ECF6\",\"width\":0.5},\"pattern\":{\"fillmode\":\"overlay\",\"size\":10,\"solidity\":0.2}},\"type\":\"bar\"}],\"scattergeo\":[{\"type\":\"scattergeo\",\"marker\":{\"colorbar\":{\"outlinewidth\":0,\"ticks\":\"\"}}}],\"scatterpolar\":[{\"type\":\"scatterpolar\",\"marker\":{\"colorbar\":{\"outlinewidth\":0,\"ticks\":\"\"}}}],\"histogram\":[{\"marker\":{\"pattern\":{\"fillmode\":\"overlay\",\"size\":10,\"solidity\":0.2}},\"type\":\"histogram\"}],\"scattergl\":[{\"type\":\"scattergl\",\"marker\":{\"colorbar\":{\"outlinewidth\":0,\"ticks\":\"\"}}}],\"scatter3d\":[{\"type\":\"scatter3d\",\"line\":{\"colorbar\":{\"outlinewidth\":0,\"ticks\":\"\"}},\"marker\":{\"colorbar\":{\"outlinewidth\":0,\"ticks\":\"\"}}}],\"scattermapbox\":[{\"type\":\"scattermapbox\",\"marker\":{\"colorbar\":{\"outlinewidth\":0,\"ticks\":\"\"}}}],\"scatterternary\":[{\"type\":\"scatterternary\",\"marker\":{\"colorbar\":{\"outlinewidth\":0,\"ticks\":\"\"}}}],\"scattercarpet\":[{\"type\":\"scattercarpet\",\"marker\":{\"colorbar\":{\"outlinewidth\":0,\"ticks\":\"\"}}}],\"carpet\":[{\"aaxis\":{\"endlinecolor\":\"#2a3f5f\",\"gridcolor\":\"white\",\"linecolor\":\"white\",\"minorgridcolor\":\"white\",\"startlinecolor\":\"#2a3f5f\"},\"baxis\":{\"endlinecolor\":\"#2a3f5f\",\"gridcolor\":\"white\",\"linecolor\":\"white\",\"minorgridcolor\":\"white\",\"startlinecolor\":\"#2a3f5f\"},\"type\":\"carpet\"}],\"table\":[{\"cells\":{\"fill\":{\"color\":\"#EBF0F8\"},\"line\":{\"color\":\"white\"}},\"header\":{\"fill\":{\"color\":\"#C8D4E3\"},\"line\":{\"color\":\"white\"}},\"type\":\"table\"}],\"barpolar\":[{\"marker\":{\"line\":{\"color\":\"#E5ECF6\",\"width\":0.5},\"pattern\":{\"fillmode\":\"overlay\",\"size\":10,\"solidity\":0.2}},\"type\":\"barpolar\"}],\"pie\":[{\"automargin\":true,\"type\":\"pie\"}]},\"layout\":{\"autotypenumbers\":\"strict\",\"colorway\":[\"#636efa\",\"#EF553B\",\"#00cc96\",\"#ab63fa\",\"#FFA15A\",\"#19d3f3\",\"#FF6692\",\"#B6E880\",\"#FF97FF\",\"#FECB52\"],\"font\":{\"color\":\"#2a3f5f\"},\"hovermode\":\"closest\",\"hoverlabel\":{\"align\":\"left\"},\"paper_bgcolor\":\"white\",\"plot_bgcolor\":\"#E5ECF6\",\"polar\":{\"bgcolor\":\"#E5ECF6\",\"angularaxis\":{\"gridcolor\":\"white\",\"linecolor\":\"white\",\"ticks\":\"\"},\"radialaxis\":{\"gridcolor\":\"white\",\"linecolor\":\"white\",\"ticks\":\"\"}},\"ternary\":{\"bgcolor\":\"#E5ECF6\",\"aaxis\":{\"gridcolor\":\"white\",\"linecolor\":\"white\",\"ticks\":\"\"},\"baxis\":{\"gridcolor\":\"white\",\"linecolor\":\"white\",\"ticks\":\"\"},\"caxis\":{\"gridcolor\":\"white\",\"linecolor\":\"white\",\"ticks\":\"\"}},\"coloraxis\":{\"colorbar\":{\"outlinewidth\":0,\"ticks\":\"\"}},\"colorscale\":{\"sequential\":[[0.0,\"#0d0887\"],[0.1111111111111111,\"#46039f\"],[0.2222222222222222,\"#7201a8\"],[0.3333333333333333,\"#9c179e\"],[0.4444444444444444,\"#bd3786\"],[0.5555555555555556,\"#d8576b\"],[0.6666666666666666,\"#ed7953\"],[0.7777777777777778,\"#fb9f3a\"],[0.8888888888888888,\"#fdca26\"],[1.0,\"#f0f921\"]],\"sequentialminus\":[[0.0,\"#0d0887\"],[0.1111111111111111,\"#46039f\"],[0.2222222222222222,\"#7201a8\"],[0.3333333333333333,\"#9c179e\"],[0.4444444444444444,\"#bd3786\"],[0.5555555555555556,\"#d8576b\"],[0.6666666666666666,\"#ed7953\"],[0.7777777777777778,\"#fb9f3a\"],[0.8888888888888888,\"#fdca26\"],[1.0,\"#f0f921\"]],\"diverging\":[[0,\"#8e0152\"],[0.1,\"#c51b7d\"],[0.2,\"#de77ae\"],[0.3,\"#f1b6da\"],[0.4,\"#fde0ef\"],[0.5,\"#f7f7f7\"],[0.6,\"#e6f5d0\"],[0.7,\"#b8e186\"],[0.8,\"#7fbc41\"],[0.9,\"#4d9221\"],[1,\"#276419\"]]},\"xaxis\":{\"gridcolor\":\"white\",\"linecolor\":\"white\",\"ticks\":\"\",\"title\":{\"standoff\":15},\"zerolinecolor\":\"white\",\"automargin\":true,\"zerolinewidth\":2},\"yaxis\":{\"gridcolor\":\"white\",\"linecolor\":\"white\",\"ticks\":\"\",\"title\":{\"standoff\":15},\"zerolinecolor\":\"white\",\"automargin\":true,\"zerolinewidth\":2},\"scene\":{\"xaxis\":{\"backgroundcolor\":\"#E5ECF6\",\"gridcolor\":\"white\",\"linecolor\":\"white\",\"showbackground\":true,\"ticks\":\"\",\"zerolinecolor\":\"white\",\"gridwidth\":2},\"yaxis\":{\"backgroundcolor\":\"#E5ECF6\",\"gridcolor\":\"white\",\"linecolor\":\"white\",\"showbackground\":true,\"ticks\":\"\",\"zerolinecolor\":\"white\",\"gridwidth\":2},\"zaxis\":{\"backgroundcolor\":\"#E5ECF6\",\"gridcolor\":\"white\",\"linecolor\":\"white\",\"showbackground\":true,\"ticks\":\"\",\"zerolinecolor\":\"white\",\"gridwidth\":2}},\"shapedefaults\":{\"line\":{\"color\":\"#2a3f5f\"}},\"annotationdefaults\":{\"arrowcolor\":\"#2a3f5f\",\"arrowhead\":0,\"arrowwidth\":1},\"geo\":{\"bgcolor\":\"white\",\"landcolor\":\"#E5ECF6\",\"subunitcolor\":\"white\",\"showland\":true,\"showlakes\":true,\"lakecolor\":\"white\"},\"title\":{\"x\":0.05},\"mapbox\":{\"style\":\"light\"}}},\"xaxis\":{\"anchor\":\"y\",\"domain\":[0.0,1.0],\"title\":{\"text\":\"Name of Restaurant\"},\"categoryorder\":\"array\",\"categoryarray\":[\"Blend - Taj Club House\",\"Salt. Co. 531 - Radisson Blu GRT Hotel\",\"Avartana - ITC Grand Chola\",\"Peshawri - ITC Grand Chola\",\"The Great Kabab Factory - Radisson Blu GRT Hotel\"]},\"yaxis\":{\"anchor\":\"x\",\"domain\":[0.0,1.0],\"title\":{\"text\":\"Price for 2\"}},\"legend\":{\"title\":{\"text\":\"Name of Restaurant\"},\"tracegroupgap\":0},\"title\":{\"text\":\"Top 5 most expensive restaurants in Chennai\"},\"barmode\":\"relative\"},                        {\"responsive\": true}                    ).then(function(){\n",
       "                            \n",
       "var gd = document.getElementById('dd344c81-b98f-476c-a798-fd03291230ec');\n",
       "var x = new MutationObserver(function (mutations, observer) {{\n",
       "        var display = window.getComputedStyle(gd).display;\n",
       "        if (!display || display === 'none') {{\n",
       "            console.log([gd, 'removed!']);\n",
       "            Plotly.purge(gd);\n",
       "            observer.disconnect();\n",
       "        }}\n",
       "}});\n",
       "\n",
       "// Listen for the removal of the full notebook cells\n",
       "var notebookContainer = gd.closest('#notebook-container');\n",
       "if (notebookContainer) {{\n",
       "    x.observe(notebookContainer, {childList: true});\n",
       "}}\n",
       "\n",
       "// Listen for the clearing of the current output cell\n",
       "var outputEl = gd.closest('.output');\n",
       "if (outputEl) {{\n",
       "    x.observe(outputEl, {childList: true});\n",
       "}}\n",
       "\n",
       "                        })                };                });            </script>        </div>"
      ]
     },
     "metadata": {},
     "output_type": "display_data"
    }
   ],
   "source": [
    "px.bar(tp_expensive_rest.head(5), x='Name of Restaurant', y='Price for 2', color='Name of Restaurant', title= \"Top 5 most expensive restaurants in Chennai\")"
   ]
  },
  {
   "cell_type": "markdown",
   "id": "0f5aa30a-f6ee-46c6-87e6-adedee1f6225",
   "metadata": {},
   "source": [
    "7) Is there any correlation between restaurant rating and location popularity?"
   ]
  },
  {
   "cell_type": "code",
   "execution_count": 213,
   "id": "a5adf2fd-55a6-47f5-a4de-b4f955277f8b",
   "metadata": {},
   "outputs": [
    {
     "data": {
      "text/html": [
       "<div>\n",
       "<style scoped>\n",
       "    .dataframe tbody tr th:only-of-type {\n",
       "        vertical-align: middle;\n",
       "    }\n",
       "\n",
       "    .dataframe tbody tr th {\n",
       "        vertical-align: top;\n",
       "    }\n",
       "\n",
       "    .dataframe thead th {\n",
       "        text-align: right;\n",
       "    }\n",
       "</style>\n",
       "<table border=\"1\" class=\"dataframe\">\n",
       "  <thead>\n",
       "    <tr style=\"text-align: right;\">\n",
       "      <th></th>\n",
       "      <th>Location</th>\n",
       "      <th>Dining Rating</th>\n",
       "    </tr>\n",
       "  </thead>\n",
       "  <tbody>\n",
       "    <tr>\n",
       "      <th>137</th>\n",
       "      <td>Grand by GRT Hotels</td>\n",
       "      <td>4.47</td>\n",
       "    </tr>\n",
       "    <tr>\n",
       "      <th>145</th>\n",
       "      <td>Foodies Kitchen</td>\n",
       "      <td>4.37</td>\n",
       "    </tr>\n",
       "    <tr>\n",
       "      <th>161</th>\n",
       "      <td>Somerset Greenways</td>\n",
       "      <td>4.30</td>\n",
       "    </tr>\n",
       "    <tr>\n",
       "      <th>124</th>\n",
       "      <td>MRC Nagar</td>\n",
       "      <td>4.17</td>\n",
       "    </tr>\n",
       "    <tr>\n",
       "      <th>175</th>\n",
       "      <td>Mahabalipuram</td>\n",
       "      <td>4.10</td>\n",
       "    </tr>\n",
       "    <tr>\n",
       "      <th>...</th>\n",
       "      <td>...</td>\n",
       "      <td>...</td>\n",
       "    </tr>\n",
       "    <tr>\n",
       "      <th>167</th>\n",
       "      <td>Triplicane</td>\n",
       "      <td>2.00</td>\n",
       "    </tr>\n",
       "    <tr>\n",
       "      <th>155</th>\n",
       "      <td>RK Salai (Cathedral Road)</td>\n",
       "      <td>1.95</td>\n",
       "    </tr>\n",
       "    <tr>\n",
       "      <th>90</th>\n",
       "      <td>Shenoy Nagar</td>\n",
       "      <td>1.75</td>\n",
       "    </tr>\n",
       "    <tr>\n",
       "      <th>89</th>\n",
       "      <td>Mandaveli</td>\n",
       "      <td>1.54</td>\n",
       "    </tr>\n",
       "    <tr>\n",
       "      <th>128</th>\n",
       "      <td>Abhiramapuram</td>\n",
       "      <td>1.44</td>\n",
       "    </tr>\n",
       "  </tbody>\n",
       "</table>\n",
       "<p>179 rows × 2 columns</p>\n",
       "</div>"
      ],
      "text/plain": [
       "                      Location  Dining Rating\n",
       "137        Grand by GRT Hotels           4.47\n",
       "145            Foodies Kitchen           4.37\n",
       "161         Somerset Greenways           4.30\n",
       "124                  MRC Nagar           4.17\n",
       "175             Mahabalipuram            4.10\n",
       "..                         ...            ...\n",
       "167                 Triplicane           2.00\n",
       "155  RK Salai (Cathedral Road)           1.95\n",
       "90                Shenoy Nagar           1.75\n",
       "89                   Mandaveli           1.54\n",
       "128              Abhiramapuram           1.44\n",
       "\n",
       "[179 rows x 2 columns]"
      ]
     },
     "execution_count": 213,
     "metadata": {},
     "output_type": "execute_result"
    }
   ],
   "source": [
    "location_popularity = zomato_chennai[\"Location\"].value_counts()\n",
    "location_rating= zomato_chennai.groupby(\"Location\")[\"Dining Rating\"].mean()\n",
    "\n",
    "location_data = location_rating.loc[location_popularity.index].reset_index().sort_values(by = \"Dining Rating\",ascending = False)\n",
    "location_data[\"Dining Rating\"] = location_data[\"Dining Rating\"].round(2)\n",
    "location_data\n"
   ]
  },
  {
   "cell_type": "code",
   "execution_count": 220,
   "id": "3374dbd6-5df3-466a-bff6-2e696863e887",
   "metadata": {},
   "outputs": [
    {
     "data": {
      "text/plain": [
       "Text(0, 0.5, 'Average Rating')"
      ]
     },
     "execution_count": 220,
     "metadata": {},
     "output_type": "execute_result"
    },
    {
     "data": {
      "image/png": "[encoded data removed]",
      "text/plain": [
       "<Figure size 640x480 with 1 Axes>"
      ]
     },
     "metadata": {},
     "output_type": "display_data"
    }
   ],
   "source": [
    "seaborn.scatterplot(x=location_popularity.values, y=location_rating.values, color='darkgreen')\n",
    "plt.title('Restaurant Rating vs. Location Popularity')\n",
    "plt.xlabel('Location Popularity (Number of Restaurants)')\n",
    "plt.ylabel('Average Rating')\n"
   ]
  },
  {
   "cell_type": "markdown",
   "id": "3a88960d-9bcd-47b8-a877-1cb7032ee902",
   "metadata": {},
   "source": [
    "8) Are there any trends in restaurant ratings by the number of reviews?"
   ]
  },
  {
   "cell_type": "code",
   "execution_count": 226,
   "id": "78a26662-755e-43d3-be45-cb55d8f36d78",
   "metadata": {},
   "outputs": [
    {
     "data": {
      "text/plain": [
       "Text(0, 0.5, 'Rating')"
      ]
     },
     "execution_count": 226,
     "metadata": {},
     "output_type": "execute_result"
    },
    {
     "data": {
      "image/png": "[encoded data removed]",
      "text/plain": [
       "<Figure size 640x480 with 1 Axes>"
      ]
     },
     "metadata": {},
     "output_type": "display_data"
    }
   ],
   "source": [
    "seaborn.scatterplot(x='Dining Rating Count', y='Dining Rating', data=zomato_chennai, color='orange')\n",
    "plt.title('Restaurant Rating vs. Number of Reviews')\n",
    "plt.xlabel('Number of Reviews')\n",
    "plt.ylabel('Rating')\n"
   ]
  },
  {
   "cell_type": "markdown",
   "id": "ab13aaa3-2cf0-4981-a059-dcd092d72bed",
   "metadata": {},
   "source": [
    "9) Is there a correlation between restaurant rating and delivery rating?"
   ]
  },
  {
   "cell_type": "code",
   "execution_count": 239,
   "id": "b24c01a9-cf5d-4896-9584-db1437d8294c",
   "metadata": {},
   "outputs": [
    {
     "data": {
      "text/plain": [
       "Text(0, 0.5, 'Delivery Rating')"
      ]
     },
     "execution_count": 239,
     "metadata": {},
     "output_type": "execute_result"
    },
    {
     "data": {
      "image/png": "[encoded data removed]",
      "text/plain": [
       "<Figure size 640x480 with 1 Axes>"
      ]
     },
     "metadata": {},
     "output_type": "display_data"
    }
   ],
   "source": [
    "seaborn.scatterplot(x='Dining Rating', y='Delivery Rating', data=zomato_chennai, color='purple', alpha=0.6)\n",
    "plt.title('Correlation Between Restaurant Rating and Delivery Rating')\n",
    "plt.xlabel('Restaurant Rating')\n",
    "plt.ylabel('Delivery Rating')\n",
    " "
   ]
  },
  {
   "cell_type": "markdown",
   "id": "11e770e4-89a3-4f6c-9bd4-7149bf2a0a37",
   "metadata": {},
   "source": [
    "10) What is the distribution of restaurant prices for different cuisines?"
   ]
  },
  {
   "cell_type": "code",
   "execution_count": 252,
   "id": "ed2620a0-700f-419f-a644-327dbf0f9c13",
   "metadata": {},
   "outputs": [
    {
     "data": {
      "text/plain": [
       "Cuisine\n",
       "Continental,  Asian,  Mexican,  Italian                                   4800.0\n",
       "South Indian,  Chinese,  Desserts                                         4500.0\n",
       "Kebab,  Mughlai,  Biryani                                                 4000.0\n",
       "Continental,  European                                                    4000.0\n",
       "Seafood,  South Indian,  Andhra,  Kerala                                  3500.0\n",
       "Continental,  Burger,  Italian,  French                                   3500.0\n",
       "North Indian,  Continental,  Asian                                        3400.0\n",
       "Italian,  European                                                        3300.0\n",
       "Japanese,  Sushi,  BBQ                                                    3000.0\n",
       "North Indian,  South Indian,  Italian,  Mediterranean,  Thai,  Seafood    3000.0\n",
       "Name: Price for 2, dtype: float64"
      ]
     },
     "execution_count": 252,
     "metadata": {},
     "output_type": "execute_result"
    }
   ],
   "source": [
    "cusine_price = zomato_chennai.groupby(\"Cuisine\")[\"Price for 2\"].mean().sort_values(ascending = False)\n",
    "cusine_price = cusine_price.head(10)\n",
    "cusine_price"
   ]
  },
  {
   "cell_type": "code",
   "execution_count": 253,
   "id": "ee7c98ff-511f-4c82-bd5d-e355453ebe5c",
   "metadata": {},
   "outputs": [
    {
     "data": {
      "image/png": "[encoded data removed]",
      "text/plain": [
       "<Figure size 640x480 with 1 Axes>"
      ]
     },
     "metadata": {},
     "output_type": "display_data"
    }
   ],
   "source": [
    "seaborn.barplot(x=cusine_price.index, y=cusine_price.values, palette='coolwarm')\n",
    "plt.title('Average Price Range by Cuisine')\n",
    "plt.xlabel('Cuisine')\n",
    "plt.ylabel('Average Price Range')\n",
    "plt.xticks(rotation=45)\n",
    "plt.show()\n"
   ]
  }
 ],
 "metadata": {
  "kernelspec": {
   "display_name": "Python 3 (ipykernel)",
   "language": "python",
   "name": "python3"
  },
  "language_info": {
   "codemirror_mode": {
    "name": "ipython",
    "version": 3
   },
   "file_extension": ".py",
   "mimetype": "text/x-python",
   "name": "python",
   "nbconvert_exporter": "python",
   "pygments_lexer": "ipython3",
   "version": "3.12.7"
  }
 },
 "nbformat": 4,
 "nbformat_minor": 5
}
